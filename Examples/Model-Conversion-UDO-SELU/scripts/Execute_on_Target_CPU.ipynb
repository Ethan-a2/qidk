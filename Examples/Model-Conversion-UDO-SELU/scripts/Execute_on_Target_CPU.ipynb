{
 "cells": [
  {
   "cell_type": "markdown",
   "id": "4907cf34",
   "metadata": {},
   "source": [
    "# Script to Run UDO Implementation on Device"
   ]
  },
  {
   "cell_type": "raw",
   "id": "458d57f4",
   "metadata": {},
   "source": [
    "# IMPORTANT :: \n",
    "* CHECK IF ALL PATHS HAVE APPROPRIATE PERMISSIONS OR NOT\n",
    "* SET \"SNPE_ROOT\" PATH BELOW"
   ]
  },
  {
   "cell_type": "code",
   "execution_count": 1,
   "id": "b30f60c9",
   "metadata": {},
   "outputs": [],
   "source": [
    "import os"
   ]
  },
  {
   "cell_type": "markdown",
   "id": "463538f8",
   "metadata": {},
   "source": [
    "# Set path and initialization for below variables."
   ]
  },
  {
   "cell_type": "code",
   "execution_count": 2,
   "id": "5c8b4ff1",
   "metadata": {},
   "outputs": [],
   "source": [
    "os.environ['SNPE_ROOT']=\"/local/mnt/workspace/sdks/snpe/snpe-2.7.0.4126\" #PATH TO SNPE \n",
    "os.environ['RAW_FILE_FOLDER']=\"rawfiles\" #PATH TO FOLDER CONTAINING (\".raw\") INPUT FILE FOR MODEL \n",
    "os.environ['FOLDER_WITH_ARTIFACTS']=\"../../UDO_SELU\" #BASE FOLDER                 \n",
    "os.environ['DLC_PATH']=\"model/selu_udo.dlc\" #PATH TO DLC\n",
    "os.environ['TARGET_INPUT_LIST']=\"raw_list.txt\" #PATH TO TEXT FILE CONTAINING INPUT FILE PATHS\n",
    "os.environ['ONDEVICE_FOLDER']=\"selu\" #FOLDER NAME FOR DEVICE.\n",
    "os.environ['DEVICE_HOST']=\"localhost\"\n",
    "os.environ['DEVICE_ID']=\"b809ee77\" #GET DEVICE ID FOR YOUR BOARD USING \"adb devices\"\n",
    "os.environ['SNPE_TARGET_ARCH']=\"aarch64-android-clang8.0\" #TARGET ACHITECTURE\n",
    "os.environ['SNPE_TARGET_STL']=\"libc++_shared.so\" #LIBRARY\n",
    "os.environ['UDO_CREATED_TARGET_LIBS']=\"SeluUdoPackage/libs/arm64-v8a\"#PATH TO LIBS CREATED FOR TARGET DEVICE EXAMPLE PATH :: complete/path/to/SoftmaxUdoPackage/libs/arm64-v8a/\n",
    "os.environ['SET_DEVICE_PATH_SCRIPT']=\"bash_fun_device.sh\"#PATH TO SCRIPT WHICH SET's PATHS ON TARGET"
   ]
  },
  {
   "cell_type": "markdown",
   "id": "2d9f4ddb",
   "metadata": {},
   "source": [
    "# Creating bin and lib folder on target"
   ]
  },
  {
   "cell_type": "code",
   "execution_count": 3,
   "id": "ef3a055f",
   "metadata": {},
   "outputs": [],
   "source": [
    "%%bash\n",
    "export DEVICE_SHELL=\"adb -H $DEVICE_HOST -s $DEVICE_ID\"\n",
    "$DEVICE_SHELL shell \"mkdir -p /data/local/tmp/snpeexample/$SNPE_TARGET_ARCH/bin\" && $DEVICE_SHELL shell \"mkdir -p /data/local/tmp/snpeexample/$SNPE_TARGET_ARCH/lib\" && $DEVICE_SHELL shell \"mkdir -p /data/local/tmp/$ONDEVICE_FOLDER\" && adb shell \"mkdir -p /data/local/tmp/$ONDEVICE_FOLDER/cpu\""
   ]
  },
  {
   "cell_type": "markdown",
   "id": "cf3e31e3",
   "metadata": {},
   "source": [
    "# Push snpe binaries and libraries to the target device"
   ]
  },
  {
   "cell_type": "code",
   "execution_count": 4,
   "id": "8d85ef83",
   "metadata": {},
   "outputs": [
    {
     "name": "stdout",
     "output_type": "stream",
     "text": [
      "/local/mnt/workspace/sdks/snpe/snpe-2.7.0.4126/lib/aarch64-android-clang8.0/libc++_shared.so: 1 file pushed, 0 skipped. 450.5 MB/s (6835688 bytes in 0.014s)\n",
      "/local/mnt/workspace/sdks/snpe/snpe-2.7.0.4126/lib/aarch64-android-clang8.0/libcalculator_htp.so: 1 file pushed, 0 skipped. 71.8 MB/s (5736 bytes in 0.000s)\n",
      "/local/mnt/workspace/sdks/snpe/snpe-2.7.0.4126/lib/aarch64-android-clang8.0/libcalculator.so: 1 file pushed, 0 skipped. 163.2 MB/s (14128 bytes in 0.000s)\n",
      "/local/mnt/workspace/sdks/snpe/snpe-2.7.0.4126/lib/aarch64-android-clang8.0/libc++_shared.so: 1 file pushed, 0 skipped. 378.4 MB/s (6835688 bytes in 0.017s)\n",
      "/local/mnt/workspace/sdks/snpe/snpe-2.7.0.4126/lib/aarch64-android-clang8.0/libhta_hexagon_runtime_snpe.so: 1 file pushed, 0 skipped. 398.3 MB/s (2773384 bytes in 0.007s)\n",
      "/local/mnt/workspace/sdks/snpe/snpe-2.7.0.4126/lib/aarch64-android-clang8.0/libPlatformValidatorShared.so: 1 file pushed, 0 skipped. 301.4 MB/s (8689808 bytes in 0.027s)\n",
      "/local/mnt/workspace/sdks/snpe/snpe-2.7.0.4126/lib/aarch64-android-clang8.0/libSnpeDspV65Stub.so: 1 file pushed, 0 skipped. 236.3 MB/s (1770392 bytes in 0.007s)\n",
      "/local/mnt/workspace/sdks/snpe/snpe-2.7.0.4126/lib/aarch64-android-clang8.0/libSnpeDspV66Stub.so: 1 file pushed, 0 skipped. 401.7 MB/s (1762200 bytes in 0.004s)\n",
      "/local/mnt/workspace/sdks/snpe/snpe-2.7.0.4126/lib/aarch64-android-clang8.0/libSnpeHta.so: 1 file pushed, 0 skipped. 92.5 MB/s (1269176 bytes in 0.013s)\n",
      "/local/mnt/workspace/sdks/snpe/snpe-2.7.0.4126/lib/aarch64-android-clang8.0/libSnpeHtpPrepare.so: 1 file pushed, 0 skipped. 418.5 MB/s (18984232 bytes in 0.043s)\n",
      "/local/mnt/workspace/sdks/snpe/snpe-2.7.0.4126/lib/aarch64-android-clang8.0/libSnpeHtpV68Stub.so: 1 file pushed, 0 skipped. 444.9 MB/s (383184 bytes in 0.001s)\n",
      "/local/mnt/workspace/sdks/snpe/snpe-2.7.0.4126/lib/aarch64-android-clang8.0/libSnpeHtpV69Stub.so: 1 file pushed, 0 skipped. 132.2 MB/s (387280 bytes in 0.003s)\n",
      "/local/mnt/workspace/sdks/snpe/snpe-2.7.0.4126/lib/aarch64-android-clang8.0/libSnpeHtpV73Stub.so: 1 file pushed, 0 skipped. 419.4 MB/s (383184 bytes in 0.001s)\n",
      "/local/mnt/workspace/sdks/snpe/snpe-2.7.0.4126/lib/aarch64-android-clang8.0/libSNPE.so: 1 file pushed, 0 skipped. 414.1 MB/s (11087104 bytes in 0.026s)\n",
      "13 files pushed, 0 skipped. 251.2 MB/s (54345496 bytes in 0.206s)\n",
      "/local/mnt/workspace/sdks/snpe/snpe-2.7.0.4126/bin/aarch64-android-clang8.0/snpe-net-run: 1 file pushed, 0 skipped. 316.4 MB/s (561296 bytes in 0.002s)\n",
      "bash_fun_device.sh: 1 file pushed, 0 skipped. 10.1 MB/s (364 bytes in 0.000s)\n"
     ]
    }
   ],
   "source": [
    "%%bash\n",
    "export DEVICE_SHELL=\"adb -H $DEVICE_HOST -s $DEVICE_ID\"\n",
    "$DEVICE_SHELL push $SNPE_ROOT/lib/$SNPE_TARGET_ARCH/$SNPE_TARGET_STL /data/local/tmp/snpeexample/$SNPE_TARGET_ARCH/lib\n",
    "$DEVICE_SHELL push $SNPE_ROOT/lib/$SNPE_TARGET_ARCH/*.so /data/local/tmp/snpeexample/$SNPE_TARGET_ARCH/lib\n",
    "$DEVICE_SHELL push $SNPE_ROOT/bin/$SNPE_TARGET_ARCH/snpe-net-run /data/local/tmp/snpeexample/$SNPE_TARGET_ARCH/bin\n",
    "$DEVICE_SHELL push bash_fun_device.sh /data/local/tmp/$ONDEVICE_FOLDER"
   ]
  },
  {
   "cell_type": "markdown",
   "id": "dc224849",
   "metadata": {},
   "source": [
    "# Push the udo model and input data to the device"
   ]
  },
  {
   "cell_type": "code",
   "execution_count": 5,
   "id": "1c9a389f",
   "metadata": {},
   "outputs": [
    {
     "name": "stdout",
     "output_type": "stream",
     "text": [
      "rawfiles/: 1 file pushed, 0 skipped. 0.4 MB/s (3136 bytes in 0.007s)\n",
      "raw_list.txt: 1 file pushed, 0 skipped. 0.1 MB/s (18 bytes in 0.000s)\n",
      "model/selu_udo.dlc: 1 file pushed, 0 skipped. 121.5 MB/s (2437047 bytes in 0.019s)\n"
     ]
    }
   ],
   "source": [
    "%%bash\n",
    "export DEVICE_SHELL=\"adb -H $DEVICE_HOST -s $DEVICE_ID\"\n",
    "# CHANGE DIRECTORY TO ARTIFCAT FOLDER\n",
    "cd $FOLDER_WITH_ARTIFACTS\n",
    "# PUSH THE UDO MODEL AND INPUT DATA TO THE DEVICE\n",
    "$DEVICE_SHELL push $RAW_FILE_FOLDER /data/local/tmp/$ONDEVICE_FOLDER/rawfiles\n",
    "$DEVICE_SHELL push $TARGET_INPUT_LIST /data/local/tmp/$ONDEVICE_FOLDER\n",
    "$DEVICE_SHELL push $DLC_PATH /data/local/tmp/$ONDEVICE_FOLDER\n",
    "\n"
   ]
  },
  {
   "cell_type": "markdown",
   "id": "e0e7d472",
   "metadata": {},
   "source": [
    "# Place the udo libraries on the device"
   ]
  },
  {
   "cell_type": "code",
   "execution_count": 6,
   "id": "9c3a7241",
   "metadata": {},
   "outputs": [
    {
     "name": "stdout",
     "output_type": "stream",
     "text": [
      "SeluUdoPackage/libs/arm64-v8a/libUdoSeluUdoPackageImplCpu.so: 1 file pushed, 0 skipped. 303.8 MB/s (26656 bytes in 0.000s)\n",
      "SeluUdoPackage/libs/arm64-v8a/libUdoSeluUdoPackageReg.so: 1 file pushed, 0 skipped. 34.2 MB/s (79864 bytes in 0.002s)\n",
      "SeluUdoPackage/libs/arm64-v8a/libc++_shared.so: 1 file pushed, 0 skipped. 63.3 MB/s (977256 bytes in 0.015s)\n"
     ]
    }
   ],
   "source": [
    "%%bash\n",
    "export DEVICE_SHELL=\"adb -H $DEVICE_HOST -s $DEVICE_ID\"\n",
    "# CHANGE DIRECTORY TO ARTIFCAT FOLDER\n",
    "cd $FOLDER_WITH_ARTIFACTS\n",
    "# PLACE THE UDO LIBRARIES ON THE DEVICE\n",
    "$DEVICE_SHELL push $UDO_CREATED_TARGET_LIBS/libUdoSeluUdoPackageImplCpu.so /data/local/tmp/$ONDEVICE_FOLDER/cpu\n",
    "$DEVICE_SHELL push $UDO_CREATED_TARGET_LIBS/libUdoSeluUdoPackageReg.so /data/local/tmp/$ONDEVICE_FOLDER/cpu\n",
    "$DEVICE_SHELL push $UDO_CREATED_TARGET_LIBS/libc++_shared.so /data/local/tmp/$ONDEVICE_FOLDER/cpu"
   ]
  },
  {
   "cell_type": "markdown",
   "id": "6dff4963",
   "metadata": {},
   "source": [
    "# Switch to adb shell to run \"*.dlc\" model on target device"
   ]
  },
  {
   "cell_type": "code",
   "execution_count": 7,
   "id": "d17e4c6e",
   "metadata": {},
   "outputs": [
    {
     "name": "stdout",
     "output_type": "stream",
     "text": [
      "-------------------------------------------------------------------------------\n",
      "Model String: N/A\n",
      "SNPE v2.7.0.4126\n",
      "-------------------------------------------------------------------------------\n",
      "Processing DNN input(s):\n",
      "./rawfiles/img.raw\n",
      "Successfully executed!\n"
     ]
    }
   ],
   "source": [
    "%%bash\n",
    "export DEVICE_SHELL=\"adb -H $DEVICE_HOST -s $DEVICE_ID\"\n",
    "#SWITCH TO ADB SHELL TO RUN \"*.dlc\" MODEL ON TARGET DEVICE\n",
    "$DEVICE_SHELL shell\n",
    "export INPUT_DLC=\"selu_udo.dlc\"\n",
    "export ONDEVICE_FOLDER=\"selu\"\n",
    "cd /data/local/tmp/$ONDEVICE_FOLDER &&\n",
    "source bash_fun_device.sh &&\n",
    "snpe-net-run --container selu_udo.dlc --input_list raw_list.txt --udo_package_path cpu/libUdoSeluUdoPackageReg.so"
   ]
  },
  {
   "cell_type": "code",
   "execution_count": null,
   "id": "abf01ffd",
   "metadata": {},
   "outputs": [],
   "source": []
  }
 ],
 "metadata": {
  "kernelspec": {
   "display_name": "Python 3",
   "language": "python",
   "name": "python3"
  },
  "language_info": {
   "codemirror_mode": {
    "name": "ipython",
    "version": 3
   },
   "file_extension": ".py",
   "mimetype": "text/x-python",
   "name": "python",
   "nbconvert_exporter": "python",
   "pygments_lexer": "ipython3",
   "version": "3.6.9"
  }
 },
 "nbformat": 4,
 "nbformat_minor": 5
}
