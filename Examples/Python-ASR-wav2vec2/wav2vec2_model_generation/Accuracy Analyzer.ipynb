{
 "cells": [
  {
   "cell_type": "markdown",
   "id": "586ae3a8-df45-4663-a118-ff6ba5a2f877",
   "metadata": {},
   "source": [
    "## Installing Necessary Dependencies"
   ]
  },
  {
   "cell_type": "code",
   "execution_count": 1,
   "id": "589aabab-e66d-4f80-bdb7-2ba9ee2f21df",
   "metadata": {},
   "outputs": [
    {
     "name": "stdout",
     "output_type": "stream",
     "text": [
      "Looking in indexes: https://mirrors.aliyun.com/pypi/simple\n",
      "Requirement already satisfied: transformers==4.43.0 in /media/code/opt/micromamba/envs/py3.8/lib/python3.8/site-packages (4.43.0)\n",
      "Requirement already satisfied: filelock in /media/code/opt/micromamba/envs/py3.8/lib/python3.8/site-packages (from transformers==4.43.0) (3.16.1)\n",
      "Requirement already satisfied: huggingface-hub<1.0,>=0.23.2 in /media/code/opt/micromamba/envs/py3.8/lib/python3.8/site-packages (from transformers==4.43.0) (0.29.1)\n",
      "Requirement already satisfied: numpy>=1.17 in /media/code/opt/micromamba/envs/py3.8/lib/python3.8/site-packages (from transformers==4.43.0) (1.22.1)\n",
      "Requirement already satisfied: packaging>=20.0 in /media/code/opt/micromamba/envs/py3.8/lib/python3.8/site-packages (from transformers==4.43.0) (24.2)\n",
      "Requirement already satisfied: pyyaml>=5.1 in /media/code/opt/micromamba/envs/py3.8/lib/python3.8/site-packages (from transformers==4.43.0) (6.0.2)\n",
      "Requirement already satisfied: regex!=2019.12.17 in /media/code/opt/micromamba/envs/py3.8/lib/python3.8/site-packages (from transformers==4.43.0) (2024.11.6)\n",
      "Requirement already satisfied: requests in /media/code/opt/micromamba/envs/py3.8/lib/python3.8/site-packages (from transformers==4.43.0) (2.32.3)\n",
      "Requirement already satisfied: tokenizers<0.20,>=0.19 in /media/code/opt/micromamba/envs/py3.8/lib/python3.8/site-packages (from transformers==4.43.0) (0.19.1)\n",
      "Requirement already satisfied: safetensors>=0.4.1 in /media/code/opt/micromamba/envs/py3.8/lib/python3.8/site-packages (from transformers==4.43.0) (0.5.2)\n",
      "Requirement already satisfied: tqdm>=4.27 in /media/code/opt/micromamba/envs/py3.8/lib/python3.8/site-packages (from transformers==4.43.0) (4.67.1)\n",
      "Requirement already satisfied: fsspec>=2023.5.0 in /media/code/opt/micromamba/envs/py3.8/lib/python3.8/site-packages (from huggingface-hub<1.0,>=0.23.2->transformers==4.43.0) (2024.5.0)\n",
      "Requirement already satisfied: typing-extensions>=3.7.4.3 in /media/code/opt/micromamba/envs/py3.8/lib/python3.8/site-packages (from huggingface-hub<1.0,>=0.23.2->transformers==4.43.0) (4.12.2)\n",
      "Requirement already satisfied: charset-normalizer<4,>=2 in /media/code/opt/micromamba/envs/py3.8/lib/python3.8/site-packages (from requests->transformers==4.43.0) (3.4.1)\n",
      "Requirement already satisfied: idna<4,>=2.5 in /media/code/opt/micromamba/envs/py3.8/lib/python3.8/site-packages (from requests->transformers==4.43.0) (3.10)\n",
      "Requirement already satisfied: urllib3<3,>=1.21.1 in /media/code/opt/micromamba/envs/py3.8/lib/python3.8/site-packages (from requests->transformers==4.43.0) (2.2.3)\n",
      "Requirement already satisfied: certifi>=2017.4.17 in /media/code/opt/micromamba/envs/py3.8/lib/python3.8/site-packages (from requests->transformers==4.43.0) (2025.1.31)\n",
      "Looking in indexes: https://mirrors.aliyun.com/pypi/simple\n",
      "Requirement already satisfied: tokenizers==0.19.1 in /media/code/opt/micromamba/envs/py3.8/lib/python3.8/site-packages (0.19.1)\n",
      "Requirement already satisfied: huggingface-hub<1.0,>=0.16.4 in /media/code/opt/micromamba/envs/py3.8/lib/python3.8/site-packages (from tokenizers==0.19.1) (0.29.1)\n",
      "Requirement already satisfied: filelock in /media/code/opt/micromamba/envs/py3.8/lib/python3.8/site-packages (from huggingface-hub<1.0,>=0.16.4->tokenizers==0.19.1) (3.16.1)\n",
      "Requirement already satisfied: fsspec>=2023.5.0 in /media/code/opt/micromamba/envs/py3.8/lib/python3.8/site-packages (from huggingface-hub<1.0,>=0.16.4->tokenizers==0.19.1) (2024.5.0)\n",
      "Requirement already satisfied: packaging>=20.9 in /media/code/opt/micromamba/envs/py3.8/lib/python3.8/site-packages (from huggingface-hub<1.0,>=0.16.4->tokenizers==0.19.1) (24.2)\n",
      "Requirement already satisfied: pyyaml>=5.1 in /media/code/opt/micromamba/envs/py3.8/lib/python3.8/site-packages (from huggingface-hub<1.0,>=0.16.4->tokenizers==0.19.1) (6.0.2)\n",
      "Requirement already satisfied: requests in /media/code/opt/micromamba/envs/py3.8/lib/python3.8/site-packages (from huggingface-hub<1.0,>=0.16.4->tokenizers==0.19.1) (2.32.3)\n",
      "Requirement already satisfied: tqdm>=4.42.1 in /media/code/opt/micromamba/envs/py3.8/lib/python3.8/site-packages (from huggingface-hub<1.0,>=0.16.4->tokenizers==0.19.1) (4.67.1)\n",
      "Requirement already satisfied: typing-extensions>=3.7.4.3 in /media/code/opt/micromamba/envs/py3.8/lib/python3.8/site-packages (from huggingface-hub<1.0,>=0.16.4->tokenizers==0.19.1) (4.12.2)\n",
      "Requirement already satisfied: charset-normalizer<4,>=2 in /media/code/opt/micromamba/envs/py3.8/lib/python3.8/site-packages (from requests->huggingface-hub<1.0,>=0.16.4->tokenizers==0.19.1) (3.4.1)\n",
      "Requirement already satisfied: idna<4,>=2.5 in /media/code/opt/micromamba/envs/py3.8/lib/python3.8/site-packages (from requests->huggingface-hub<1.0,>=0.16.4->tokenizers==0.19.1) (3.10)\n",
      "Requirement already satisfied: urllib3<3,>=1.21.1 in /media/code/opt/micromamba/envs/py3.8/lib/python3.8/site-packages (from requests->huggingface-hub<1.0,>=0.16.4->tokenizers==0.19.1) (2.2.3)\n",
      "Requirement already satisfied: certifi>=2017.4.17 in /media/code/opt/micromamba/envs/py3.8/lib/python3.8/site-packages (from requests->huggingface-hub<1.0,>=0.16.4->tokenizers==0.19.1) (2025.1.31)\n",
      "Looking in indexes: https://mirrors.aliyun.com/pypi/simple\n",
      "Requirement already satisfied: datasets==2.20.0 in /media/code/opt/micromamba/envs/py3.8/lib/python3.8/site-packages (2.20.0)\n",
      "Requirement already satisfied: filelock in /media/code/opt/micromamba/envs/py3.8/lib/python3.8/site-packages (from datasets==2.20.0) (3.16.1)\n",
      "Requirement already satisfied: numpy>=1.17 in /media/code/opt/micromamba/envs/py3.8/lib/python3.8/site-packages (from datasets==2.20.0) (1.22.1)\n",
      "Requirement already satisfied: pyarrow>=15.0.0 in /media/code/opt/micromamba/envs/py3.8/lib/python3.8/site-packages (from datasets==2.20.0) (17.0.0)\n",
      "Requirement already satisfied: pyarrow-hotfix in /media/code/opt/micromamba/envs/py3.8/lib/python3.8/site-packages (from datasets==2.20.0) (0.6)\n",
      "Requirement already satisfied: dill<0.3.9,>=0.3.0 in /media/code/opt/micromamba/envs/py3.8/lib/python3.8/site-packages (from datasets==2.20.0) (0.3.8)\n",
      "Requirement already satisfied: pandas in /media/code/opt/micromamba/envs/py3.8/lib/python3.8/site-packages (from datasets==2.20.0) (2.0.3)\n",
      "Requirement already satisfied: requests>=2.32.2 in /media/code/opt/micromamba/envs/py3.8/lib/python3.8/site-packages (from datasets==2.20.0) (2.32.3)\n",
      "Requirement already satisfied: tqdm>=4.66.3 in /media/code/opt/micromamba/envs/py3.8/lib/python3.8/site-packages (from datasets==2.20.0) (4.67.1)\n",
      "Requirement already satisfied: xxhash in /media/code/opt/micromamba/envs/py3.8/lib/python3.8/site-packages (from datasets==2.20.0) (3.5.0)\n",
      "Requirement already satisfied: multiprocess in /media/code/opt/micromamba/envs/py3.8/lib/python3.8/site-packages (from datasets==2.20.0) (0.70.16)\n",
      "Requirement already satisfied: fsspec<=2024.5.0,>=2023.1.0 in /media/code/opt/micromamba/envs/py3.8/lib/python3.8/site-packages (from fsspec[http]<=2024.5.0,>=2023.1.0->datasets==2.20.0) (2024.5.0)\n",
      "Requirement already satisfied: aiohttp in /media/code/opt/micromamba/envs/py3.8/lib/python3.8/site-packages (from datasets==2.20.0) (3.10.11)\n",
      "Requirement already satisfied: huggingface-hub>=0.21.2 in /media/code/opt/micromamba/envs/py3.8/lib/python3.8/site-packages (from datasets==2.20.0) (0.29.1)\n",
      "Requirement already satisfied: packaging in /media/code/opt/micromamba/envs/py3.8/lib/python3.8/site-packages (from datasets==2.20.0) (24.2)\n",
      "Requirement already satisfied: pyyaml>=5.1 in /media/code/opt/micromamba/envs/py3.8/lib/python3.8/site-packages (from datasets==2.20.0) (6.0.2)\n",
      "Requirement already satisfied: aiohappyeyeballs>=2.3.0 in /media/code/opt/micromamba/envs/py3.8/lib/python3.8/site-packages (from aiohttp->datasets==2.20.0) (2.4.4)\n",
      "Requirement already satisfied: aiosignal>=1.1.2 in /media/code/opt/micromamba/envs/py3.8/lib/python3.8/site-packages (from aiohttp->datasets==2.20.0) (1.3.1)\n",
      "Requirement already satisfied: attrs>=17.3.0 in /media/code/opt/micromamba/envs/py3.8/lib/python3.8/site-packages (from aiohttp->datasets==2.20.0) (25.1.0)\n",
      "Requirement already satisfied: frozenlist>=1.1.1 in /media/code/opt/micromamba/envs/py3.8/lib/python3.8/site-packages (from aiohttp->datasets==2.20.0) (1.5.0)\n",
      "Requirement already satisfied: multidict<7.0,>=4.5 in /media/code/opt/micromamba/envs/py3.8/lib/python3.8/site-packages (from aiohttp->datasets==2.20.0) (6.1.0)\n",
      "Requirement already satisfied: yarl<2.0,>=1.12.0 in /media/code/opt/micromamba/envs/py3.8/lib/python3.8/site-packages (from aiohttp->datasets==2.20.0) (1.15.2)\n",
      "Requirement already satisfied: async-timeout<6.0,>=4.0 in /media/code/opt/micromamba/envs/py3.8/lib/python3.8/site-packages (from aiohttp->datasets==2.20.0) (5.0.1)\n",
      "Requirement already satisfied: typing-extensions>=3.7.4.3 in /media/code/opt/micromamba/envs/py3.8/lib/python3.8/site-packages (from huggingface-hub>=0.21.2->datasets==2.20.0) (4.12.2)\n",
      "Requirement already satisfied: charset-normalizer<4,>=2 in /media/code/opt/micromamba/envs/py3.8/lib/python3.8/site-packages (from requests>=2.32.2->datasets==2.20.0) (3.4.1)\n",
      "Requirement already satisfied: idna<4,>=2.5 in /media/code/opt/micromamba/envs/py3.8/lib/python3.8/site-packages (from requests>=2.32.2->datasets==2.20.0) (3.10)\n",
      "Requirement already satisfied: urllib3<3,>=1.21.1 in /media/code/opt/micromamba/envs/py3.8/lib/python3.8/site-packages (from requests>=2.32.2->datasets==2.20.0) (2.2.3)\n",
      "Requirement already satisfied: certifi>=2017.4.17 in /media/code/opt/micromamba/envs/py3.8/lib/python3.8/site-packages (from requests>=2.32.2->datasets==2.20.0) (2025.1.31)\n",
      "Requirement already satisfied: python-dateutil>=2.8.2 in /media/code/opt/micromamba/envs/py3.8/lib/python3.8/site-packages (from pandas->datasets==2.20.0) (2.9.0)\n",
      "Requirement already satisfied: pytz>=2020.1 in /media/code/opt/micromamba/envs/py3.8/lib/python3.8/site-packages (from pandas->datasets==2.20.0) (2025.1)\n",
      "Requirement already satisfied: tzdata>=2022.1 in /media/code/opt/micromamba/envs/py3.8/lib/python3.8/site-packages (from pandas->datasets==2.20.0) (2025.1)\n",
      "Requirement already satisfied: six>=1.5 in /media/code/opt/micromamba/envs/py3.8/lib/python3.8/site-packages (from python-dateutil>=2.8.2->pandas->datasets==2.20.0) (1.16.0)\n",
      "Requirement already satisfied: propcache>=0.2.0 in /media/code/opt/micromamba/envs/py3.8/lib/python3.8/site-packages (from yarl<2.0,>=1.12.0->aiohttp->datasets==2.20.0) (0.2.0)\n",
      "Looking in indexes: https://mirrors.aliyun.com/pypi/simple\n",
      "Requirement already satisfied: soundfile in /media/code/opt/micromamba/envs/py3.8/lib/python3.8/site-packages (0.13.1)\n",
      "Requirement already satisfied: cffi>=1.0 in /media/code/opt/micromamba/envs/py3.8/lib/python3.8/site-packages (from soundfile) (1.17.1)\n",
      "Requirement already satisfied: numpy in /media/code/opt/micromamba/envs/py3.8/lib/python3.8/site-packages (from soundfile) (1.22.1)\n",
      "Requirement already satisfied: pycparser in /media/code/opt/micromamba/envs/py3.8/lib/python3.8/site-packages (from cffi>=1.0->soundfile) (2.22)\n",
      "Looking in indexes: https://mirrors.aliyun.com/pypi/simple\n",
      "Requirement already satisfied: torch==1.13.1 in /media/code/opt/micromamba/envs/py3.8/lib/python3.8/site-packages (1.13.1)\n",
      "Requirement already satisfied: typing-extensions in /media/code/opt/micromamba/envs/py3.8/lib/python3.8/site-packages (from torch==1.13.1) (4.12.2)\n",
      "Requirement already satisfied: nvidia-cuda-runtime-cu11==11.7.99 in /media/code/opt/micromamba/envs/py3.8/lib/python3.8/site-packages (from torch==1.13.1) (11.7.99)\n",
      "Requirement already satisfied: nvidia-cudnn-cu11==8.5.0.96 in /media/code/opt/micromamba/envs/py3.8/lib/python3.8/site-packages (from torch==1.13.1) (8.5.0.96)\n",
      "Requirement already satisfied: nvidia-cublas-cu11==11.10.3.66 in /media/code/opt/micromamba/envs/py3.8/lib/python3.8/site-packages (from torch==1.13.1) (11.10.3.66)\n",
      "Requirement already satisfied: nvidia-cuda-nvrtc-cu11==11.7.99 in /media/code/opt/micromamba/envs/py3.8/lib/python3.8/site-packages (from torch==1.13.1) (11.7.99)\n",
      "Requirement already satisfied: setuptools in /media/code/opt/micromamba/envs/py3.8/lib/python3.8/site-packages (from nvidia-cublas-cu11==11.10.3.66->torch==1.13.1) (75.3.0)\n",
      "Requirement already satisfied: wheel in /media/code/opt/micromamba/envs/py3.8/lib/python3.8/site-packages (from nvidia-cublas-cu11==11.10.3.66->torch==1.13.1) (0.45.1)\n",
      "Looking in indexes: https://mirrors.aliyun.com/pypi/simple\n",
      "Collecting torchvision==0.14.0\n",
      "  Downloading https://mirrors.aliyun.com/pypi/packages/ce/8a/7ba6d87bf3b817d185cc99cccbeb3ca7f5399341c39fa453d882abc2aa55/torchvision-0.14.0-cp38-cp38-manylinux1_x86_64.whl (24.3 MB)\n",
      "\u001b[2K     \u001b[90m━━━━━━━━━━━━━━━━━━━━━━━━━━━━━━━━━━━━━━━━\u001b[0m \u001b[32m24.3/24.3 MB\u001b[0m \u001b[31m24.9 MB/s\u001b[0m eta \u001b[36m0:00:00\u001b[0ma \u001b[36m0:00:01\u001b[0m\n",
      "\u001b[?25hRequirement already satisfied: typing-extensions in /media/code/opt/micromamba/envs/py3.8/lib/python3.8/site-packages (from torchvision==0.14.0) (4.12.2)\n",
      "Requirement already satisfied: numpy in /media/code/opt/micromamba/envs/py3.8/lib/python3.8/site-packages (from torchvision==0.14.0) (1.22.1)\n",
      "Requirement already satisfied: requests in /media/code/opt/micromamba/envs/py3.8/lib/python3.8/site-packages (from torchvision==0.14.0) (2.32.3)\n",
      "Collecting torch==1.13.0 (from torchvision==0.14.0)\n",
      "  Downloading https://mirrors.aliyun.com/pypi/packages/06/3d/19b2090f3f01751e816d409edcc808c82c2973348713186ac153e735d49f/torch-1.13.0-cp38-cp38-manylinux1_x86_64.whl (890.2 MB)\n",
      "\u001b[2K     \u001b[90m━━━━━━━━━━━━━━━━━━━━━━━━━━━━━━━━━━━━━━\u001b[0m \u001b[32m890.2/890.2 MB\u001b[0m \u001b[31m14.4 MB/s\u001b[0m eta \u001b[36m0:00:00\u001b[0m00:01\u001b[0m00:01\u001b[0m\n",
      "\u001b[?25hRequirement already satisfied: pillow!=8.3.*,>=5.3.0 in /media/code/opt/micromamba/envs/py3.8/lib/python3.8/site-packages (from torchvision==0.14.0) (10.4.0)\n",
      "Requirement already satisfied: nvidia-cuda-runtime-cu11==11.7.99 in /media/code/opt/micromamba/envs/py3.8/lib/python3.8/site-packages (from torch==1.13.0->torchvision==0.14.0) (11.7.99)\n",
      "Requirement already satisfied: nvidia-cudnn-cu11==8.5.0.96 in /media/code/opt/micromamba/envs/py3.8/lib/python3.8/site-packages (from torch==1.13.0->torchvision==0.14.0) (8.5.0.96)\n",
      "Requirement already satisfied: nvidia-cublas-cu11==11.10.3.66 in /media/code/opt/micromamba/envs/py3.8/lib/python3.8/site-packages (from torch==1.13.0->torchvision==0.14.0) (11.10.3.66)\n",
      "Requirement already satisfied: nvidia-cuda-nvrtc-cu11==11.7.99 in /media/code/opt/micromamba/envs/py3.8/lib/python3.8/site-packages (from torch==1.13.0->torchvision==0.14.0) (11.7.99)\n",
      "Requirement already satisfied: setuptools in /media/code/opt/micromamba/envs/py3.8/lib/python3.8/site-packages (from nvidia-cublas-cu11==11.10.3.66->torch==1.13.0->torchvision==0.14.0) (75.3.0)\n",
      "Requirement already satisfied: wheel in /media/code/opt/micromamba/envs/py3.8/lib/python3.8/site-packages (from nvidia-cublas-cu11==11.10.3.66->torch==1.13.0->torchvision==0.14.0) (0.45.1)\n",
      "Requirement already satisfied: charset-normalizer<4,>=2 in /media/code/opt/micromamba/envs/py3.8/lib/python3.8/site-packages (from requests->torchvision==0.14.0) (3.4.1)\n",
      "Requirement already satisfied: idna<4,>=2.5 in /media/code/opt/micromamba/envs/py3.8/lib/python3.8/site-packages (from requests->torchvision==0.14.0) (3.10)\n",
      "Requirement already satisfied: urllib3<3,>=1.21.1 in /media/code/opt/micromamba/envs/py3.8/lib/python3.8/site-packages (from requests->torchvision==0.14.0) (2.2.3)\n",
      "Requirement already satisfied: certifi>=2017.4.17 in /media/code/opt/micromamba/envs/py3.8/lib/python3.8/site-packages (from requests->torchvision==0.14.0) (2025.1.31)\n",
      "Installing collected packages: torch, torchvision\n",
      "  Attempting uninstall: torch\n",
      "    Found existing installation: torch 1.13.1\n",
      "    Uninstalling torch-1.13.1:\n",
      "      Successfully uninstalled torch-1.13.1\n",
      "  Attempting uninstall: torchvision\n",
      "    Found existing installation: torchvision 0.19.1\n",
      "    Uninstalling torchvision-0.19.1:\n",
      "      Successfully uninstalled torchvision-0.19.1\n",
      "Successfully installed torch-1.13.0 torchvision-0.14.0\n",
      "Looking in indexes: https://mirrors.aliyun.com/pypi/simple\n",
      "Requirement already satisfied: onnx==1.11.0 in /media/code/opt/micromamba/envs/py3.8/lib/python3.8/site-packages (1.11.0)\n",
      "Requirement already satisfied: numpy>=1.16.6 in /media/code/opt/micromamba/envs/py3.8/lib/python3.8/site-packages (from onnx==1.11.0) (1.22.1)\n",
      "Requirement already satisfied: protobuf>=3.12.2 in /media/code/opt/micromamba/envs/py3.8/lib/python3.8/site-packages (from onnx==1.11.0) (3.20.0)\n",
      "Requirement already satisfied: typing-extensions>=3.6.2.1 in /media/code/opt/micromamba/envs/py3.8/lib/python3.8/site-packages (from onnx==1.11.0) (4.12.2)\n",
      "Looking in indexes: https://mirrors.aliyun.com/pypi/simple\n",
      "Requirement already satisfied: librosa in /media/code/opt/micromamba/envs/py3.8/lib/python3.8/site-packages (0.10.2.post1)\n",
      "Requirement already satisfied: audioread>=2.1.9 in /media/code/opt/micromamba/envs/py3.8/lib/python3.8/site-packages (from librosa) (3.0.1)\n",
      "Collecting numpy!=1.22.0,!=1.22.1,!=1.22.2,>=1.20.3 (from librosa)\n",
      "  Using cached https://mirrors.aliyun.com/pypi/packages/98/5d/5738903efe0ecb73e51eb44feafba32bdba2081263d40c5043568ff60faf/numpy-1.24.4-cp38-cp38-manylinux_2_17_x86_64.manylinux2014_x86_64.whl (17.3 MB)\n",
      "Requirement already satisfied: scipy>=1.2.0 in /media/code/opt/micromamba/envs/py3.8/lib/python3.8/site-packages (from librosa) (1.10.1)\n",
      "Requirement already satisfied: scikit-learn>=0.20.0 in /media/code/opt/micromamba/envs/py3.8/lib/python3.8/site-packages (from librosa) (1.3.2)\n",
      "Requirement already satisfied: joblib>=0.14 in /media/code/opt/micromamba/envs/py3.8/lib/python3.8/site-packages (from librosa) (1.4.2)\n",
      "Requirement already satisfied: decorator>=4.3.0 in /media/code/opt/micromamba/envs/py3.8/lib/python3.8/site-packages (from librosa) (5.1.1)\n",
      "Requirement already satisfied: numba>=0.51.0 in /media/code/opt/micromamba/envs/py3.8/lib/python3.8/site-packages (from librosa) (0.58.1)\n",
      "Requirement already satisfied: soundfile>=0.12.1 in /media/code/opt/micromamba/envs/py3.8/lib/python3.8/site-packages (from librosa) (0.13.1)\n",
      "Requirement already satisfied: pooch>=1.1 in /media/code/opt/micromamba/envs/py3.8/lib/python3.8/site-packages (from librosa) (1.8.2)\n",
      "Requirement already satisfied: soxr>=0.3.2 in /media/code/opt/micromamba/envs/py3.8/lib/python3.8/site-packages (from librosa) (0.3.7)\n",
      "Requirement already satisfied: typing-extensions>=4.1.1 in /media/code/opt/micromamba/envs/py3.8/lib/python3.8/site-packages (from librosa) (4.12.2)\n",
      "Requirement already satisfied: lazy-loader>=0.1 in /media/code/opt/micromamba/envs/py3.8/lib/python3.8/site-packages (from librosa) (0.4)\n",
      "Requirement already satisfied: msgpack>=1.0 in /media/code/opt/micromamba/envs/py3.8/lib/python3.8/site-packages (from librosa) (1.1.0)\n",
      "Requirement already satisfied: packaging in /media/code/opt/micromamba/envs/py3.8/lib/python3.8/site-packages (from lazy-loader>=0.1->librosa) (24.2)\n",
      "Requirement already satisfied: llvmlite<0.42,>=0.41.0dev0 in /media/code/opt/micromamba/envs/py3.8/lib/python3.8/site-packages (from numba>=0.51.0->librosa) (0.41.1)\n",
      "Requirement already satisfied: importlib-metadata in /media/code/opt/micromamba/envs/py3.8/lib/python3.8/site-packages (from numba>=0.51.0->librosa) (8.5.0)\n",
      "Requirement already satisfied: platformdirs>=2.5.0 in /media/code/opt/micromamba/envs/py3.8/lib/python3.8/site-packages (from pooch>=1.1->librosa) (4.3.6)\n",
      "Requirement already satisfied: requests>=2.19.0 in /media/code/opt/micromamba/envs/py3.8/lib/python3.8/site-packages (from pooch>=1.1->librosa) (2.32.3)\n",
      "Requirement already satisfied: threadpoolctl>=2.0.0 in /media/code/opt/micromamba/envs/py3.8/lib/python3.8/site-packages (from scikit-learn>=0.20.0->librosa) (3.5.0)\n",
      "Requirement already satisfied: cffi>=1.0 in /media/code/opt/micromamba/envs/py3.8/lib/python3.8/site-packages (from soundfile>=0.12.1->librosa) (1.17.1)\n",
      "Requirement already satisfied: pycparser in /media/code/opt/micromamba/envs/py3.8/lib/python3.8/site-packages (from cffi>=1.0->soundfile>=0.12.1->librosa) (2.22)\n",
      "Requirement already satisfied: charset-normalizer<4,>=2 in /media/code/opt/micromamba/envs/py3.8/lib/python3.8/site-packages (from requests>=2.19.0->pooch>=1.1->librosa) (3.4.1)\n",
      "Requirement already satisfied: idna<4,>=2.5 in /media/code/opt/micromamba/envs/py3.8/lib/python3.8/site-packages (from requests>=2.19.0->pooch>=1.1->librosa) (3.10)\n",
      "Requirement already satisfied: urllib3<3,>=1.21.1 in /media/code/opt/micromamba/envs/py3.8/lib/python3.8/site-packages (from requests>=2.19.0->pooch>=1.1->librosa) (2.2.3)\n",
      "Requirement already satisfied: certifi>=2017.4.17 in /media/code/opt/micromamba/envs/py3.8/lib/python3.8/site-packages (from requests>=2.19.0->pooch>=1.1->librosa) (2025.1.31)\n",
      "Requirement already satisfied: zipp>=3.20 in /media/code/opt/micromamba/envs/py3.8/lib/python3.8/site-packages (from importlib-metadata->numba>=0.51.0->librosa) (3.21.0)\n",
      "Installing collected packages: numpy\n",
      "  Attempting uninstall: numpy\n",
      "    Found existing installation: numpy 1.22.1\n",
      "    Uninstalling numpy-1.22.1:\n",
      "      Successfully uninstalled numpy-1.22.1\n",
      "Successfully installed numpy-1.24.4\n",
      "Looking in indexes: https://mirrors.aliyun.com/pypi/simple\n",
      "Requirement already satisfied: optimum in /media/code/opt/micromamba/envs/py3.8/lib/python3.8/site-packages (1.23.3)\n",
      "Requirement already satisfied: coloredlogs in /media/code/opt/micromamba/envs/py3.8/lib/python3.8/site-packages (from optimum) (15.0.1)\n",
      "Requirement already satisfied: sympy in /media/code/opt/micromamba/envs/py3.8/lib/python3.8/site-packages (from optimum) (1.13.3)\n",
      "Requirement already satisfied: transformers>=4.29 in /media/code/opt/micromamba/envs/py3.8/lib/python3.8/site-packages (from optimum) (4.43.0)\n",
      "Requirement already satisfied: torch>=1.11 in /media/code/opt/micromamba/envs/py3.8/lib/python3.8/site-packages (from optimum) (1.13.0)\n",
      "Requirement already satisfied: packaging in /media/code/opt/micromamba/envs/py3.8/lib/python3.8/site-packages (from optimum) (24.2)\n",
      "Requirement already satisfied: numpy in /media/code/opt/micromamba/envs/py3.8/lib/python3.8/site-packages (from optimum) (1.24.4)\n",
      "Requirement already satisfied: huggingface-hub>=0.8.0 in /media/code/opt/micromamba/envs/py3.8/lib/python3.8/site-packages (from optimum) (0.29.1)\n",
      "Requirement already satisfied: datasets in /media/code/opt/micromamba/envs/py3.8/lib/python3.8/site-packages (from optimum) (2.20.0)\n",
      "Requirement already satisfied: filelock in /media/code/opt/micromamba/envs/py3.8/lib/python3.8/site-packages (from huggingface-hub>=0.8.0->optimum) (3.16.1)\n",
      "Requirement already satisfied: fsspec>=2023.5.0 in /media/code/opt/micromamba/envs/py3.8/lib/python3.8/site-packages (from huggingface-hub>=0.8.0->optimum) (2024.5.0)\n",
      "Requirement already satisfied: pyyaml>=5.1 in /media/code/opt/micromamba/envs/py3.8/lib/python3.8/site-packages (from huggingface-hub>=0.8.0->optimum) (6.0.2)\n",
      "Requirement already satisfied: requests in /media/code/opt/micromamba/envs/py3.8/lib/python3.8/site-packages (from huggingface-hub>=0.8.0->optimum) (2.32.3)\n",
      "Requirement already satisfied: tqdm>=4.42.1 in /media/code/opt/micromamba/envs/py3.8/lib/python3.8/site-packages (from huggingface-hub>=0.8.0->optimum) (4.67.1)\n",
      "Requirement already satisfied: typing-extensions>=3.7.4.3 in /media/code/opt/micromamba/envs/py3.8/lib/python3.8/site-packages (from huggingface-hub>=0.8.0->optimum) (4.12.2)\n",
      "Requirement already satisfied: nvidia-cuda-runtime-cu11==11.7.99 in /media/code/opt/micromamba/envs/py3.8/lib/python3.8/site-packages (from torch>=1.11->optimum) (11.7.99)\n",
      "Requirement already satisfied: nvidia-cudnn-cu11==8.5.0.96 in /media/code/opt/micromamba/envs/py3.8/lib/python3.8/site-packages (from torch>=1.11->optimum) (8.5.0.96)\n",
      "Requirement already satisfied: nvidia-cublas-cu11==11.10.3.66 in /media/code/opt/micromamba/envs/py3.8/lib/python3.8/site-packages (from torch>=1.11->optimum) (11.10.3.66)\n",
      "Requirement already satisfied: nvidia-cuda-nvrtc-cu11==11.7.99 in /media/code/opt/micromamba/envs/py3.8/lib/python3.8/site-packages (from torch>=1.11->optimum) (11.7.99)\n",
      "Requirement already satisfied: setuptools in /media/code/opt/micromamba/envs/py3.8/lib/python3.8/site-packages (from nvidia-cublas-cu11==11.10.3.66->torch>=1.11->optimum) (75.3.0)\n",
      "Requirement already satisfied: wheel in /media/code/opt/micromamba/envs/py3.8/lib/python3.8/site-packages (from nvidia-cublas-cu11==11.10.3.66->torch>=1.11->optimum) (0.45.1)\n",
      "Requirement already satisfied: regex!=2019.12.17 in /media/code/opt/micromamba/envs/py3.8/lib/python3.8/site-packages (from transformers>=4.29->optimum) (2024.11.6)\n",
      "Requirement already satisfied: tokenizers<0.20,>=0.19 in /media/code/opt/micromamba/envs/py3.8/lib/python3.8/site-packages (from transformers>=4.29->optimum) (0.19.1)\n",
      "Requirement already satisfied: safetensors>=0.4.1 in /media/code/opt/micromamba/envs/py3.8/lib/python3.8/site-packages (from transformers>=4.29->optimum) (0.5.2)\n",
      "Requirement already satisfied: humanfriendly>=9.1 in /media/code/opt/micromamba/envs/py3.8/lib/python3.8/site-packages (from coloredlogs->optimum) (10.0)\n",
      "Requirement already satisfied: pyarrow>=15.0.0 in /media/code/opt/micromamba/envs/py3.8/lib/python3.8/site-packages (from datasets->optimum) (17.0.0)\n",
      "Requirement already satisfied: pyarrow-hotfix in /media/code/opt/micromamba/envs/py3.8/lib/python3.8/site-packages (from datasets->optimum) (0.6)\n",
      "Requirement already satisfied: dill<0.3.9,>=0.3.0 in /media/code/opt/micromamba/envs/py3.8/lib/python3.8/site-packages (from datasets->optimum) (0.3.8)\n",
      "Requirement already satisfied: pandas in /media/code/opt/micromamba/envs/py3.8/lib/python3.8/site-packages (from datasets->optimum) (2.0.3)\n",
      "Requirement already satisfied: xxhash in /media/code/opt/micromamba/envs/py3.8/lib/python3.8/site-packages (from datasets->optimum) (3.5.0)\n",
      "Requirement already satisfied: multiprocess in /media/code/opt/micromamba/envs/py3.8/lib/python3.8/site-packages (from datasets->optimum) (0.70.16)\n",
      "Requirement already satisfied: aiohttp in /media/code/opt/micromamba/envs/py3.8/lib/python3.8/site-packages (from datasets->optimum) (3.10.11)\n",
      "Requirement already satisfied: mpmath<1.4,>=1.1.0 in /media/code/opt/micromamba/envs/py3.8/lib/python3.8/site-packages (from sympy->optimum) (1.3.0)\n",
      "Requirement already satisfied: aiohappyeyeballs>=2.3.0 in /media/code/opt/micromamba/envs/py3.8/lib/python3.8/site-packages (from aiohttp->datasets->optimum) (2.4.4)\n",
      "Requirement already satisfied: aiosignal>=1.1.2 in /media/code/opt/micromamba/envs/py3.8/lib/python3.8/site-packages (from aiohttp->datasets->optimum) (1.3.1)\n",
      "Requirement already satisfied: attrs>=17.3.0 in /media/code/opt/micromamba/envs/py3.8/lib/python3.8/site-packages (from aiohttp->datasets->optimum) (25.1.0)\n",
      "Requirement already satisfied: frozenlist>=1.1.1 in /media/code/opt/micromamba/envs/py3.8/lib/python3.8/site-packages (from aiohttp->datasets->optimum) (1.5.0)\n",
      "Requirement already satisfied: multidict<7.0,>=4.5 in /media/code/opt/micromamba/envs/py3.8/lib/python3.8/site-packages (from aiohttp->datasets->optimum) (6.1.0)\n",
      "Requirement already satisfied: yarl<2.0,>=1.12.0 in /media/code/opt/micromamba/envs/py3.8/lib/python3.8/site-packages (from aiohttp->datasets->optimum) (1.15.2)\n",
      "Requirement already satisfied: async-timeout<6.0,>=4.0 in /media/code/opt/micromamba/envs/py3.8/lib/python3.8/site-packages (from aiohttp->datasets->optimum) (5.0.1)\n",
      "Requirement already satisfied: charset-normalizer<4,>=2 in /media/code/opt/micromamba/envs/py3.8/lib/python3.8/site-packages (from requests->huggingface-hub>=0.8.0->optimum) (3.4.1)\n",
      "Requirement already satisfied: idna<4,>=2.5 in /media/code/opt/micromamba/envs/py3.8/lib/python3.8/site-packages (from requests->huggingface-hub>=0.8.0->optimum) (3.10)\n",
      "Requirement already satisfied: urllib3<3,>=1.21.1 in /media/code/opt/micromamba/envs/py3.8/lib/python3.8/site-packages (from requests->huggingface-hub>=0.8.0->optimum) (2.2.3)\n",
      "Requirement already satisfied: certifi>=2017.4.17 in /media/code/opt/micromamba/envs/py3.8/lib/python3.8/site-packages (from requests->huggingface-hub>=0.8.0->optimum) (2025.1.31)\n",
      "Requirement already satisfied: python-dateutil>=2.8.2 in /media/code/opt/micromamba/envs/py3.8/lib/python3.8/site-packages (from pandas->datasets->optimum) (2.9.0)\n",
      "Requirement already satisfied: pytz>=2020.1 in /media/code/opt/micromamba/envs/py3.8/lib/python3.8/site-packages (from pandas->datasets->optimum) (2025.1)\n",
      "Requirement already satisfied: tzdata>=2022.1 in /media/code/opt/micromamba/envs/py3.8/lib/python3.8/site-packages (from pandas->datasets->optimum) (2025.1)\n",
      "Requirement already satisfied: six>=1.5 in /media/code/opt/micromamba/envs/py3.8/lib/python3.8/site-packages (from python-dateutil>=2.8.2->pandas->datasets->optimum) (1.16.0)\n",
      "Requirement already satisfied: propcache>=0.2.0 in /media/code/opt/micromamba/envs/py3.8/lib/python3.8/site-packages (from yarl<2.0,>=1.12.0->aiohttp->datasets->optimum) (0.2.0)\n",
      "Looking in indexes: https://mirrors.aliyun.com/pypi/simple\n",
      "Requirement already satisfied: onnxruntime in /media/code/opt/micromamba/envs/py3.8/lib/python3.8/site-packages (1.19.2)\n",
      "Requirement already satisfied: coloredlogs in /media/code/opt/micromamba/envs/py3.8/lib/python3.8/site-packages (from onnxruntime) (15.0.1)\n",
      "Requirement already satisfied: flatbuffers in /media/code/opt/micromamba/envs/py3.8/lib/python3.8/site-packages (from onnxruntime) (25.2.10)\n",
      "Requirement already satisfied: numpy>=1.21.6 in /media/code/opt/micromamba/envs/py3.8/lib/python3.8/site-packages (from onnxruntime) (1.24.4)\n",
      "Requirement already satisfied: packaging in /media/code/opt/micromamba/envs/py3.8/lib/python3.8/site-packages (from onnxruntime) (24.2)\n",
      "Requirement already satisfied: protobuf in /media/code/opt/micromamba/envs/py3.8/lib/python3.8/site-packages (from onnxruntime) (3.20.0)\n",
      "Requirement already satisfied: sympy in /media/code/opt/micromamba/envs/py3.8/lib/python3.8/site-packages (from onnxruntime) (1.13.3)\n",
      "Requirement already satisfied: humanfriendly>=9.1 in /media/code/opt/micromamba/envs/py3.8/lib/python3.8/site-packages (from coloredlogs->onnxruntime) (10.0)\n",
      "Requirement already satisfied: mpmath<1.4,>=1.1.0 in /media/code/opt/micromamba/envs/py3.8/lib/python3.8/site-packages (from sympy->onnxruntime) (1.3.0)\n",
      "Looking in indexes: https://mirrors.aliyun.com/pypi/simple\n",
      "Collecting numpy==1.22.1\n",
      "  Using cached https://mirrors.aliyun.com/pypi/packages/c1/fd/4648328a72f44fc9a463236448ad33a0674b0fc9045814b31b642f72b9e8/numpy-1.22.1-cp38-cp38-manylinux_2_17_x86_64.manylinux2014_x86_64.whl (16.8 MB)\n",
      "Installing collected packages: numpy\n",
      "  Attempting uninstall: numpy\n",
      "    Found existing installation: numpy 1.24.4\n",
      "    Uninstalling numpy-1.24.4:\n",
      "      Successfully uninstalled numpy-1.24.4\n",
      "\u001b[31mERROR: pip's dependency resolver does not currently take into account all the packages that are installed. This behaviour is the source of the following dependency conflicts.\n",
      "librosa 0.10.2.post1 requires numpy!=1.22.0,!=1.22.1,!=1.22.2,>=1.20.3, but you have numpy 1.22.1 which is incompatible.\u001b[0m\u001b[31m\n",
      "\u001b[0mSuccessfully installed numpy-1.22.1\n",
      "Looking in indexes: https://mirrors.aliyun.com/pypi/simple\n",
      "Requirement already satisfied: protobuf==3.20.0 in /media/code/opt/micromamba/envs/py3.8/lib/python3.8/site-packages (3.20.0)\n"
     ]
    }
   ],
   "source": [
    "!pip3 install transformers==4.43.0\n",
    "!pip3 install tokenizers==0.19.1\n",
    "!pip3 install datasets==2.20.0\n",
    "!pip3 install soundfile\n",
    "!pip3 install torch==1.13.1\n",
    "!pip3 install torchvision==0.14.0\n",
    "!pip3 install onnx==1.11.0\n",
    "!pip3 install librosa\n",
    "!pip3 install optimum\n",
    "!pip3 install onnxruntime\n",
    "!pip3 install numpy==1.22.1\n",
    "!pip3 install protobuf==3.20.0"
   ]
  },
  {
   "cell_type": "markdown",
   "id": "59a66c64-082e-42b5-b030-34926af4e1ca",
   "metadata": {},
   "source": [
    "### Importing Necessary Libraries"
   ]
  },
  {
   "cell_type": "code",
   "execution_count": 2,
   "id": "95dc986d-9a57-4675-9af6-82d4668c94d9",
   "metadata": {},
   "outputs": [],
   "source": [
    "import onnxruntime\n",
    "from transformers import AutoProcessor, Wav2Vec2ForCTC\n",
    "from datasets import load_dataset\n",
    "import torch\n",
    "import numpy as np\n",
    "import os"
   ]
  },
  {
   "cell_type": "markdown",
   "id": "17e61ab5-1387-4e77-957e-06f180376d48",
   "metadata": {},
   "source": [
    "### Checking the Actual torch Model Architecture\n",
    "- The dataset used here is librispeech [http://www.openslr.org/12 ] \n",
    "- Model used here is wav2vec2 [https://huggingface.co/docs/transformers/model_doc/wav2vec2 ]\n",
    "- Paper of this model [https://arxiv.org/abs/2006.11477 ]\n",
    "\n",
    "![Model Architecture](readme-assets/wav2vec2_architecture.png)"
   ]
  },
  {
   "cell_type": "code",
   "execution_count": 3,
   "id": "9ccf322a",
   "metadata": {},
   "outputs": [],
   "source": [
    "#%env"
   ]
  },
  {
   "cell_type": "code",
   "execution_count": 4,
   "id": "5b121e5a",
   "metadata": {},
   "outputs": [],
   "source": [
    "# os.environ['HF_HOME'] = '/media/code/dataset/hf'\n",
    "# dataset = load_dataset('imdb')\n"
   ]
  },
  {
   "cell_type": "code",
   "execution_count": 5,
   "id": "f1da7abc",
   "metadata": {},
   "outputs": [],
   "source": [
    "dataset = load_dataset(\"hf-internal-testing/librispeech_asr_demo\", \"clean\", split=\"validation\")\n"
   ]
  },
  {
   "cell_type": "code",
   "execution_count": 6,
   "id": "135fdfec-bf84-406b-8a58-406c2499a7df",
   "metadata": {},
   "outputs": [
    {
     "name": "stderr",
     "output_type": "stream",
     "text": [
      "Some weights of Wav2Vec2ForCTC were not initialized from the model checkpoint at facebook/wav2vec2-base-960h and are newly initialized: ['wav2vec2.masked_spec_embed']\n",
      "You should probably TRAIN this model on a down-stream task to be able to use it for predictions and inference.\n"
     ]
    },
    {
     "name": "stdout",
     "output_type": "stream",
     "text": [
      "MISTER QUILTER IS THE APOSTLE OF THE MIDDLE CLASSES AND WE ARE GLAD TO WELCOME HIS GOSPEL\n"
     ]
    }
   ],
   "source": [
    "# os.environ['HF_ENDPOINT']=\"https://hf-mirror.com\"\n",
    "\n",
    "\n",
    "dataset = load_dataset(\"hf-internal-testing/librispeech_asr_demo\", \"clean\", split=\"validation\")\n",
    "dataset = dataset.sort(\"id\")\n",
    "sampling_rate = dataset.features[\"audio\"].sampling_rate\n",
    "\n",
    "processor = AutoProcessor.from_pretrained(\"facebook/wav2vec2-base-960h\")\n",
    "model = Wav2Vec2ForCTC.from_pretrained(\"facebook/wav2vec2-base-960h\")\n",
    "\n",
    "# audio file is decoded on the fly\n",
    "inputs = processor(dataset[0][\"audio\"][\"array\"], sampling_rate=sampling_rate, return_tensors=\"pt\")\n",
    "with torch.no_grad():\n",
    "    logits = model(**inputs).logits\n",
    "predicted_ids = torch.argmax(logits, dim=-1)\n",
    "\n",
    "# transcribe speech\n",
    "transcription = processor.batch_decode(predicted_ids)\n",
    "print(transcription[0])\n"
   ]
  },
  {
   "cell_type": "markdown",
   "id": "44c88ef1-0237-44c8-a607-e623257c05b2",
   "metadata": {},
   "source": [
    "## Getting the ONNX Model from huggingface\n",
    "- To know more about optimum please check this link [ https://github.com/huggingface/optimum ]\n",
    "- Before Running the below cell **please install optimum**\n",
    "- After Running this cell the onnx model will be saved in the models folder "
   ]
  },
  {
   "cell_type": "code",
   "execution_count": 7,
   "id": "f15f0df4-fdca-4b20-b7de-6f861c71dad8",
   "metadata": {},
   "outputs": [
    {
     "name": "stderr",
     "output_type": "stream",
     "text": [
      "Some weights of Wav2Vec2ForCTC were not initialized from the model checkpoint at facebook/wav2vec2-base-960h and are newly initialized: ['wav2vec2.masked_spec_embed']\n",
      "You should probably TRAIN this model on a down-stream task to be able to use it for predictions and inference.\n",
      "/media/code/opt/micromamba/envs/py3.8/lib/python3.8/site-packages/transformers/models/wav2vec2/modeling_wav2vec2.py:596: TracerWarning: Converting a tensor to a Python boolean might cause the trace to be incorrect. We can't record the data flow of Python values, so this value will be treated as a constant in the future. This means that the trace might not generalize to other inputs!\n",
      "  if attn_weights.size() != (bsz * self.num_heads, tgt_len, src_len):\n",
      "/media/code/opt/micromamba/envs/py3.8/lib/python3.8/site-packages/transformers/models/wav2vec2/modeling_wav2vec2.py:635: TracerWarning: Converting a tensor to a Python boolean might cause the trace to be incorrect. We can't record the data flow of Python values, so this value will be treated as a constant in the future. This means that the trace might not generalize to other inputs!\n",
      "  if attn_output.size() != (bsz * self.num_heads, tgt_len, self.head_dim):\n",
      "Weight deduplication check in the ONNX export requires accelerate. Please install accelerate to run it.\n",
      "\t\t-[x] values not close enough, max diff: 0.00011962652206420898 (atol: 1e-05)\n",
      "The ONNX export succeeded with the warning: The maximum absolute difference between the output of the reference model and the ONNX exported model is not within the set tolerance 1e-05:\n",
      "- logits: max diff = 0.00011962652206420898.\n",
      " The exported model was saved at: models\n"
     ]
    }
   ],
   "source": [
    "%%bash\n",
    "optimum-cli export onnx --model facebook/wav2vec2-base-960h models/"
   ]
  },
  {
   "cell_type": "markdown",
   "id": "92b91714-a39e-4229-a36f-083a9eaa8756",
   "metadata": {},
   "source": [
    "##### Understanding the ONNX Model architecture\n",
    "- Getting the input name so that we can fixed the input dimension during dlc conversion"
   ]
  },
  {
   "cell_type": "code",
   "execution_count": 8,
   "id": "6d2a2e59-a5a2-483c-8782-7df3b61dfe7f",
   "metadata": {},
   "outputs": [
    {
     "name": "stdout",
     "output_type": "stream",
     "text": [
      "NodeArg(name='input_values', type='tensor(float)', shape=['batch_size', 'sequence_length'])\n"
     ]
    }
   ],
   "source": [
    "model_path='models/model.onnx'\n",
    "sess=onnxruntime.InferenceSession(model_path)\n",
    "input_layer_names=sess.get_inputs()\n",
    "for input_layer in input_layer_names:\n",
    "    print(input_layer)"
   ]
  },
  {
   "cell_type": "markdown",
   "id": "2f4af89a-03b0-4c78-b26c-726b2542a350",
   "metadata": {},
   "source": [
    "### Converting the Onnx Model to Fp32 DLC\n",
    "- Set SNPE Root Here "
   ]
  },
  {
   "cell_type": "code",
   "execution_count": 24,
   "id": "1035d4b4-d887-42e9-9eab-0a3a249b0865",
   "metadata": {},
   "outputs": [],
   "source": [
    "#os.environ['SNPE_ROOT']=\"../../../../../snpe/2.14.0.230828\"\n",
    "os.environ['SNPE_ROOT']=\"/opt/qcom/aistack/snpe/2.16.0.231029/\"\n",
    "# os.environ['PYTHONPATH']=\"/opt/qcom/aistack/snpe/2.14.0.230828/lib/python\"\n",
    "os.environ['LD_LIBRARY_PATH']=\"/media/code/opt/micromamba/envs/py3.8/lib/\"\n"
   ]
  },
  {
   "cell_type": "code",
   "execution_count": 25,
   "id": "31f5b3fa",
   "metadata": {},
   "outputs": [
    {
     "data": {
      "text/plain": [
       "{'SHELL': '/bin/bash',\n",
       " 'DISABLE_AUTO_UPDATE': 'true',\n",
       " 'LC_ADDRESS': 'zh_CN.UTF-8',\n",
       " 'LC_NAME': 'zh_CN.UTF-8',\n",
       " 'SKIP_DOWNLOAD_CUST_APPS': 'true',\n",
       " 'LC_MONETARY': 'zh_CN.UTF-8',\n",
       " 'ALLOW_MISSING_DEPENDENCIES': 'true',\n",
       " 'PWD': '/home/liuqi/code/qnn/qidk/Examples/Python-ASR-wav2vec2/wav2vec2_model_generation',\n",
       " 'LOGNAME': 'liuqi',\n",
       " 'XDG_SESSION_TYPE': 'tty',\n",
       " 'CONDA_PREFIX': '/media/code/opt/micromamba/envs/py3.8',\n",
       " 'MAMBA_ROOT_PREFIX': '/opt/micromamba',\n",
       " 'PYTHONHTTPSVERIFY': '0',\n",
       " 'FZF_DEFAULT_COMMAND': 'rg --files --hidden',\n",
       " 'SKIP_DOWNLOAD_VENDOR_GOOGLE_APPS': 'true',\n",
       " 'MOTD_SHOWN': 'pam',\n",
       " 'HOME': '/home/liuqi',\n",
       " 'LC_PAPER': 'zh_CN.UTF-8',\n",
       " 'LANG': 'en_US.UTF-8',\n",
       " 'LS_COLORS': 'rs=0:di=01;34:ln=01;36:mh=00:pi=40;33:so=01;35:do=01;35:bd=40;33;01:cd=40;33;01:or=40;31;01:mi=00:su=37;41:sg=30;43:ca=30;41:tw=30;42:ow=34;42:st=37;44:ex=01;32:*.tar=01;31:*.tgz=01;31:*.arc=01;31:*.arj=01;31:*.taz=01;31:*.lha=01;31:*.lz4=01;31:*.lzh=01;31:*.lzma=01;31:*.tlz=01;31:*.txz=01;31:*.tzo=01;31:*.t7z=01;31:*.zip=01;31:*.z=01;31:*.dz=01;31:*.gz=01;31:*.lrz=01;31:*.lz=01;31:*.lzo=01;31:*.xz=01;31:*.zst=01;31:*.tzst=01;31:*.bz2=01;31:*.bz=01;31:*.tbz=01;31:*.tbz2=01;31:*.tz=01;31:*.deb=01;31:*.rpm=01;31:*.jar=01;31:*.war=01;31:*.ear=01;31:*.sar=01;31:*.rar=01;31:*.alz=01;31:*.ace=01;31:*.zoo=01;31:*.cpio=01;31:*.7z=01;31:*.rz=01;31:*.cab=01;31:*.wim=01;31:*.swm=01;31:*.dwm=01;31:*.esd=01;31:*.jpg=01;35:*.jpeg=01;35:*.mjpg=01;35:*.mjpeg=01;35:*.gif=01;35:*.bmp=01;35:*.pbm=01;35:*.pgm=01;35:*.ppm=01;35:*.tga=01;35:*.xbm=01;35:*.xpm=01;35:*.tif=01;35:*.tiff=01;35:*.png=01;35:*.svg=01;35:*.svgz=01;35:*.mng=01;35:*.pcx=01;35:*.mov=01;35:*.mpg=01;35:*.mpeg=01;35:*.m2v=01;35:*.mkv=01;35:*.webm=01;35:*.webp=01;35:*.ogm=01;35:*.mp4=01;35:*.m4v=01;35:*.mp4v=01;35:*.vob=01;35:*.qt=01;35:*.nuv=01;35:*.wmv=01;35:*.asf=01;35:*.rm=01;35:*.rmvb=01;35:*.flc=01;35:*.avi=01;35:*.fli=01;35:*.flv=01;35:*.gl=01;35:*.dl=01;35:*.xcf=01;35:*.xwd=01;35:*.yuv=01;35:*.cgm=01;35:*.emf=01;35:*.ogv=01;35:*.ogx=01;35:*.aac=00;36:*.au=00;36:*.flac=00;36:*.m4a=00;36:*.mid=00;36:*.midi=00;36:*.mka=00;36:*.mp3=00;36:*.mpc=00;36:*.ogg=00;36:*.ra=00;36:*.wav=00;36:*.oga=00;36:*.opus=00;36:*.spx=00;36:*.xspf=00;36:',\n",
       " 'CONDA_PROMPT_MODIFIER': '(py3.8) ',\n",
       " 'SSH_CONNECTION': '192.168.31.140 49934 192.168.31.241 22',\n",
       " 'ANDROID_NDK_HOME': '/opt/Android/Ndk/android-ndk-r23c',\n",
       " 'HF_HOME': '/media/code/dataset/hf',\n",
       " 'LESSCLOSE': '/usr/bin/lesspipe %s %s',\n",
       " 'XDG_SESSION_CLASS': 'user',\n",
       " 'ANDROID_HOME': '/opt/Android/Sdk',\n",
       " 'MAMBA_EXE': '/home/liuqi/bin/micromamba',\n",
       " 'LC_IDENTIFICATION': 'zh_CN.UTF-8',\n",
       " 'TERM': 'xterm-color',\n",
       " 'LESSOPEN': '| /usr/bin/lesspipe %s',\n",
       " 'USER': 'liuqi',\n",
       " 'CONDA_SHLVL': '1',\n",
       " 'SHLVL': '1',\n",
       " 'LC_TELEPHONE': 'zh_CN.UTF-8',\n",
       " 'SKIP_DOWNLOAD_DECOUPLED_APPS': 'true',\n",
       " 'HUGGINGFACE_TOKEN': '<hidden>',\n",
       " 'LC_MEASUREMENT': 'zh_CN.UTF-8',\n",
       " 'XDG_SESSION_ID': '69',\n",
       " 'LD_LIBRARY_PATH': '/media/code/opt/micromamba/envs/py3.8/lib/',\n",
       " 'XDG_RUNTIME_DIR': '/run/user/1000',\n",
       " 'SSH_CLIENT': '192.168.31.140 49934 22',\n",
       " 'CONDA_DEFAULT_ENV': 'py3.8',\n",
       " 'LC_TIME': 'zh_CN.UTF-8',\n",
       " 'ANDROID_NDK_ROOT': '/opt/Android/Ndk/android-ndk-r23c',\n",
       " 'XDG_DATA_DIRS': '/usr/share/gnome:/usr/local/share/:/usr/share/',\n",
       " 'HF_ENDPOINT': 'https://hf-mirror.com',\n",
       " 'PATH': '/media/code/opt/micromamba/envs/py3.8/bin:/home/liuqi/.local/bin:/home/liuqi/bin:/opt/micromamba/condabin:/usr/local/cuda/bin:/home/liuqi/.local/bin:/home/liuqi/bin:/home/liuqi/oneKey/bin:/home/liuqi/oneKey/ubin:/usr/local/sbin:/usr/local/bin:/usr/sbin:/usr/bin:/sbin:/bin:/usr/games:/usr/local/games:/snap/bin:/opt/Android/Ndk/android-ndk-r23c:/home/liuqi/oneKey/script:/opt/miniconda3/bin:/media/code/app:/home/liuqi/.fzf/bin:/bin/x86_64-linux-clang/',\n",
       " 'DBUS_SESSION_BUS_ADDRESS': 'unix:path=/run/user/1000/bus',\n",
       " 'SSH_TTY': '/dev/pts/7',\n",
       " 'LC_NUMERIC': 'zh_CN.UTF-8',\n",
       " 'OLDPWD': '/opt/qcom/aistack/qnn',\n",
       " '_': '/media/code/opt/micromamba/envs/py3.8/bin/jupyter',\n",
       " 'JPY_SESSION_NAME': 'Accuracy Analyzer-7353904e-1ed6-4ac9-a0c9-1c7d3cc08a50.ipynb',\n",
       " 'JPY_PARENT_PID': '13191',\n",
       " 'PYDEVD_USE_FRAME_EVAL': 'NO',\n",
       " 'CLICOLOR': '1',\n",
       " 'FORCE_COLOR': '1',\n",
       " 'CLICOLOR_FORCE': '1',\n",
       " 'PAGER': 'cat',\n",
       " 'GIT_PAGER': 'cat',\n",
       " 'MPLBACKEND': 'module://matplotlib_inline.backend_inline',\n",
       " 'KMP_INIT_AT_FORK': 'FALSE',\n",
       " 'SNPE_ROOT': '/opt/qcom/aistack/snpe/2.16.0.231029/'}"
      ]
     },
     "execution_count": 25,
     "metadata": {},
     "output_type": "execute_result"
    }
   ],
   "source": [
    "%env\n",
    "# !echo $PYTHONPATH\n",
    "# 'PWD': '/opt/qcom/aistack/qnn'"
   ]
  },
  {
   "cell_type": "code",
   "execution_count": 26,
   "id": "69128600-57b3-4e43-90a2-e177bb6c3240",
   "metadata": {},
   "outputs": [
    {
     "name": "stdout",
     "output_type": "stream",
     "text": [
      "[INFO] AISW SDK environment set\n",
      "[INFO] SNPE_ROOT: /media/code/opt/qcom/aistack/snpe/2.16.0.231029\n"
     ]
    },
    {
     "name": "stderr",
     "output_type": "stream",
     "text": [
      "/media/code/opt/qcom/aistack/snpe/2.16.0.231029/lib/python/qti/aisw/converters/onnx/rnn_translations.py:411: SyntaxWarning: \"is not\" with a literal. Did you mean \"!=\"?\n",
      "  return [name for name in formatted_input_names if name is not '']\n",
      "2025-02-23 14:31:35,308 - 240 - WARNING - Couldn't import onnx-simplifier. (<class 'ModuleNotFoundError'>: No module named 'onnxsim')\n",
      "2025-02-23 14:31:35,308 - 240 - WARNING - Install the onnx-simplifier for better model compatibility: \"pip3 install onnx-simplifier\"\n",
      "2025-02-23 14:31:35,317 - 240 - WARNING - Try simplification again by skipping optimization\n",
      "2025-02-23 14:31:35,325 - 240 - WARNING - Couldn't import onnx-simplifier. (<class 'ModuleNotFoundError'>: No module named 'onnxsim')\n",
      "2025-02-23 14:31:35,325 - 240 - WARNING - Install the onnx-simplifier for better model compatibility: \"pip3 install onnx-simplifier\"\n",
      "2025-02-23 14:31:35,333 - 240 - WARNING - Resume normal conversion with unsimplified model\n",
      "2025-02-23 14:31:37,002 - 235 - INFO - Successfully run shape inference in child process\n",
      "2025-02-23 14:31:39,737 - 235 - INFO - Successfully receive the inferred model in main process\n",
      "2025-02-23 14:31:45,826 - 235 - INFO - INFO_INITIALIZATION_SUCCESS: \n",
      "2025-02-23 14:31:48,425 - 235 - INFO - INFO_CONVERSION_SUCCESS: Conversion completed successfully\n",
      "2025-02-23 14:31:52,130 - 235 - INFO - INFO_WRITE_SUCCESS: \n"
     ]
    },
    {
     "name": "stdout",
     "output_type": "stream",
     "text": [
      "                                  DLC Viewer\n",
      "\n",
      "Dlc Info Model Copyright Info AIP Info\n",
      "\n",
      "Model     N/A\n",
      "Version\n",
      "          94358560 (359 MB assuming single precision float. This does not\n",
      "Total     represent the actual memory requirement for the model. It provides a\n",
      "Params    rough estimate of the contribution from the parameters 4xNo of Params\n",
      "          in bytes)\n",
      "Total     6819M (100%)\n",
      "Macs\n",
      "Converter 2.16.0.231027072756_64280\n",
      "Version\n",
      "          snpe-onnx-to-dlc adjust_nms_features_dims=True align_matmul_ranks=\n",
      "          True batch=None converter_op_package_lib= copyright_file=None\n",
      "          custom_io= custom_op_config_paths=None debug=-1 define_symbol=None\n",
      "          disable_batchnorm_folding=False dry_run=None dumpIR=False\n",
      "          dump_custom_io_config_template= dump_inferred_model=False\n",
      "          dump_value_info=False enable_match_gathernd=False\n",
      "          enable_strict_validation=False expand_gru_op_structure=True\n",
      "          expand_lstm_op_structure=False extract_color_transform=True float_bw=\n",
      "Converter 32 force_prune_cast_ops=False handle_gather_negative_indices=True\n",
      "Command   inject_cast_for_gather=True input_dim=[['input_values', '1,40000']]\n",
      "          input_dtype=[] input_encoding=[] input_layout=[] input_type=[]\n",
      "          keep_disconnected_nodes=False keep_int64_inputs=False\n",
      "          keep_quant_nodes=False match_caffe_ssd_to_tf=True model_version=None\n",
      "          no_simplification=False op_package_lib= out_names=['logits']\n",
      "          package_name=None perform_axes_to_spatial_first_order=True\n",
      "          prepare_inputs_as_params=False preprocess_roi_pool_inputs=True\n",
      "          preserve_io=[] quantization_overrides= squash_box_decoder=True\n",
      "          unroll_gru_time_steps=True unroll_lstm_time_steps=True\n",
      "          use_convert_quantization_nodes=False validation_target=[]\n",
      "\n",
      "N/A\n",
      "\n",
      "??aix_table??\n",
      "\n",
      "Network Model HTML file saved at /media/code/qnn/qidk/Examples/Python-ASR-wav2vec2/wav2vec2_model_generation/models/wav2vec2_fp32.html\n"
     ]
    }
   ],
   "source": [
    "%%bash\n",
    "\n",
    "\n",
    "source $SNPE_ROOT/bin/envsetup.sh\n",
    "cd models\n",
    "snpe-onnx-to-dlc -i model.onnx -d input_values 1,40000 -o wav2vec2_fp32.dlc \n",
    "\n",
    "snpe-dlc-info --input_dlc wav2vec2_fp32.dlc > wav2vec2_fp32.txt\n",
    "snpe-dlc-viewer --input_dlc wav2vec2_fp32.dlc -s wav2vec2_fp32.html"
   ]
  },
  {
   "cell_type": "markdown",
   "id": "558799b5-1821-4fc1-b4b2-13dd8be1c78b",
   "metadata": {},
   "source": [
    "## Creating  the RAW Files "
   ]
  },
  {
   "cell_type": "markdown",
   "id": "57c640b8-9533-4018-a3a0-fc4177289db1",
   "metadata": {},
   "source": [
    "**Preparing the Dataset**"
   ]
  },
  {
   "cell_type": "code",
   "execution_count": 27,
   "id": "8be6602d-40d1-4a36-98bb-35ca085ec24f",
   "metadata": {},
   "outputs": [],
   "source": [
    "# Taking the ASR dataset\n",
    "dataset = load_dataset(\"hf-internal-testing/librispeech_asr_demo\", \"clean\", split=\"validation\")\n",
    "dataset = dataset.sort(\"id\")\n",
    "\n",
    "# Creating a dictionary to handle both audio and text where audio length is less than 40000\n",
    "dict={i:{} for i in range(len(dataset['text']))}\n",
    "for i in range(len(dataset['audio'])):\n",
    "    if len(dataset['audio'][i]['array'])>40000:continue\n",
    "    dict[i]['audio']=dataset['audio'][i]['array']\n",
    "    dict[i]['text']=dataset['text'][i]\n"
   ]
  },
  {
   "cell_type": "markdown",
   "id": "ac410986-5e0c-498a-a9ce-b7adc36d3e59",
   "metadata": {},
   "source": [
    "**generating RAW Files**"
   ]
  },
  {
   "cell_type": "code",
   "execution_count": 28,
   "id": "407a2225-e641-4a93-b974-f571cb57790b",
   "metadata": {},
   "outputs": [],
   "source": [
    "processor = AutoProcessor.from_pretrained(\"facebook/wav2vec2-base-960h\")\n",
    "os.makedirs('input_values',exist_ok=True)\n",
    "count=0\n",
    "# audio file is decoded on the fly\n",
    "for key in dict.keys():\n",
    "    if dict[key]=={}:continue\n",
    "\n",
    "    audio=dict[key]['audio']\n",
    "    input_value=processor(audio, sampling_rate=16000, return_tensors=\"np\",\n",
    "            padding='max_length',\n",
    "            truncation=\"longest_first\",\n",
    "            max_length=40000)\n",
    "\n",
    "    inp_val=input_value.input_values.astype(np.float32)\n",
    "    with open(\"input_values/inp_val_\"+str(key)+\".raw\", 'wb') as f:\n",
    "        inp_val.tofile(f)\n",
    "    count+=1"
   ]
  },
  {
   "cell_type": "markdown",
   "id": "0f1b248c-4f32-4e70-925e-55e07cad0c6c",
   "metadata": {},
   "source": [
    "**Generating the .txt file to give it during quantization of the Fp32 Model and snpe-net-run**"
   ]
  },
  {
   "cell_type": "code",
   "execution_count": 29,
   "id": "c214a236-adc9-45cf-a35b-a08e3bc81af2",
   "metadata": {},
   "outputs": [
    {
     "name": "stdout",
     "output_type": "stream",
     "text": [
      "Generating list.txt\" with 8 iterations\n"
     ]
    }
   ],
   "source": [
    "print(\"Generating list.txt\\\" with {} iterations\".format(count))\n",
    "with open(\"list.txt\",'w') as f:\n",
    "    for key in dict.keys():\n",
    "        if dict[key]=={}:continue\n",
    "        f.write(\"input_values:=input_values/inp_val_{}.raw\\n\".format(key))"
   ]
  },
  {
   "cell_type": "markdown",
   "id": "c2c25609-f74e-4aec-bfb6-c86eb359723c",
   "metadata": {},
   "source": [
    "### Creating the Quantized Model,weight is 8 bit and activation is of 16 bit"
   ]
  },
  {
   "cell_type": "code",
   "execution_count": 30,
   "id": "cb29a5a9-06f0-4de4-8004-85399765ef08",
   "metadata": {},
   "outputs": [
    {
     "name": "stdout",
     "output_type": "stream",
     "text": [
      "[INFO] AISW SDK environment set\n",
      "[INFO] SNPE_ROOT: /media/code/opt/qcom/aistack/snpe/2.16.0.231029\n"
     ]
    },
    {
     "name": "stderr",
     "output_type": "stream",
     "text": [
      "[INFO] InitializeStderr: DebugLog initialized.\n",
      "[INFO] Processed command-line arguments\n"
     ]
    },
    {
     "name": "stdout",
     "output_type": "stream",
     "text": [
      "runAlgorithms: Running CLE quantization algorithms\n",
      "HighBiasAbsorption: Running high bias absorption algorithm\n"
     ]
    },
    {
     "name": "stderr",
     "output_type": "stream",
     "text": [
      "[INFO] Quantized parameters\n",
      "[INFO] Generated activations\n",
      "[INFO] Saved quantized dlc to: models/wav2vec2_w8a16.dlc\n",
      "[INFO] DebugLog shutting down.\n"
     ]
    },
    {
     "name": "stdout",
     "output_type": "stream",
     "text": [
      "     0.7ms [  INFO ] Inferences will run in sync mode\n",
      "     0.8ms [  INFO ] Initializing logging in the backend. Callback: [0xcf3a80], Log Level: [3]\n",
      "     0.8ms [  INFO ] No BackendExtensions lib provided;initializing NetRunBackend Interface\n",
      "     1.6ms [WARNING] Unable to find a device with NetRunDeviceKeyDefault in Library NetRunBackendLibKeyDefault\n",
      "     1.7ms [  INFO ] Entering QuantizeRuntimeApp flow\n",
      "  1660.8ms [  INFO ] cleaning up resources for input tensors\n",
      "  1660.8ms [  INFO ] cleaning up resources for output tensors\n",
      "  2880.9ms [  INFO ] cleaning up resources for input tensors\n",
      "  2880.9ms [  INFO ] cleaning up resources for output tensors\n",
      "  4116.4ms [  INFO ] cleaning up resources for input tensors\n",
      "  4116.4ms [  INFO ] cleaning up resources for output tensors\n",
      "  5326.4ms [  INFO ] cleaning up resources for input tensors\n",
      "  5326.4ms [  INFO ] cleaning up resources for output tensors\n",
      "  6540.4ms [  INFO ] cleaning up resources for input tensors\n",
      "  6540.4ms [  INFO ] cleaning up resources for output tensors\n",
      "  7755.4ms [  INFO ] cleaning up resources for input tensors\n",
      "  7755.4ms [  INFO ] cleaning up resources for output tensors\n",
      "  8975.3ms [  INFO ] cleaning up resources for input tensors\n",
      "  8975.3ms [  INFO ] cleaning up resources for output tensors\n",
      " 10202.3ms [  INFO ] cleaning up resources for input tensors\n",
      " 10202.3ms [  INFO ] cleaning up resources for output tensors\n",
      " 11989.1ms [  INFO ] Freeing graphsInfo\n"
     ]
    },
    {
     "name": "stderr",
     "output_type": "stream",
     "text": [
      "[INFO] InitializeStderr: DebugLog initialized.\n",
      "[INFO] SNPE HTP Offline Prepare: Attempting to create cache for SM8650\n",
      "[INFO] Attempting to open dynamically linked lib: libHtpPrepare.so\n",
      "[INFO] dlopen libHtpPrepare.so SUCCESS handle 0x12c59f0\n",
      "[INFO] Found Interface Provider (v2.10)\n",
      "[USER_WARNING] QnnDsp <W> Initializing HtpProvider\n",
      "[USER_WARNING] QnnDsp <W> HTP arch will be deprecated, please set SoC id instead.\n",
      "[USER_INFO] Platform option not set\n",
      "[USER_INFO] Offline Prepare VTCM size(MB) selected = 8\n"
     ]
    },
    {
     "name": "stdout",
     "output_type": "stream",
     "text": [
      "\n",
      "====== Prepared Graph's Summary ======\n",
      "Spill fill buffer size = 66060288\n",
      "\n"
     ]
    },
    {
     "name": "stderr",
     "output_type": "stream",
     "text": [
      "[USER_INFO] Backend Mgr ~Dtor called for backend HTP\n",
      "[USER_INFO] Cleaning up Context handle:0x1\n",
      "[USER_INFO] BackendTerminate triggered\n",
      "[USER_WARNING] QnnDsp <W> Device 0x1 not found in registry\n",
      "[INFO] SNPE HTP Offline Prepare: Successfully created cache for SM8650\n",
      "[INFO] SNPE HTP Offline Prepare: Saved cached DLC to models/wav2vec2_w8a16.dlc\n",
      "[USER_INFO] BackendTerminate triggered\n",
      "[INFO] DebugLog shutting down.\n"
     ]
    },
    {
     "name": "stdout",
     "output_type": "stream",
     "text": [
      "                                  DLC Viewer\n",
      "\n",
      "Dlc Info Model Copyright Info AIP Info\n",
      "\n",
      "Model     N/A\n",
      "Version\n",
      "          94358560 (359 MB assuming single precision float. This does not\n",
      "Total     represent the actual memory requirement for the model. It provides a\n",
      "Params    rough estimate of the contribution from the parameters 4xNo of Params\n",
      "          in bytes)\n",
      "Total     6819M (100%)\n",
      "Macs\n",
      "Converter 2.16.0.231027072756_64280\n",
      "Version\n",
      "          snpe-onnx-to-dlc adjust_nms_features_dims=True align_matmul_ranks=\n",
      "          True batch=None converter_op_package_lib= copyright_file=None\n",
      "          custom_io= custom_op_config_paths=None debug=-1 define_symbol=None\n",
      "          disable_batchnorm_folding=False dry_run=None dumpIR=False\n",
      "          dump_custom_io_config_template= dump_inferred_model=False\n",
      "          dump_value_info=False enable_match_gathernd=False\n",
      "          enable_strict_validation=False expand_gru_op_structure=True\n",
      "          expand_lstm_op_structure=False extract_color_transform=True float_bw=\n",
      "Converter 32 force_prune_cast_ops=False handle_gather_negative_indices=True\n",
      "Command   inject_cast_for_gather=True input_dim=[['input_values', '1,40000']]\n",
      "          input_dtype=[] input_encoding=[] input_layout=[] input_type=[]\n",
      "          keep_disconnected_nodes=False keep_int64_inputs=False\n",
      "          keep_quant_nodes=False match_caffe_ssd_to_tf=True model_version=None\n",
      "          no_simplification=False op_package_lib= out_names=['logits']\n",
      "          package_name=None perform_axes_to_spatial_first_order=True\n",
      "          prepare_inputs_as_params=False preprocess_roi_pool_inputs=True\n",
      "          preserve_io=[] quantization_overrides= squash_box_decoder=True\n",
      "          unroll_gru_time_steps=True unroll_lstm_time_steps=True\n",
      "          use_convert_quantization_nodes=False validation_target=[]\n",
      "\n",
      "N/A\n",
      "\n",
      "??aix_table??\n",
      "\n",
      "Network Model HTML file saved at /media/code/qnn/qidk/Examples/Python-ASR-wav2vec2/wav2vec2_model_generation/wav2vec2_w8a16.html\n"
     ]
    }
   ],
   "source": [
    "%%bash\n",
    "source $SNPE_ROOT/bin/envsetup.sh\n",
    "snpe-dlc-quantize --input_dlc models/wav2vec2_fp32.dlc --input_list list.txt  --use_encoding_optimizations --optimizations cle --output_dlc models/wav2vec2_w8a16.dlc --enable_htp --htp_socs sm8650 --weights_bitwidth 8 --act_bitwidth 16 \n",
    "\n",
    "snpe-dlc-info --input_dlc models/wav2vec2_w8a16.dlc > wav2vec2_w8a16.txt\n",
    "snpe-dlc-viewer --input_dlc models/wav2vec2_w8a16.dlc -s wav2vec2_w8a16.html"
   ]
  },
  {
   "cell_type": "markdown",
   "id": "830e417a-d4d4-462a-91e6-32b0d50a7aee",
   "metadata": {},
   "source": [
    "### Inferencing on Device\n",
    "- Give you input raw file path\n",
    "- Give your SNPE Root (If you're testing on lanai then use *.1 SNPE version otherwise use *.0 SNPE version)\n",
    "- Different Precision Model Path\n",
    "- .txt path\n",
    "- Device that is connected to your machine *(adb devices)*"
   ]
  },
  {
   "cell_type": "code",
   "execution_count": 31,
   "id": "23d9441d-8242-41c2-9f0c-c663a58b2bf6",
   "metadata": {},
   "outputs": [
    {
     "name": "stdout",
     "output_type": "stream",
     "text": [
      "List of devices attached\n",
      "503bd507\tdevice\n",
      "\n"
     ]
    }
   ],
   "source": [
    "%%bash\n",
    "adb devices"
   ]
  },
  {
   "cell_type": "code",
   "execution_count": 32,
   "id": "09d11588-20fd-40cf-804d-2dd9ae362d7c",
   "metadata": {},
   "outputs": [],
   "source": [
    "import os\n",
    "os.environ['SNPE_ROOT']=\"/opt/qcom/aistack/snpe/2.16.0.231029/\"#set up your snpe path here.\n",
    "os.environ['RAW_FILE_FOLDER']=\"input_values\"\n",
    "os.environ['FOLDER_WITH_ARTIFACTS']=\"wav2vec2\"\n",
    "os.environ['DLCW8A16']=\"models/wav2vec2_w8a16.dlc\"\n",
    "os.environ['DLCFP32']=\"models/wav2vec2_fp32.dlc\"\n",
    "os.environ['TARGET_INPUT_LIST']=\"list.txt\"\n",
    "os.environ['ONDEVICE_FOLDER']=\"wav2vec2\"\n",
    "os.environ['DEVICE_HOST']=\"localhost\"\n",
    "os.environ['DEVICE_ID']=\"503bd507\" #fill your device-id. Use command \"adb devices\" to get devices names. example :\"e18d5d0\"\n",
    "os.environ['SNPE_TARGET_ARCH']=\"aarch64-android\"\n",
    "os.environ['SNPE_TARGET_STL']=\"libc++_shared.so\"\n",
    "os.environ['SNPE_TARGET_DSPARCH']=\"hexagon-v75\""
   ]
  },
  {
   "cell_type": "code",
   "execution_count": 33,
   "id": "5ed94d95-2b0f-44e5-9656-70d885a5d1ed",
   "metadata": {},
   "outputs": [],
   "source": [
    "%%bash\n",
    "export DEVICE_SHELL=\"adb -H $DEVICE_HOST -s $DEVICE_ID\"\n",
    "$DEVICE_SHELL shell \"mkdir -p /data/local/tmp/snpeexample/$SNPE_TARGET_ARCH/bin\" && $DEVICE_SHELL shell \"mkdir -p /data/local/tmp/snpeexample/$SNPE_TARGET_ARCH/lib\" && $DEVICE_SHELL shell \"mkdir -p /data/local/tmp/snpeexample/dsp/lib\""
   ]
  },
  {
   "cell_type": "markdown",
   "id": "41db805b-3a81-45b4-99e7-c3d3a39bc458",
   "metadata": {},
   "source": [
    "- If you're testing on lanai use hexagon-v75\n",
    "- For Kailua device use hexagon-v73"
   ]
  },
  {
   "cell_type": "code",
   "execution_count": 34,
   "id": "e96b5416-a435-453b-9d45-c092959534c3",
   "metadata": {},
   "outputs": [
    {
     "name": "stdout",
     "output_type": "stream",
     "text": [
      "/opt/qcom/aistack/snpe/2.16.0.231029//lib/aarch64-android/libc++_shared.so: 1 file pushed, 0 skipped. 1.3 MB/s (1027408 bytes in 0.754s)\n",
      "/opt/qcom/aistack/snpe/2.16.0.231029//bin/aarch64-android/snpe-net-run: 1 file pushed, 0 skipped. 9.5 MB/s (381976 bytes in 0.038s)\n",
      "/opt/qcom/aistack/snpe/2.16.0.231029//lib/hexagon-v73/unsigned/libCalculator_skel.so: 1 file pushed, 0 skipped. 0.4 MB/s (5484 bytes in 0.014s)\n",
      "/opt/qcom/aistack/snpe/2.16.0.231029//lib/hexagon-v73/unsigned/libSnpeHtpV73Skel.so: 1 file pushed, 0 skipped. 31.8 MB/s (7069568 bytes in 0.212s)\n",
      "2 files pushed, 0 skipped. 26.0 MB/s (7075052 bytes in 0.259s)\n",
      "/opt/qcom/aistack/snpe/2.16.0.231029//lib/aarch64-android/libcalculator_htp.so: 1 file pushed, 0 skipped. 0.3 MB/s (6416 bytes in 0.020s)\n",
      "/opt/qcom/aistack/snpe/2.16.0.231029//lib/aarch64-android/libcalculator.so: 1 file pushed, 0 skipped. 4.0 MB/s (6368 bytes in 0.002s)\n",
      "/opt/qcom/aistack/snpe/2.16.0.231029//lib/aarch64-android/libc++_shared.so: 1 file pushed, 0 skipped. 117.2 MB/s (1027408 bytes in 0.008s)\n",
      "/opt/qcom/aistack/snpe/2.16.0.231029//lib/aarch64-android/libhta_hexagon_runtime_snpe.so: 1 file pushed, 0 skipped. 19.4 MB/s (2789832 bytes in 0.137s)\n",
      "/opt/qcom/aistack/snpe/2.16.0.231029//lib/aarch64-android/libPlatformValidatorShared.so: 1 file pushed, 0 skipped. 30.7 MB/s (9561280 bytes in 0.297s)\n",
      "/opt/qcom/aistack/snpe/2.16.0.231029//lib/aarch64-android/libSnpeDspV66Stub.so: 1 file pushed, 0 skipped. 31.0 MB/s (923048 bytes in 0.028s)\n",
      "/opt/qcom/aistack/snpe/2.16.0.231029//lib/aarch64-android/libSnpeHta.so: 1 file pushed, 0 skipped. 24.2 MB/s (543424 bytes in 0.021s)\n",
      "/opt/qcom/aistack/snpe/2.16.0.231029//lib/aarch64-android/libSnpeHtpPrepare.so: 1 file pushed, 0 skipped. 67.0 MB/s (25196048 bytes in 0.359s)\n",
      "/opt/qcom/aistack/snpe/2.16.0.231029//lib/aarch64-android/libSnpeHtpV68Stub.so: 1 file pushed, 0 skipped. 52.4 MB/s (62888 bytes in 0.001s)\n",
      "/opt/qcom/aistack/snpe/2.16.0.231029//lib/aarch64-android/libSnpeHtpV69Stub.so: 1 file pushed, 0 skipped. 3.7 MB/s (63768 bytes in 0.016s)\n",
      "/opt/qcom/aistack/snpe/2.16.0.231029//lib/aarch64-android/libSnpeHtpV73Stub.so: 1 file pushed, 0 skipped. 4.0 MB/s (70008 bytes in 0.017s)\n",
      "/opt/qcom/aistack/snpe/2.16.0.231029//lib/aarch64-android/libSnpeHtpV75Stub.so: 1 file pushed, 0 skipped. 6.1 MB/s (72112 bytes in 0.011s)\n",
      "/opt/qcom/aistack/snpe/2.16.0.231029//lib/aarch64-android/libSNPE.so: 1 file pushed, 0 skipped. 45.1 MB/s (12030584 bytes in 0.255s)\n",
      "13 files pushed, 0 skipped. 40.8 MB/s (52353184 bytes in 1.223s)\n"
     ]
    }
   ],
   "source": [
    "%%bash\n",
    "export DEVICE_SHELL=\"adb -H $DEVICE_HOST -s $DEVICE_ID\"\n",
    "$DEVICE_SHELL push $SNPE_ROOT/lib/$SNPE_TARGET_ARCH/$SNPE_TARGET_STL /data/local/tmp/snpeexample/$SNPE_TARGET_ARCH/lib\n",
    "$DEVICE_SHELL push $SNPE_ROOT/bin/$SNPE_TARGET_ARCH/snpe-net-run /data/local/tmp/snpeexample/$SNPE_TARGET_ARCH/bin\n",
    "$DEVICE_SHELL push $SNPE_ROOT/lib/hexagon-v73/unsigned/*.so /data/local/tmp/snpeexample/dsp/lib\n",
    "$DEVICE_SHELL push $SNPE_ROOT/lib/$SNPE_TARGET_ARCH/*.so /data/local/tmp/snpeexample/$SNPE_TARGET_ARCH/lib"
   ]
  },
  {
   "cell_type": "code",
   "execution_count": 35,
   "id": "8e9d5f09-fb3e-4e68-8608-7a148221ee32",
   "metadata": {},
   "outputs": [],
   "source": [
    "%%bash\n",
    "export DEVICE_SHELL=\"adb -H $DEVICE_HOST -s $DEVICE_ID\"\n",
    "$DEVICE_SHELL shell \"mkdir -p /data/local/tmp/$ONDEVICE_FOLDER\""
   ]
  },
  {
   "cell_type": "markdown",
   "id": "f4e19ecb-6474-45aa-b61e-5ce97494d41c",
   "metadata": {},
   "source": [
    "**Pushing The DLC,raw files and .txt file to the device**"
   ]
  },
  {
   "cell_type": "code",
   "execution_count": 36,
   "id": "52cf9df4-9688-4949-b3d1-2cf40ba8ba4c",
   "metadata": {},
   "outputs": [
    {
     "name": "stdout",
     "output_type": "stream",
     "text": [
      "models/wav2vec2_w8a16.dlc: 1 file pushed, 0 skipped. 63.0 MB/s (196866563 bytes in 2.979s)\n",
      "models/wav2vec2_fp32.dlc: 1 file pushed, 0 skipped. 61.5 MB/s (378009443 bytes in 5.858s)\n",
      "input_values/: 8 files pushed, 0 skipped. 19.7 MB/s (1280000 bytes in 0.062s)\n",
      "list.txt: 1 file pushed, 0 skipped. 3.1 MB/s (336 bytes in 0.000s)\n"
     ]
    }
   ],
   "source": [
    "%%bash\n",
    "export DEVICE_SHELL=\"adb -H $DEVICE_HOST -s $DEVICE_ID\"\n",
    "$DEVICE_SHELL push $DLCW8A16 /data/local/tmp/$ONDEVICE_FOLDER\n",
    "$DEVICE_SHELL push $DLCFP32 /data/local/tmp/$ONDEVICE_FOLDER \n",
    "$DEVICE_SHELL push input_values /data/local/tmp/$ONDEVICE_FOLDER\n",
    "$DEVICE_SHELL push $TARGET_INPUT_LIST /data/local/tmp/$ONDEVICE_FOLDER"
   ]
  },
  {
   "cell_type": "markdown",
   "id": "01c5261e-71ae-466a-89ed-1f2d2e8c35ff",
   "metadata": {},
   "source": [
    "**Inferencing the FP32 DLC**"
   ]
  },
  {
   "cell_type": "code",
   "execution_count": 37,
   "id": "ff8aa2a6-39e8-424e-aa05-96bccfbacd90",
   "metadata": {},
   "outputs": [
    {
     "name": "stdout",
     "output_type": "stream",
     "text": [
      "-------------------------------------------------------------------------------\n",
      "Model String: N/A\n",
      "SNPE v2.16.0.231027072756_64280\n",
      "-------------------------------------------------------------------------------\n",
      "Processing DNN input(s):\n",
      "input_values/inp_val_14.raw\n",
      "Processing DNN input(s):\n",
      "input_values/inp_val_24.raw\n",
      "Processing DNN input(s):\n",
      "input_values/inp_val_27.raw\n",
      "Processing DNN input(s):\n",
      "input_values/inp_val_29.raw\n",
      "Processing DNN input(s):\n",
      "input_values/inp_val_31.raw\n",
      "Processing DNN input(s):\n",
      "input_values/inp_val_33.raw\n",
      "Processing DNN input(s):\n",
      "input_values/inp_val_53.raw\n",
      "Processing DNN input(s):\n",
      "input_values/inp_val_56.raw\n",
      "Successfully executed!\n"
     ]
    }
   ],
   "source": [
    "%%bash\n",
    "export DEVICE_SHELL=\"adb -H $DEVICE_HOST -s $DEVICE_ID\"\n",
    "$DEVICE_SHELL shell\n",
    "export LD_LIBRARY_PATH=$LD_LIBRARY_PATH:/data/local/tmp/snpeexample/aarch64-android/lib\n",
    "export PATH=$PATH:/data/local/tmp/snpeexample/aarch64-android/bin\n",
    "export OUTPUT_FOLDER=OUTPUT_32b_CPU\n",
    "export OUTPUT_DLC_32=wav2vec2_fp32.dlc\n",
    "export ONDEVICE_FOLDER=\"wav2vec2\"\n",
    "cd /data/local/tmp/$ONDEVICE_FOLDER &&\n",
    "snpe-net-run --container $OUTPUT_DLC_32 --input_list list.txt   --output_dir $OUTPUT_FOLDER"
   ]
  },
  {
   "cell_type": "markdown",
   "id": "18a0c69e-cda0-482b-9603-e1a7eb3001f7",
   "metadata": {},
   "source": [
    "**Inferencing the Quantized DLC**"
   ]
  },
  {
   "cell_type": "code",
   "execution_count": 38,
   "id": "08a9ae42-74a9-47ed-ad49-830e685fdf2e",
   "metadata": {},
   "outputs": [
    {
     "name": "stdout",
     "output_type": "stream",
     "text": [
      "\n",
      "The selected runtime is not available on this platform. Continue anyway to observe the failure at network creation time.\n"
     ]
    },
    {
     "name": "stderr",
     "output_type": "stream",
     "text": [
      "error_code=1200; error_message=libstd error. QnnBackend_DeviceCreate failed: 14001; error_component=Dependent library; line_no=1887; thread_id=521282127096\n",
      "error_code=1200; error_message=libstd error. error_code=1200; error_message=libstd error. QnnBackend_DeviceCreate failed: 14001; error_component=Dependent library; line_no=1887; thread_id=518683884784; error_component=Dependent library; line_no=277; thread_id=521282127096\n"
     ]
    },
    {
     "ename": "CalledProcessError",
     "evalue": "Command 'b'export DEVICE_SHELL=\"adb -H $DEVICE_HOST -s $DEVICE_ID\"\\n$DEVICE_SHELL shell\\nexport LD_LIBRARY_PATH=$LD_LIBRARY_PATH:/data/local/tmp/snpeexample/aarch64-android/lib\\nexport PATH=$PATH:/data/local/tmp/snpeexample/aarch64-android/bin\\nexport ADSP_LIBRARY_PATH=\"/data/local/tmp/snpeexample/dsp/lib;/system/lib/rfsa/adsp;/system/vendor/lib/rfsa/adsp;/dsp\"\\nexport OUTPUT_FOLDER=OUTPUT_DSP_W8A16\\nexport DLC_W8A16=wav2vec2_w8a16.dlc\\nexport ONDEVICE_FOLDER=\"wav2vec2\"\\ncd /data/local/tmp/$ONDEVICE_FOLDER &&\\nsnpe-net-run --container $DLC_W8A16 --input_list list.txt  --output_dir $OUTPUT_FOLDER --use_dsp\\n'' returned non-zero exit status 1.",
     "output_type": "error",
     "traceback": [
      "\u001b[0;31m---------------------------------------------------------------------------\u001b[0m",
      "\u001b[0;31mCalledProcessError\u001b[0m                        Traceback (most recent call last)",
      "Cell \u001b[0;32mIn[38], line 1\u001b[0m\n\u001b[0;32m----> 1\u001b[0m \u001b[43mget_ipython\u001b[49m\u001b[43m(\u001b[49m\u001b[43m)\u001b[49m\u001b[38;5;241;43m.\u001b[39;49m\u001b[43mrun_cell_magic\u001b[49m\u001b[43m(\u001b[49m\u001b[38;5;124;43m'\u001b[39;49m\u001b[38;5;124;43mbash\u001b[39;49m\u001b[38;5;124;43m'\u001b[39;49m\u001b[43m,\u001b[49m\u001b[43m \u001b[49m\u001b[38;5;124;43m'\u001b[39;49m\u001b[38;5;124;43m'\u001b[39;49m\u001b[43m,\u001b[49m\u001b[43m \u001b[49m\u001b[38;5;124;43m'\u001b[39;49m\u001b[38;5;124;43mexport DEVICE_SHELL=\u001b[39;49m\u001b[38;5;124;43m\"\u001b[39;49m\u001b[38;5;124;43madb -H $DEVICE_HOST -s $DEVICE_ID\u001b[39;49m\u001b[38;5;124;43m\"\u001b[39;49m\u001b[38;5;130;43;01m\\n\u001b[39;49;00m\u001b[38;5;124;43m$DEVICE_SHELL shell\u001b[39;49m\u001b[38;5;130;43;01m\\n\u001b[39;49;00m\u001b[38;5;124;43mexport LD_LIBRARY_PATH=$LD_LIBRARY_PATH:/data/local/tmp/snpeexample/aarch64-android/lib\u001b[39;49m\u001b[38;5;130;43;01m\\n\u001b[39;49;00m\u001b[38;5;124;43mexport PATH=$PATH:/data/local/tmp/snpeexample/aarch64-android/bin\u001b[39;49m\u001b[38;5;130;43;01m\\n\u001b[39;49;00m\u001b[38;5;124;43mexport ADSP_LIBRARY_PATH=\u001b[39;49m\u001b[38;5;124;43m\"\u001b[39;49m\u001b[38;5;124;43m/data/local/tmp/snpeexample/dsp/lib;/system/lib/rfsa/adsp;/system/vendor/lib/rfsa/adsp;/dsp\u001b[39;49m\u001b[38;5;124;43m\"\u001b[39;49m\u001b[38;5;130;43;01m\\n\u001b[39;49;00m\u001b[38;5;124;43mexport OUTPUT_FOLDER=OUTPUT_DSP_W8A16\u001b[39;49m\u001b[38;5;130;43;01m\\n\u001b[39;49;00m\u001b[38;5;124;43mexport DLC_W8A16=wav2vec2_w8a16.dlc\u001b[39;49m\u001b[38;5;130;43;01m\\n\u001b[39;49;00m\u001b[38;5;124;43mexport ONDEVICE_FOLDER=\u001b[39;49m\u001b[38;5;124;43m\"\u001b[39;49m\u001b[38;5;124;43mwav2vec2\u001b[39;49m\u001b[38;5;124;43m\"\u001b[39;49m\u001b[38;5;130;43;01m\\n\u001b[39;49;00m\u001b[38;5;124;43mcd /data/local/tmp/$ONDEVICE_FOLDER &&\u001b[39;49m\u001b[38;5;130;43;01m\\n\u001b[39;49;00m\u001b[38;5;124;43msnpe-net-run --container $DLC_W8A16 --input_list list.txt  --output_dir $OUTPUT_FOLDER --use_dsp\u001b[39;49m\u001b[38;5;130;43;01m\\n\u001b[39;49;00m\u001b[38;5;124;43m'\u001b[39;49m\u001b[43m)\u001b[49m\n",
      "File \u001b[0;32m/media/code/opt/micromamba/envs/py3.8/lib/python3.8/site-packages/IPython/core/interactiveshell.py:2478\u001b[0m, in \u001b[0;36mInteractiveShell.run_cell_magic\u001b[0;34m(self, magic_name, line, cell)\u001b[0m\n\u001b[1;32m   2476\u001b[0m \u001b[38;5;28;01mwith\u001b[39;00m \u001b[38;5;28mself\u001b[39m\u001b[38;5;241m.\u001b[39mbuiltin_trap:\n\u001b[1;32m   2477\u001b[0m     args \u001b[38;5;241m=\u001b[39m (magic_arg_s, cell)\n\u001b[0;32m-> 2478\u001b[0m     result \u001b[38;5;241m=\u001b[39m \u001b[43mfn\u001b[49m\u001b[43m(\u001b[49m\u001b[38;5;241;43m*\u001b[39;49m\u001b[43margs\u001b[49m\u001b[43m,\u001b[49m\u001b[43m \u001b[49m\u001b[38;5;241;43m*\u001b[39;49m\u001b[38;5;241;43m*\u001b[39;49m\u001b[43mkwargs\u001b[49m\u001b[43m)\u001b[49m\n\u001b[1;32m   2480\u001b[0m \u001b[38;5;66;03m# The code below prevents the output from being displayed\u001b[39;00m\n\u001b[1;32m   2481\u001b[0m \u001b[38;5;66;03m# when using magics with decodator @output_can_be_silenced\u001b[39;00m\n\u001b[1;32m   2482\u001b[0m \u001b[38;5;66;03m# when the last Python token in the expression is a ';'.\u001b[39;00m\n\u001b[1;32m   2483\u001b[0m \u001b[38;5;28;01mif\u001b[39;00m \u001b[38;5;28mgetattr\u001b[39m(fn, magic\u001b[38;5;241m.\u001b[39mMAGIC_OUTPUT_CAN_BE_SILENCED, \u001b[38;5;28;01mFalse\u001b[39;00m):\n",
      "File \u001b[0;32m/media/code/opt/micromamba/envs/py3.8/lib/python3.8/site-packages/IPython/core/magics/script.py:153\u001b[0m, in \u001b[0;36mScriptMagics._make_script_magic.<locals>.named_script_magic\u001b[0;34m(line, cell)\u001b[0m\n\u001b[1;32m    151\u001b[0m \u001b[38;5;28;01melse\u001b[39;00m:\n\u001b[1;32m    152\u001b[0m     line \u001b[38;5;241m=\u001b[39m script\n\u001b[0;32m--> 153\u001b[0m \u001b[38;5;28;01mreturn\u001b[39;00m \u001b[38;5;28;43mself\u001b[39;49m\u001b[38;5;241;43m.\u001b[39;49m\u001b[43mshebang\u001b[49m\u001b[43m(\u001b[49m\u001b[43mline\u001b[49m\u001b[43m,\u001b[49m\u001b[43m \u001b[49m\u001b[43mcell\u001b[49m\u001b[43m)\u001b[49m\n",
      "File \u001b[0;32m/media/code/opt/micromamba/envs/py3.8/lib/python3.8/site-packages/IPython/core/magics/script.py:305\u001b[0m, in \u001b[0;36mScriptMagics.shebang\u001b[0;34m(self, line, cell)\u001b[0m\n\u001b[1;32m    300\u001b[0m \u001b[38;5;28;01mif\u001b[39;00m args\u001b[38;5;241m.\u001b[39mraise_error \u001b[38;5;129;01mand\u001b[39;00m p\u001b[38;5;241m.\u001b[39mreturncode \u001b[38;5;241m!=\u001b[39m \u001b[38;5;241m0\u001b[39m:\n\u001b[1;32m    301\u001b[0m     \u001b[38;5;66;03m# If we get here and p.returncode is still None, we must have\u001b[39;00m\n\u001b[1;32m    302\u001b[0m     \u001b[38;5;66;03m# killed it but not yet seen its return code. We don't wait for it,\u001b[39;00m\n\u001b[1;32m    303\u001b[0m     \u001b[38;5;66;03m# in case it's stuck in uninterruptible sleep. -9 = SIGKILL\u001b[39;00m\n\u001b[1;32m    304\u001b[0m     rc \u001b[38;5;241m=\u001b[39m p\u001b[38;5;241m.\u001b[39mreturncode \u001b[38;5;129;01mor\u001b[39;00m \u001b[38;5;241m-\u001b[39m\u001b[38;5;241m9\u001b[39m\n\u001b[0;32m--> 305\u001b[0m     \u001b[38;5;28;01mraise\u001b[39;00m CalledProcessError(rc, cell)\n",
      "\u001b[0;31mCalledProcessError\u001b[0m: Command 'b'export DEVICE_SHELL=\"adb -H $DEVICE_HOST -s $DEVICE_ID\"\\n$DEVICE_SHELL shell\\nexport LD_LIBRARY_PATH=$LD_LIBRARY_PATH:/data/local/tmp/snpeexample/aarch64-android/lib\\nexport PATH=$PATH:/data/local/tmp/snpeexample/aarch64-android/bin\\nexport ADSP_LIBRARY_PATH=\"/data/local/tmp/snpeexample/dsp/lib;/system/lib/rfsa/adsp;/system/vendor/lib/rfsa/adsp;/dsp\"\\nexport OUTPUT_FOLDER=OUTPUT_DSP_W8A16\\nexport DLC_W8A16=wav2vec2_w8a16.dlc\\nexport ONDEVICE_FOLDER=\"wav2vec2\"\\ncd /data/local/tmp/$ONDEVICE_FOLDER &&\\nsnpe-net-run --container $DLC_W8A16 --input_list list.txt  --output_dir $OUTPUT_FOLDER --use_dsp\\n'' returned non-zero exit status 1."
     ]
    }
   ],
   "source": [
    "%%bash\n",
    "export DEVICE_SHELL=\"adb -H $DEVICE_HOST -s $DEVICE_ID\"\n",
    "$DEVICE_SHELL shell\n",
    "export LD_LIBRARY_PATH=$LD_LIBRARY_PATH:/data/local/tmp/snpeexample/aarch64-android/lib\n",
    "export PATH=$PATH:/data/local/tmp/snpeexample/aarch64-android/bin\n",
    "export ADSP_LIBRARY_PATH=\"/data/local/tmp/snpeexample/dsp/lib;/system/lib/rfsa/adsp;/system/vendor/lib/rfsa/adsp;/dsp\"\n",
    "export OUTPUT_FOLDER=OUTPUT_DSP_W8A16\n",
    "export DLC_W8A16=wav2vec2_w8a16.dlc\n",
    "export ONDEVICE_FOLDER=\"wav2vec2\"\n",
    "cd /data/local/tmp/$ONDEVICE_FOLDER &&\n",
    "snpe-net-run --container $DLC_W8A16 --input_list list.txt  --output_dir $OUTPUT_FOLDER\n",
    "# snpe-net-run --container $DLC_W8A16 --input_list list.txt  --output_dir $OUTPUT_FOLDER --use_dsp\n",
    "# 最后一个--use_dsp参数不行?但是这样就是在CPU上运行了。"
   ]
  },
  {
   "cell_type": "markdown",
   "id": "768658ec-c8e7-4f5c-a642-139c0ce8b6d3",
   "metadata": {},
   "source": [
    "**Pulling the Output**"
   ]
  },
  {
   "cell_type": "code",
   "execution_count": 39,
   "id": "26679487-f915-4f33-99a7-55988b97e8a0",
   "metadata": {},
   "outputs": [
    {
     "name": "stdout",
     "output_type": "stream",
     "text": [
      "/data/local/tmp/wav2vec2/OUTPUT_DSP_W8A16/: 10 files pulled, 0 skipped. 2.9 MB/s (1178832 bytes in 0.389s)\n",
      "/data/local/tmp/wav2vec2/OUTPUT_32b_CPU/: 10 files pulled, 0 skipped. 8.4 MB/s (1121744 bytes in 0.127s)\n"
     ]
    }
   ],
   "source": [
    "%%bash\n",
    "export DEVICE_SHELL=\"adb -H $DEVICE_HOST -s $DEVICE_ID\"\n",
    "#$DEVICE_SHELL pull /data/local/tmp/$ONDEVICE_FOLDER/OUTPUT_DSP_W16A16 OUTPUT_DSP_W16A16\n",
    "$DEVICE_SHELL pull /data/local/tmp/$ONDEVICE_FOLDER/OUTPUT_DSP_W8A16 OUTPUT_DSP_W8A16\n",
    "$DEVICE_SHELL pull /data/local/tmp/$ONDEVICE_FOLDER/OUTPUT_32b_CPU OUTPUT_32b_CPU"
   ]
  },
  {
   "cell_type": "markdown",
   "id": "c064d2ec-54da-4a19-8cfa-c916be564c43",
   "metadata": {},
   "source": [
    "## Postprocessing and showing the Output"
   ]
  },
  {
   "cell_type": "code",
   "execution_count": 41,
   "id": "df6a0e20-dffe-422f-a81b-4c91b6736449",
   "metadata": {},
   "outputs": [
    {
     "name": "stdout",
     "output_type": "stream",
     "text": [
      "----------------------- OUTPUT_32b_CPU -----------------------------\n",
      "[\"HE DOESN'T WORK AT ALL\"]\n",
      "['BY HARRY QUILTER M A']\n",
      "['CALAGO HESITATED']\n",
      "['WHERE IS MY BROTHER NOW']\n",
      "['WHERE IS THAT']\n",
      "[\"OH NO I'M QUITE SURE HE DIDN'T\"]\n",
      "['TEN SECONDS']\n",
      "['THE TWENTIES']\n",
      "----------------------- OUTPUT_DSP_W8A16 -----------------------------\n",
      "[\"HE DOESN'T WORK AT ALL\"]\n",
      "['BY HARRY QUILTER M A']\n",
      "['CALIGO HESITATED']\n",
      "['WHERE IS MY BROTHER NOW']\n",
      "['WHERE IS THAT']\n",
      "[\"OH NO I'M QUITE SURE HE DIDN'T\"]\n",
      "['TEN SECONDS']\n",
      "['THE TWENTIES']\n"
     ]
    }
   ],
   "source": [
    "import glob\n",
    "# import tensorflow as tf\n",
    "import os\n",
    "#folder = [\"OUTPUT_32b_CPU\",\"OUTPUT_DSP_W16A16\",\"OUTPUT_DSP_W8A16\"]\n",
    "folder = [\"OUTPUT_32b_CPU\",\"OUTPUT_DSP_W8A16\"]\n",
    "for j in range(0,2):\n",
    "    print(\"-----------------------\",folder[j],\"-----------------------------\")\n",
    "    for result_path in glob.glob(os.path.join(folder[j], '*')):\n",
    "        if \".log\" not in result_path:\n",
    "            logits = np.fromfile(result_path+'/logits.raw', dtype=\"float32\")\n",
    "            \n",
    "            logits=torch.from_numpy(logits.reshape((1,124,32)))\n",
    "            predicted_ids = torch.argmax(logits, dim=-1)\n",
    "            print(processor.batch_decode(predicted_ids))\n",
    "    "
   ]
  },
  {
   "cell_type": "markdown",
   "id": "5dde1895-2843-482c-804b-104eb60ec04e",
   "metadata": {},
   "source": [
    "## Checking the Time taken layer by layer for the Model"
   ]
  },
  {
   "cell_type": "code",
   "execution_count": 43,
   "id": "befef637-6c03-4a25-9822-59d36927ed8e",
   "metadata": {},
   "outputs": [
    {
     "name": "stderr",
     "output_type": "stream",
     "text": [
      "bash: line 1: snpe-diagview: command not found\n",
      "bash: line 2: snpe-diagview: command not found\n"
     ]
    },
    {
     "ename": "CalledProcessError",
     "evalue": "Command 'b'snpe-diagview --input_log OUTPUT_32b_CPU/SNPEDiag_0.log --output run_result_32b.csv\\nsnpe-diagview --input_log OUTPUT_DSP_W8A16/SNPEDiag_0.log --output run_result_a8w16.csv\\n'' returned non-zero exit status 127.",
     "output_type": "error",
     "traceback": [
      "\u001b[0;31m---------------------------------------------------------------------------\u001b[0m",
      "\u001b[0;31mCalledProcessError\u001b[0m                        Traceback (most recent call last)",
      "Cell \u001b[0;32mIn[43], line 1\u001b[0m\n\u001b[0;32m----> 1\u001b[0m \u001b[43mget_ipython\u001b[49m\u001b[43m(\u001b[49m\u001b[43m)\u001b[49m\u001b[38;5;241;43m.\u001b[39;49m\u001b[43mrun_cell_magic\u001b[49m\u001b[43m(\u001b[49m\u001b[38;5;124;43m'\u001b[39;49m\u001b[38;5;124;43mbash\u001b[39;49m\u001b[38;5;124;43m'\u001b[39;49m\u001b[43m,\u001b[49m\u001b[43m \u001b[49m\u001b[38;5;124;43m'\u001b[39;49m\u001b[38;5;124;43m'\u001b[39;49m\u001b[43m,\u001b[49m\u001b[43m \u001b[49m\u001b[38;5;124;43m'\u001b[39;49m\u001b[38;5;124;43msnpe-diagview --input_log OUTPUT_32b_CPU/SNPEDiag_0.log --output run_result_32b.csv\u001b[39;49m\u001b[38;5;130;43;01m\\n\u001b[39;49;00m\u001b[38;5;124;43msnpe-diagview --input_log OUTPUT_DSP_W8A16/SNPEDiag_0.log --output run_result_a8w16.csv\u001b[39;49m\u001b[38;5;130;43;01m\\n\u001b[39;49;00m\u001b[38;5;124;43m'\u001b[39;49m\u001b[43m)\u001b[49m\n",
      "File \u001b[0;32m/media/code/opt/micromamba/envs/py3.8/lib/python3.8/site-packages/IPython/core/interactiveshell.py:2478\u001b[0m, in \u001b[0;36mInteractiveShell.run_cell_magic\u001b[0;34m(self, magic_name, line, cell)\u001b[0m\n\u001b[1;32m   2476\u001b[0m \u001b[38;5;28;01mwith\u001b[39;00m \u001b[38;5;28mself\u001b[39m\u001b[38;5;241m.\u001b[39mbuiltin_trap:\n\u001b[1;32m   2477\u001b[0m     args \u001b[38;5;241m=\u001b[39m (magic_arg_s, cell)\n\u001b[0;32m-> 2478\u001b[0m     result \u001b[38;5;241m=\u001b[39m \u001b[43mfn\u001b[49m\u001b[43m(\u001b[49m\u001b[38;5;241;43m*\u001b[39;49m\u001b[43margs\u001b[49m\u001b[43m,\u001b[49m\u001b[43m \u001b[49m\u001b[38;5;241;43m*\u001b[39;49m\u001b[38;5;241;43m*\u001b[39;49m\u001b[43mkwargs\u001b[49m\u001b[43m)\u001b[49m\n\u001b[1;32m   2480\u001b[0m \u001b[38;5;66;03m# The code below prevents the output from being displayed\u001b[39;00m\n\u001b[1;32m   2481\u001b[0m \u001b[38;5;66;03m# when using magics with decodator @output_can_be_silenced\u001b[39;00m\n\u001b[1;32m   2482\u001b[0m \u001b[38;5;66;03m# when the last Python token in the expression is a ';'.\u001b[39;00m\n\u001b[1;32m   2483\u001b[0m \u001b[38;5;28;01mif\u001b[39;00m \u001b[38;5;28mgetattr\u001b[39m(fn, magic\u001b[38;5;241m.\u001b[39mMAGIC_OUTPUT_CAN_BE_SILENCED, \u001b[38;5;28;01mFalse\u001b[39;00m):\n",
      "File \u001b[0;32m/media/code/opt/micromamba/envs/py3.8/lib/python3.8/site-packages/IPython/core/magics/script.py:153\u001b[0m, in \u001b[0;36mScriptMagics._make_script_magic.<locals>.named_script_magic\u001b[0;34m(line, cell)\u001b[0m\n\u001b[1;32m    151\u001b[0m \u001b[38;5;28;01melse\u001b[39;00m:\n\u001b[1;32m    152\u001b[0m     line \u001b[38;5;241m=\u001b[39m script\n\u001b[0;32m--> 153\u001b[0m \u001b[38;5;28;01mreturn\u001b[39;00m \u001b[38;5;28;43mself\u001b[39;49m\u001b[38;5;241;43m.\u001b[39;49m\u001b[43mshebang\u001b[49m\u001b[43m(\u001b[49m\u001b[43mline\u001b[49m\u001b[43m,\u001b[49m\u001b[43m \u001b[49m\u001b[43mcell\u001b[49m\u001b[43m)\u001b[49m\n",
      "File \u001b[0;32m/media/code/opt/micromamba/envs/py3.8/lib/python3.8/site-packages/IPython/core/magics/script.py:305\u001b[0m, in \u001b[0;36mScriptMagics.shebang\u001b[0;34m(self, line, cell)\u001b[0m\n\u001b[1;32m    300\u001b[0m \u001b[38;5;28;01mif\u001b[39;00m args\u001b[38;5;241m.\u001b[39mraise_error \u001b[38;5;129;01mand\u001b[39;00m p\u001b[38;5;241m.\u001b[39mreturncode \u001b[38;5;241m!=\u001b[39m \u001b[38;5;241m0\u001b[39m:\n\u001b[1;32m    301\u001b[0m     \u001b[38;5;66;03m# If we get here and p.returncode is still None, we must have\u001b[39;00m\n\u001b[1;32m    302\u001b[0m     \u001b[38;5;66;03m# killed it but not yet seen its return code. We don't wait for it,\u001b[39;00m\n\u001b[1;32m    303\u001b[0m     \u001b[38;5;66;03m# in case it's stuck in uninterruptible sleep. -9 = SIGKILL\u001b[39;00m\n\u001b[1;32m    304\u001b[0m     rc \u001b[38;5;241m=\u001b[39m p\u001b[38;5;241m.\u001b[39mreturncode \u001b[38;5;129;01mor\u001b[39;00m \u001b[38;5;241m-\u001b[39m\u001b[38;5;241m9\u001b[39m\n\u001b[0;32m--> 305\u001b[0m     \u001b[38;5;28;01mraise\u001b[39;00m CalledProcessError(rc, cell)\n",
      "\u001b[0;31mCalledProcessError\u001b[0m: Command 'b'snpe-diagview --input_log OUTPUT_32b_CPU/SNPEDiag_0.log --output run_result_32b.csv\\nsnpe-diagview --input_log OUTPUT_DSP_W8A16/SNPEDiag_0.log --output run_result_a8w16.csv\\n'' returned non-zero exit status 127."
     ]
    }
   ],
   "source": [
    "%%bash\n",
    "# 本地可以执行\n",
    "snpe-diagview --input_log OUTPUT_32b_CPU/SNPEDiag_0.log --output run_result_32b.csv\n",
    "snpe-diagview --input_log OUTPUT_DSP_W8A16/SNPEDiag_0.log --output run_result_a8w16.csv"
   ]
  },
  {
   "cell_type": "code",
   "execution_count": 44,
   "id": "b2a226b2-0e25-407a-9247-4b9eef751317",
   "metadata": {},
   "outputs": [
    {
     "data": {
      "text/html": [
       "<div>\n",
       "<style scoped>\n",
       "    .dataframe tbody tr th:only-of-type {\n",
       "        vertical-align: middle;\n",
       "    }\n",
       "\n",
       "    .dataframe tbody tr th {\n",
       "        vertical-align: top;\n",
       "    }\n",
       "\n",
       "    .dataframe thead th {\n",
       "        text-align: right;\n",
       "    }\n",
       "</style>\n",
       "<table border=\"1\" class=\"dataframe\">\n",
       "  <thead>\n",
       "    <tr style=\"text-align: right;\">\n",
       "      <th></th>\n",
       "      <th>Msg Timestamp</th>\n",
       "      <th>Message</th>\n",
       "      <th>Layer Id</th>\n",
       "      <th>Time</th>\n",
       "      <th>Runtime</th>\n",
       "    </tr>\n",
       "  </thead>\n",
       "  <tbody>\n",
       "    <tr>\n",
       "      <th>19</th>\n",
       "      <td>29335565117</td>\n",
       "      <td>FORWARD_PROPAGATE_LAYER</td>\n",
       "      <td>1</td>\n",
       "      <td>404</td>\n",
       "      <td>CPU</td>\n",
       "    </tr>\n",
       "    <tr>\n",
       "      <th>20</th>\n",
       "      <td>29335565117</td>\n",
       "      <td>FORWARD_PROPAGATE_LAYER</td>\n",
       "      <td>2</td>\n",
       "      <td>2254</td>\n",
       "      <td>CPU</td>\n",
       "    </tr>\n",
       "    <tr>\n",
       "      <th>21</th>\n",
       "      <td>29335565117</td>\n",
       "      <td>FORWARD_PROPAGATE_LAYER</td>\n",
       "      <td>3</td>\n",
       "      <td>16616</td>\n",
       "      <td>CPU</td>\n",
       "    </tr>\n",
       "    <tr>\n",
       "      <th>22</th>\n",
       "      <td>29335565117</td>\n",
       "      <td>FORWARD_PROPAGATE_LAYER</td>\n",
       "      <td>4</td>\n",
       "      <td>62999</td>\n",
       "      <td>CPU</td>\n",
       "    </tr>\n",
       "    <tr>\n",
       "      <th>23</th>\n",
       "      <td>29335565117</td>\n",
       "      <td>FORWARD_PROPAGATE_LAYER</td>\n",
       "      <td>5</td>\n",
       "      <td>961</td>\n",
       "      <td>CPU</td>\n",
       "    </tr>\n",
       "  </tbody>\n",
       "</table>\n",
       "</div>"
      ],
      "text/plain": [
       "    Msg Timestamp                  Message   Layer Id   Time  Runtime\n",
       "19    29335565117  FORWARD_PROPAGATE_LAYER          1    404      CPU\n",
       "20    29335565117  FORWARD_PROPAGATE_LAYER          2   2254      CPU\n",
       "21    29335565117  FORWARD_PROPAGATE_LAYER          3  16616      CPU\n",
       "22    29335565117  FORWARD_PROPAGATE_LAYER          4  62999      CPU\n",
       "23    29335565117  FORWARD_PROPAGATE_LAYER          5    961      CPU"
      ]
     },
     "execution_count": 44,
     "metadata": {},
     "output_type": "execute_result"
    }
   ],
   "source": [
    "import pandas as pd\n",
    "\n",
    "data_32b=pd.read_csv(\"run_result_32b.csv\")\n",
    "layer_propagataion_time_32b=data_32b.iloc[19:530]\n",
    "\n",
    "layer_propagataion_time_32b.head()"
   ]
  },
  {
   "cell_type": "code",
   "execution_count": 46,
   "id": "1c4fea38-0923-4dbc-a45b-01fae1a030a4",
   "metadata": {},
   "outputs": [
    {
     "data": {
      "image/png": "[encoded data removed]",
      "text/plain": [
       "<Figure size 640x480 with 1 Axes>"
      ]
     },
     "metadata": {},
     "output_type": "display_data"
    },
    {
     "data": {
      "text/plain": [
       "<Figure size 3000x700 with 0 Axes>"
      ]
     },
     "metadata": {},
     "output_type": "display_data"
    }
   ],
   "source": [
    "import matplotlib.pyplot as plt\n",
    "plt.bar(x=layer_propagataion_time_32b[' Layer Id'],height=layer_propagataion_time_32b[' Time'])\n",
    "plt.title('Time for Forward Propagation for each Layer')\n",
    "plt.xlabel('Layer')\n",
    "plt.ylabel('Forward Propagation Time')\n",
    "plt.figure(figsize=(30, 7))\n",
    "plt.show()"
   ]
  },
  {
   "cell_type": "code",
   "execution_count": 47,
   "id": "cd2d2158-cc91-4ebc-81de-f51e48eaed0b",
   "metadata": {},
   "outputs": [
    {
     "data": {
      "text/html": [
       "<div>\n",
       "<style scoped>\n",
       "    .dataframe tbody tr th:only-of-type {\n",
       "        vertical-align: middle;\n",
       "    }\n",
       "\n",
       "    .dataframe tbody tr th {\n",
       "        vertical-align: top;\n",
       "    }\n",
       "\n",
       "    .dataframe thead th {\n",
       "        text-align: right;\n",
       "    }\n",
       "</style>\n",
       "<table border=\"1\" class=\"dataframe\">\n",
       "  <thead>\n",
       "    <tr style=\"text-align: right;\">\n",
       "      <th></th>\n",
       "      <th>Msg Timestamp</th>\n",
       "      <th>Message</th>\n",
       "      <th>Layer Id</th>\n",
       "      <th>Time</th>\n",
       "      <th>Runtime</th>\n",
       "    </tr>\n",
       "  </thead>\n",
       "  <tbody>\n",
       "    <tr>\n",
       "      <th>19</th>\n",
       "      <td>29650673136</td>\n",
       "      <td>FORWARD_PROPAGATE_LAYER</td>\n",
       "      <td>1</td>\n",
       "      <td>28</td>\n",
       "      <td>CPU</td>\n",
       "    </tr>\n",
       "    <tr>\n",
       "      <th>20</th>\n",
       "      <td>29650673136</td>\n",
       "      <td>FORWARD_PROPAGATE_LAYER</td>\n",
       "      <td>2</td>\n",
       "      <td>55</td>\n",
       "      <td>CPU</td>\n",
       "    </tr>\n",
       "    <tr>\n",
       "      <th>21</th>\n",
       "      <td>29650673136</td>\n",
       "      <td>FORWARD_PROPAGATE_LAYER</td>\n",
       "      <td>3</td>\n",
       "      <td>11287</td>\n",
       "      <td>CPU</td>\n",
       "    </tr>\n",
       "    <tr>\n",
       "      <th>22</th>\n",
       "      <td>29650673136</td>\n",
       "      <td>FORWARD_PROPAGATE_LAYER</td>\n",
       "      <td>4</td>\n",
       "      <td>7950</td>\n",
       "      <td>CPU</td>\n",
       "    </tr>\n",
       "    <tr>\n",
       "      <th>23</th>\n",
       "      <td>29650673136</td>\n",
       "      <td>FORWARD_PROPAGATE_LAYER</td>\n",
       "      <td>5</td>\n",
       "      <td>735</td>\n",
       "      <td>CPU</td>\n",
       "    </tr>\n",
       "  </tbody>\n",
       "</table>\n",
       "</div>"
      ],
      "text/plain": [
       "    Msg Timestamp                  Message   Layer Id   Time  Runtime\n",
       "19    29650673136  FORWARD_PROPAGATE_LAYER          1     28      CPU\n",
       "20    29650673136  FORWARD_PROPAGATE_LAYER          2     55      CPU\n",
       "21    29650673136  FORWARD_PROPAGATE_LAYER          3  11287      CPU\n",
       "22    29650673136  FORWARD_PROPAGATE_LAYER          4   7950      CPU\n",
       "23    29650673136  FORWARD_PROPAGATE_LAYER          5    735      CPU"
      ]
     },
     "execution_count": 47,
     "metadata": {},
     "output_type": "execute_result"
    }
   ],
   "source": [
    "data_a16w16=pd.read_csv(\"run_result_a8w16.csv\")\n",
    "layer_propagataion_time_a16w16=data_a16w16.iloc[19:530]\n",
    "\n",
    "layer_propagataion_time_a16w16.head()"
   ]
  },
  {
   "cell_type": "code",
   "execution_count": 48,
   "id": "f7bb9c4c-0b20-4a5b-8f2c-8431ed7f24b6",
   "metadata": {},
   "outputs": [
    {
     "data": {
      "image/png": "[encoded data removed]",
      "text/plain": [
       "<Figure size 640x480 with 1 Axes>"
      ]
     },
     "metadata": {},
     "output_type": "display_data"
    },
    {
     "data": {
      "text/plain": [
       "<Figure size 3000x700 with 0 Axes>"
      ]
     },
     "metadata": {},
     "output_type": "display_data"
    }
   ],
   "source": [
    "plt.bar(x=layer_propagataion_time_a16w16[' Layer Id'],height=layer_propagataion_time_a16w16[' Time'])\n",
    "plt.title('Time for Forward Propagation for each Layer')\n",
    "plt.xlabel('Layer')\n",
    "plt.ylabel('Forward Propagation Time (us)')\n",
    "plt.figure(figsize=(30, 7))\n",
    "plt.show()"
   ]
  },
  {
   "cell_type": "code",
   "execution_count": null,
   "id": "27a9fb0d-d209-40ab-9c58-d8a310e3e2ea",
   "metadata": {},
   "outputs": [],
   "source": []
  },
  {
   "cell_type": "code",
   "execution_count": null,
   "id": "404c8fa9-fbb1-49c4-b357-bd8b5a4d6d1d",
   "metadata": {},
   "outputs": [],
   "source": []
  },
  {
   "cell_type": "code",
   "execution_count": null,
   "id": "be2170fe-cb62-4b2e-a90c-a70e800e300b",
   "metadata": {},
   "outputs": [],
   "source": []
  }
 ],
 "metadata": {
  "kernelspec": {
   "display_name": "py3.8",
   "language": "python",
   "name": "py3.8"
  },
  "language_info": {
   "codemirror_mode": {
    "name": "ipython",
    "version": 3
   },
   "file_extension": ".py",
   "mimetype": "text/x-python",
   "name": "python",
   "nbconvert_exporter": "python",
   "pygments_lexer": "ipython3",
   "version": "3.8.0"
  }
 },
 "nbformat": 4,
 "nbformat_minor": 5
}
