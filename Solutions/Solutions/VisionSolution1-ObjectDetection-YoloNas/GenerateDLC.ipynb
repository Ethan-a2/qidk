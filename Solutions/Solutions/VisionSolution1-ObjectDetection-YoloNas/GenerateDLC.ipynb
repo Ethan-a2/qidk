{
 "cells": [
  {
   "attachments": {},
   "cell_type": "markdown",
   "id": "721491e1",
   "metadata": {},
   "source": [
    "## Steps for generating YoloNAS dlc\n",
    "#### Note->Use python3.8 or above for generating onnx and python3.6 for generating dlc"
   ]
  },
  {
   "cell_type": "code",
   "execution_count": null,
   "id": "d1d3b4eb",
   "metadata": {},
   "outputs": [],
   "source": [
    "## Note- Use python3.8 or above for generating onnx\n",
    "\n",
    "!pip install super-gradients==3.1.2\n",
    "\n",
    "## Downloading Model from git repo\n",
    "import torch\n",
    "# Load model with pretrained weights\n",
    "from super_gradients.training import models\n",
    "from super_gradients.common.object_names import Models\n",
    "\n",
    "model = models.get(Models.YOLO_NAS_S, pretrained_weights=\"coco\")\n",
    "\n",
    "# Prepare model for conversion\n",
    "# Input size is in format of [Batch x Channels x Width x Height] where 640 is the standard COCO dataset dimensions\n",
    "model.eval()\n",
    "model.prep_model_for_conversion(input_size=[1, 3, 320, 320])\n",
    "\n",
    "# Create dummy_input\n",
    "dummy_input = torch.randn([1, 3, 320, 320], device=\"cpu\")\n",
    "\n",
    "# Convert model to onnx\n",
    "torch.onnx.export(model, dummy_input, \"yolo_nas_s.onnx\", opset_version=11)"
   ]
  },
  {
   "attachments": {},
   "cell_type": "markdown",
   "id": "bb97b534",
   "metadata": {},
   "source": [
    "#### Enable python3.6 environment, to use SNPE SDK and then convert onnx to dlc"
   ]
  },
  {
   "cell_type": "code",
   "execution_count": 2,
   "id": "c466b9aa",
   "metadata": {},
   "outputs": [
    {
     "name": "stderr",
     "output_type": "stream",
     "text": [
      "2023-11-24 11:09:04,341 - 235 - INFO - Successfully simplified the onnx model in child process\n",
      "2023-11-24 11:09:04,494 - 235 - INFO - Successfully receive the simplified onnx model in main process\n",
      "2023-11-24 11:09:04,587 - 235 - INFO - Successfully run shape inference in child process\n",
      "2023-11-24 11:09:04,743 - 235 - INFO - Successfully receive the inferred model in main process\n",
      "2023-11-24 11:09:05,526 - 235 - INFO - INFO_INITIALIZATION_SUCCESS: \n",
      "2023-11-24 11:09:05,665 - 235 - INFO - INFO_CONVERSION_SUCCESS: Conversion completed successfully\n",
      "2023-11-24 11:09:05,714 - 235 - INFO - INFO_WRITE_SUCCESS: \n"
     ]
    }
   ],
   "source": [
    "%%bash\n",
    "snpe-onnx-to-dlc -i yolo_nas_s.onnx -o app/src/main/assets/yolo_nas_s.dlc"
   ]
  },
  {
   "attachments": {},
   "cell_type": "markdown",
   "id": "b2675610",
   "metadata": {},
   "source": [
    "## Quantizing MobileNetSSD"
   ]
  },
  {
   "cell_type": "code",
   "execution_count": null,
   "id": "b01ac9cf",
   "metadata": {},
   "outputs": [],
   "source": [
    "##STEPS to preprocess images\n",
    "\n",
    "def preprocess(original_image):\n",
    "    resized_image = cv2.resize(original_image, (320, 320))\n",
    "    resized_image = resized_image/255\n",
    "    return resized_image\n",
    "\n",
    "import cv2\n",
    "import numpy as np\n",
    "import os\n",
    "\n",
    "##Please download Coco2014 dataset and give the path here\n",
    "dataset_path = \"/local/mnt/workspace/shubgoya/exp_2.16/qidk-public-mirror/Solutions/VisionSolution1-ObjectDetection-YoloNas/val2017/\"\n",
    "\n",
    "!mkdir -p rawYoloNAS\n",
    "\n",
    "filenames=[]\n",
    "for path in os.listdir(dataset_path)[:5]:\n",
    "    # check if current path is a file\n",
    "    if os.path.isfile(os.path.join(dataset_path, path)):\n",
    "        filenames.append(os.path.join(dataset_path, path))\n",
    "\n",
    "for filename in filenames:\n",
    "    original_image = cv2.imread(filename)\n",
    "    img = preprocess(original_image)\n",
    "    img = img.astype(np.float32)\n",
    "    img.tofile(\"rawYoloNAS/\"+filename.split(\"/\")[-1].split(\".\")[0]+\".raw\")"
   ]
  },
  {
   "cell_type": "code",
   "execution_count": 19,
   "id": "7370c51c",
   "metadata": {},
   "outputs": [],
   "source": [
    "%%bash\n",
    "find rawYoloNAS -name *.raw > YoloInputlist.txt"
   ]
  },
  {
   "cell_type": "code",
   "execution_count": 20,
   "id": "40b37c70",
   "metadata": {},
   "outputs": [
    {
     "name": "stdout",
     "output_type": "stream",
     "text": [
      "rawYoloNAS/000000445834.raw\n",
      "rawYoloNAS/000000404479.raw\n",
      "rawYoloNAS/000000222991.raw\n",
      "rawYoloNAS/000000555412.raw\n",
      "rawYoloNAS/000000563267.raw\n"
     ]
    }
   ],
   "source": [
    "%%bash\n",
    "cat YoloInputlist.txt"
   ]
  },
  {
   "cell_type": "code",
   "execution_count": 3,
   "id": "39b97591",
   "metadata": {},
   "outputs": [
    {
     "name": "stderr",
     "output_type": "stream",
     "text": [
      "[INFO] InitializeStderr: DebugLog initialized.\n",
      "[INFO] Processed command-line arguments\n",
      "[INFO] Quantized parameters\n",
      "[INFO] Generated activations\n",
      "[INFO] Saved quantized dlc to: app/src/main/assets/Quant_intermediate_yoloNas_s_320.dlc\n",
      "[INFO] DebugLog shutting down.\n"
     ]
    },
    {
     "name": "stdout",
     "output_type": "stream",
     "text": [
      "     0.1ms [  INFO ] Inferences will run in sync mode\n",
      "     0.1ms [  INFO ] Initializing logging in the backend. Callback: [0xcf3a80], Log Level: [3]\n",
      "     0.1ms [  INFO ] No BackendExtensions lib provided;initializing NetRunBackend Interface\n",
      "     0.1ms [WARNING] Unable to find a device with NetRunDeviceKeyDefault in Library NetRunBackendLibKeyDefault\n",
      "     0.2ms [  INFO ] Entering QuantizeRuntimeApp flow\n",
      "   327.3ms [  INFO ] cleaning up resources for input tensors\n",
      "   327.4ms [  INFO ] cleaning up resources for output tensors\n",
      "   513.3ms [  INFO ] cleaning up resources for input tensors\n",
      "   513.3ms [  INFO ] cleaning up resources for output tensors\n",
      "   702.5ms [  INFO ] cleaning up resources for input tensors\n",
      "   702.5ms [  INFO ] cleaning up resources for output tensors\n",
      "   888.7ms [  INFO ] cleaning up resources for input tensors\n",
      "   888.7ms [  INFO ] cleaning up resources for output tensors\n",
      "  1066.1ms [  INFO ] cleaning up resources for input tensors\n",
      "  1066.1ms [  INFO ] cleaning up resources for output tensors\n",
      "  1811.3ms [  INFO ] Freeing graphsInfo\n"
     ]
    }
   ],
   "source": [
    "%%bash\n",
    "snpe-dlc-quantize --input_dlc app/src/main/assets/yolo_nas_s.dlc --input_list YoloInputlist.txt --use_enhanced_quantizer --use_adjusted_weights_quantizer --axis_quant --output_dlc app/src/main/assets/Quant_intermediate_yoloNas_s_320.dlc\n"
   ]
  },
  {
   "cell_type": "code",
   "execution_count": 7,
   "id": "a13d7629",
   "metadata": {},
   "outputs": [
    {
     "name": "stderr",
     "output_type": "stream",
     "text": [
      "[INFO] InitializeStderr: DebugLog initialized.\n",
      "[WARNING] Input[0] has Datatype 0x408.\n",
      "[INFO] SNPE HTP Offline Prepare: Attempting to create cache for SM8550\n",
      "[INFO] Attempting to open dynamically linked lib: libHtpPrepare.so\n",
      "[INFO] dlopen libHtpPrepare.so SUCCESS handle 0x2205e30\n",
      "[INFO] Found Interface Provider (v2.10)\n",
      "[USER_WARNING] QnnDsp <W> Initializing HtpProvider\n",
      "[USER_WARNING] QnnDsp <W> HTP arch will be deprecated, please set SoC id instead.\n",
      "[USER_WARNING] QnnDsp <W> Cost Based unsupported on soc SM8550\n",
      "[USER_INFO] Platform option not set\n",
      "[USER_INFO] Offline Prepare VTCM size(MB) selected = 8\n",
      "[USER_WARNING] QnnDsp <W> Output padding param cannot be set explicitly. Skipping param\n",
      "[USER_WARNING] QnnDsp <W> Output padding param cannot be set explicitly. Skipping param\n"
     ]
    },
    {
     "name": "stdout",
     "output_type": "stream",
     "text": [
      "\n",
      "====== Prepared Graph's Summary ======\n",
      "Spill fill buffer size = 0\n",
      "\n"
     ]
    },
    {
     "name": "stderr",
     "output_type": "stream",
     "text": [
      "[USER_INFO] Backend Mgr ~Dtor called for backend HTP\n",
      "[USER_INFO] Cleaning up Context handle:0x1\n",
      "[USER_INFO] BackendTerminate triggered\n",
      "[USER_WARNING] QnnDsp <W> Device 0x1 not found in registry\n",
      "[INFO] SNPE HTP Offline Prepare: Successfully created cache for SM8550\n",
      "[INFO] SNPE HTP Offline Prepare: Saved cached DLC to app/src/main/assets/Quant_yoloNas_s_320.dlc\n",
      "[USER_INFO] BackendTerminate triggered\n",
      "[INFO] DebugLog shutting down.\n"
     ]
    }
   ],
   "source": [
    "%%bash\n",
    "snpe-dlc-graph-prepare --input_dlc app/src/main/assets/Quant_intermediate_yoloNas_s_320.dlc --set_output_tensors 885,877 --output_dlc app/src/main/assets/Quant_yoloNas_s_320.dlc --htp_socs sm8550"
   ]
  },
  {
   "cell_type": "code",
   "execution_count": null,
   "id": "5ea055f7-63fd-4167-8e30-6b4b6863c972",
   "metadata": {},
   "outputs": [],
   "source": []
  }
 ],
 "metadata": {
  "kernelspec": {
   "display_name": "Python 3 (ipykernel)",
   "language": "python",
   "name": "python3"
  },
  "language_info": {
   "codemirror_mode": {
    "name": "ipython",
    "version": 3
   },
   "file_extension": ".py",
   "mimetype": "text/x-python",
   "name": "python",
   "nbconvert_exporter": "python",
   "pygments_lexer": "ipython3",
   "version": "3.8.17"
  }
 },
 "nbformat": 4,
 "nbformat_minor": 5
}
