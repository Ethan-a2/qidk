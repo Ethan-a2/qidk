{
 "cells": [
  {
   "cell_type": "markdown",
   "id": "b94b4143-7c12-4f89-9b4f-459f053b6050",
   "metadata": {},
   "source": [
    "# Setting Up SDK Artifacts"
   ]
  },
  {
   "cell_type": "code",
   "execution_count": 1,
   "id": "3f1748bf-bc9a-4a9f-9ece-55dcfa54705f",
   "metadata": {},
   "outputs": [],
   "source": [
    "import os\n",
    "os.environ['SNPE_ROOT']=\"/opt/qcom/aistack/qairt/2.25.0.240728\" #set up your snpe path here.\n",
    "os.environ['RAW_FILE_FOLDER']=\"raw\"\n",
    "os.environ['DLC32']=\"models/detr_resnet101_fp32.dlc\"  # Use the path to your non-quantized dlc\n",
    "os.environ['DLC8']=\"models/detr_resnet101_w8a8.dlc\"              # Use the path to your Quantized dlc\n",
    "os.environ['TARGET_INPUT_LIST']=\"list.txt\"  # Use the name of the input file\n",
    "os.environ['ONDEVICE_FOLDER']=\"detr\"\n",
    "os.environ['DEVICE_HOST']=\"localhost\"\n",
    "os.environ['DEVICE_ID']=\"503bd507\" #fill your device-id. Use command \"adb devices\" to get devices names. example :\"e18d5d0\"\n",
    "os.environ['SNPE_TARGET_ARCH']=\"aarch64-android\"\n",
    "os.environ['SNPE_TARGET_STL']=\"libc++_shared.so\"\n",
    "os.environ['SNPE_TARGET_DSPARCH']=\"hexagon-v75\" "
   ]
  },
  {
   "cell_type": "code",
   "execution_count": 2,
   "id": "ebe506ca",
   "metadata": {},
   "outputs": [
    {
     "name": "stdout",
     "output_type": "stream",
     "text": [
      "/media/code/qnn/qidk/Solutions/VisionSolution1-ObjectDetection-DETR\n"
     ]
    }
   ],
   "source": [
    "import os\n",
    "path = \"/media/code/qnn/qidk/Solutions/VisionSolution1-ObjectDetection-DETR\"\n",
    "os.chdir(path)\n",
    "print(os.getcwd())"
   ]
  },
  {
   "cell_type": "markdown",
   "id": "f140a00d-4a8e-419b-975a-a6a6810ac76e",
   "metadata": {},
   "source": [
    "## Generate model"
   ]
  },
  {
   "cell_type": "code",
   "execution_count": 3,
   "id": "a6cd0a42-b02b-4013-88f3-8e417729c3f5",
   "metadata": {},
   "outputs": [
    {
     "name": "stderr",
     "output_type": "stream",
     "text": [
      "/home/liuqi/.local/lib/python3.10/site-packages/torch/utils/_pytree.py:185: FutureWarning: optree is installed but the version is too old to support PyTorch Dynamo in C++ pytree. C++ pytree support is disabled. Please consider upgrading optree using `python3 -m pip install --upgrade 'optree>=0.13.0'`.\n",
      "  warnings.warn(\n",
      "Using cache found in /home/liuqi/.cache/torch/hub/facebookresearch_detr_main\n",
      "/home/liuqi/.local/lib/python3.10/site-packages/torchvision/models/_utils.py:208: UserWarning: The parameter 'pretrained' is deprecated since 0.13 and may be removed in the future, please use 'weights' instead.\n",
      "  warnings.warn(\n",
      "/home/liuqi/.local/lib/python3.10/site-packages/torchvision/models/_utils.py:223: UserWarning: Arguments other than a weight enum or `None` for 'weights' are deprecated since 0.13 and may be removed in the future. The current behavior is equivalent to passing `weights=ResNet101_Weights.IMAGENET1K_V1`. You can also use `weights=ResNet101_Weights.DEFAULT` to get the most up-to-date weights.\n",
      "  warnings.warn(msg)\n"
     ]
    },
    {
     "name": "stdout",
     "output_type": "stream",
     "text": [
      "torch.Size([1, 100, 92])\n",
      "torch.Size([100, 91])\n"
     ]
    }
   ],
   "source": [
    "import torch\n",
    "import os\n",
    "import shutil\n",
    "import torch.nn as nn\n",
    "model = torch.hub.load('facebookresearch/detr', 'detr_resnet101', pretrained=True)\n",
    "model.eval()\n",
    "dummy_input=torch.randn(1, 3, 800, 1066)\n",
    "output = model(dummy_input)\n",
    "print(output['pred_logits'].shape)\n",
    "\n",
    "class ModifiedModel(nn.Module):\n",
    "    def __init__(self):\n",
    "        super(ModifiedModel,self).__init__()\n",
    "        self.model = model\n",
    "        self.model.eval()\n",
    "    def forward(self,pixel_values):\n",
    "        output = self.model(pixel_values)\n",
    "        output['pred_logits'] = output['pred_logits'].softmax(-1)[0,:,:-1]\n",
    "        return output\n",
    "customModel = ModifiedModel()\n",
    "customModel.eval()\n",
    "dummy_input=torch.randn(1, 3, 800, 1066)\n",
    "output = customModel(dummy_input)\n",
    "print(output['pred_logits'].shape)"
   ]
  },
  {
   "cell_type": "code",
   "execution_count": 4,
   "id": "450758bd-a367-4d2c-9bb0-d2ea60704f04",
   "metadata": {},
   "outputs": [],
   "source": [
    "os.makedirs('models', exist_ok=True)"
   ]
  },
  {
   "cell_type": "code",
   "execution_count": 5,
   "id": "05945e74-19fc-4f96-8fc3-a938769db6c0",
   "metadata": {},
   "outputs": [
    {
     "name": "stderr",
     "output_type": "stream",
     "text": [
      "/home/liuqi/.cache/torch/hub/facebookresearch_detr_main/util/misc.py:338: TracerWarning: Iterating over a tensor might cause the trace to be incorrect. Passing a tensor of different shape won't change the number of iterations executed (and might lead to errors or silently give incorrect results).\n",
      "  max_size_i = torch.max(torch.stack([img.shape[i] for img in tensor_list]).to(torch.float32)).to(torch.int64)\n",
      "/home/liuqi/.cache/torch/hub/facebookresearch_detr_main/util/misc.py:348: TracerWarning: Iterating over a tensor might cause the trace to be incorrect. Passing a tensor of different shape won't change the number of iterations executed (and might lead to errors or silently give incorrect results).\n",
      "  for img in tensor_list:\n"
     ]
    }
   ],
   "source": [
    "dummy_input=torch.randn(1, 3, 800, 1066)\n",
    "\n",
    "torch.onnx.export(customModel, dummy_input, \"models/detr_resnet101.onnx\", opset_version=11\n",
    "                  , verbose=False)"
   ]
  },
  {
   "cell_type": "code",
   "execution_count": 6,
   "id": "0ef0d26e-d0b2-413f-99d9-fb9488edf021",
   "metadata": {},
   "outputs": [
    {
     "name": "stdout",
     "output_type": "stream",
     "text": [
      "[INFO] AISW SDK environment set\n",
      "[INFO] QNN_SDK_ROOT: /media/code/opt/qcom/aistack/qairt/2.25.0.240728\n",
      "[INFO] SNPE_ROOT: /media/code/opt/qcom/aistack/qairt/2.25.0.240728\n"
     ]
    },
    {
     "name": "stderr",
     "output_type": "stream",
     "text": [
      "/home/liuqi/.local/lib/python3.10/site-packages/torch/utils/_pytree.py:185: FutureWarning: optree is installed but the version is too old to support PyTorch Dynamo in C++ pytree. C++ pytree support is disabled. Please consider upgrading optree using `python3 -m pip install --upgrade 'optree>=0.13.0'`.\n",
      "  warnings.warn(\n",
      "2025-02-27 21:32:19,570 - 235 - INFO - Simplified model validation is successful\n",
      "/home/liuqi/.local/lib/python3.10/site-packages/torch/utils/_pytree.py:185: FutureWarning: optree is installed but the version is too old to support PyTorch Dynamo in C++ pytree. C++ pytree support is disabled. Please consider upgrading optree using `python3 -m pip install --upgrade 'optree>=0.13.0'`.\n",
      "  warnings.warn(\n",
      "2025-02-27 21:32:24,235 - 240 - WARNING - WARNING_GEMM: GEMM operation is not supported in the general case, attempting to interpret as FC\n",
      "2025-02-27 21:32:24,300 - 240 - WARNING - WARNING_GEMM: GEMM operation is not supported in the general case, attempting to interpret as FC\n",
      "2025-02-27 21:32:24,357 - 240 - WARNING - WARNING_GEMM: GEMM operation is not supported in the general case, attempting to interpret as FC\n",
      "2025-02-27 21:32:24,410 - 240 - WARNING - WARNING_GEMM: GEMM operation is not supported in the general case, attempting to interpret as FC\n",
      "2025-02-27 21:32:24,466 - 240 - WARNING - WARNING_GEMM: GEMM operation is not supported in the general case, attempting to interpret as FC\n",
      "2025-02-27 21:32:24,520 - 240 - WARNING - WARNING_GEMM: GEMM operation is not supported in the general case, attempting to interpret as FC\n",
      "2025-02-27 21:32:24,568 - 240 - WARNING - WARNING_GEMM: GEMM operation is not supported in the general case, attempting to interpret as FC\n",
      "2025-02-27 21:32:24,622 - 240 - WARNING - WARNING_GEMM: GEMM operation is not supported in the general case, attempting to interpret as FC\n",
      "2025-02-27 21:32:24,659 - 240 - WARNING - WARNING_GEMM: GEMM operation is not supported in the general case, attempting to interpret as FC\n",
      "2025-02-27 21:32:24,712 - 240 - WARNING - WARNING_GEMM: GEMM operation is not supported in the general case, attempting to interpret as FC\n",
      "2025-02-27 21:32:24,749 - 240 - WARNING - WARNING_GEMM: GEMM operation is not supported in the general case, attempting to interpret as FC\n",
      "2025-02-27 21:32:24,803 - 240 - WARNING - WARNING_GEMM: GEMM operation is not supported in the general case, attempting to interpret as FC\n",
      "2025-02-27 21:32:24,840 - 240 - WARNING - WARNING_GEMM: GEMM operation is not supported in the general case, attempting to interpret as FC\n",
      "2025-02-27 21:32:24,893 - 240 - WARNING - WARNING_GEMM: GEMM operation is not supported in the general case, attempting to interpret as FC\n",
      "2025-02-27 21:32:24,929 - 240 - WARNING - WARNING_GEMM: GEMM operation is not supported in the general case, attempting to interpret as FC\n",
      "2025-02-27 21:32:24,983 - 240 - WARNING - WARNING_GEMM: GEMM operation is not supported in the general case, attempting to interpret as FC\n",
      "2025-02-27 21:32:25,021 - 240 - WARNING - WARNING_GEMM: GEMM operation is not supported in the general case, attempting to interpret as FC\n",
      "2025-02-27 21:32:36,633 - 235 - INFO - INFO_INITIALIZATION_SUCCESS: \n",
      "2025-02-27 21:32:37,499 - 235 - INFO - INFO_CONVERSION_SUCCESS: Conversion completed successfully\n",
      "2025-02-27 21:32:40,134 - 235 - INFO - INFO_WRITE_SUCCESS: \n"
     ]
    }
   ],
   "source": [
    "%%bash\n",
    "source $SNPE_ROOT/bin/envsetup.sh\n",
    "snpe-onnx-to-dlc --input_network models/detr_resnet101.onnx --output_path models/detr_resnet101_fp32.dlc\n",
    "snpe-dlc-info -i models/detr_resnet101_fp32.dlc > models/detr_resnet101_fp32.txt"
   ]
  },
  {
   "cell_type": "markdown",
   "id": "ae6259dc-4d98-4358-8456-1ea9e353f192",
   "metadata": {},
   "source": [
    "## import libraries"
   ]
  },
  {
   "cell_type": "code",
   "execution_count": 7,
   "id": "ac5270dc-c0c9-4e3f-8403-5ed4f92b66f1",
   "metadata": {},
   "outputs": [
    {
     "name": "stderr",
     "output_type": "stream",
     "text": [
      "/home/liuqi/.local/lib/python3.10/site-packages/matplotlib/projections/__init__.py:63: UserWarning: Unable to import Axes3D. This may be due to multiple versions of Matplotlib being installed (e.g. as a system package and as a pip package). As a result, the 3D projection is not available.\n",
      "  warnings.warn(\"Unable to import Axes3D. This may be due to multiple versions of \"\n"
     ]
    },
    {
     "name": "stdout",
     "output_type": "stream",
     "text": [
      "Defaulting to user installation because normal site-packages is not writeable\n",
      "Looking in indexes: https://mirrors.aliyun.com/pypi/simple\n",
      "Requirement already satisfied: ipywidgets in /home/liuqi/.local/lib/python3.10/site-packages (8.1.3)\n",
      "Requirement already satisfied: comm>=0.1.3 in /home/liuqi/.local/lib/python3.10/site-packages (from ipywidgets) (0.2.2)\n",
      "Requirement already satisfied: ipython>=6.1.0 in /home/liuqi/.local/lib/python3.10/site-packages (from ipywidgets) (8.24.0)\n",
      "Requirement already satisfied: traitlets>=4.3.1 in /home/liuqi/.local/lib/python3.10/site-packages (from ipywidgets) (5.14.3)\n",
      "Requirement already satisfied: widgetsnbextension~=4.0.11 in /home/liuqi/.local/lib/python3.10/site-packages (from ipywidgets) (4.0.11)\n",
      "Requirement already satisfied: jupyterlab-widgets~=3.0.11 in /home/liuqi/.local/lib/python3.10/site-packages (from ipywidgets) (3.0.11)\n",
      "Requirement already satisfied: decorator in /home/liuqi/.local/lib/python3.10/site-packages (from ipython>=6.1.0->ipywidgets) (5.1.1)\n",
      "Requirement already satisfied: jedi>=0.16 in /home/liuqi/.local/lib/python3.10/site-packages (from ipython>=6.1.0->ipywidgets) (0.19.1)\n",
      "Requirement already satisfied: matplotlib-inline in /home/liuqi/.local/lib/python3.10/site-packages (from ipython>=6.1.0->ipywidgets) (0.1.6)\n",
      "Requirement already satisfied: prompt-toolkit<3.1.0,>=3.0.41 in /home/liuqi/.local/lib/python3.10/site-packages (from ipython>=6.1.0->ipywidgets) (3.0.43)\n",
      "Requirement already satisfied: pygments>=2.4.0 in /home/liuqi/.local/lib/python3.10/site-packages (from ipython>=6.1.0->ipywidgets) (2.17.2)\n",
      "Requirement already satisfied: stack-data in /home/liuqi/.local/lib/python3.10/site-packages (from ipython>=6.1.0->ipywidgets) (0.6.3)\n",
      "Requirement already satisfied: exceptiongroup in /home/liuqi/.local/lib/python3.10/site-packages (from ipython>=6.1.0->ipywidgets) (1.2.1)\n",
      "Requirement already satisfied: typing-extensions>=4.6 in /home/liuqi/.local/lib/python3.10/site-packages (from ipython>=6.1.0->ipywidgets) (4.12.2)\n",
      "Requirement already satisfied: pexpect>4.3 in /usr/lib/python3/dist-packages (from ipython>=6.1.0->ipywidgets) (4.8.0)\n",
      "Requirement already satisfied: parso<0.9.0,>=0.8.3 in /home/liuqi/.local/lib/python3.10/site-packages (from jedi>=0.16->ipython>=6.1.0->ipywidgets) (0.8.4)\n",
      "Requirement already satisfied: wcwidth in /home/liuqi/.local/lib/python3.10/site-packages (from prompt-toolkit<3.1.0,>=3.0.41->ipython>=6.1.0->ipywidgets) (0.2.13)\n",
      "Requirement already satisfied: executing>=1.2.0 in /home/liuqi/.local/lib/python3.10/site-packages (from stack-data->ipython>=6.1.0->ipywidgets) (2.0.1)\n",
      "Requirement already satisfied: asttokens>=2.1.0 in /home/liuqi/.local/lib/python3.10/site-packages (from stack-data->ipython>=6.1.0->ipywidgets) (2.4.1)\n",
      "Requirement already satisfied: pure-eval in /home/liuqi/.local/lib/python3.10/site-packages (from stack-data->ipython>=6.1.0->ipywidgets) (0.2.2)\n",
      "Requirement already satisfied: six>=1.12.0 in /home/liuqi/.local/lib/python3.10/site-packages (from asttokens>=2.1.0->stack-data->ipython>=6.1.0->ipywidgets) (1.17.0)\n"
     ]
    }
   ],
   "source": [
    "import math\n",
    "import os\n",
    "from PIL import Image\n",
    "import requests\n",
    "import matplotlib.pyplot as plt\n",
    "import ipywidgets as widgets\n",
    "from IPython.display import display, clear_output\n",
    "import torch\n",
    "import shutil\n",
    "import numpy as np\n",
    "from torch import nn\n",
    "from torchvision.models import resnet50\n",
    "import torchvision.transforms as T\n",
    "torch.set_grad_enabled(False);\n",
    "import os\n",
    "import cv2\n",
    "import numpy as np\n",
    "from numpy import asarray\n",
    "from PIL import Image\n",
    "import glob\n",
    "import torch.nn.functional as nnf\n",
    "import subprocess\n",
    "!pip3 install ipywidgets"
   ]
  },
  {
   "cell_type": "markdown",
   "id": "289295b0-7a9b-4de6-a02b-9435acf52897",
   "metadata": {},
   "source": [
    "## Getting the Dataset and Preparation"
   ]
  },
  {
   "cell_type": "code",
   "execution_count": 8,
   "id": "d54d07d1-8210-480d-bec3-746e21c4c40d",
   "metadata": {},
   "outputs": [],
   "source": [
    "# User can download dataset of their choice for accuracy validation. \n",
    "# User needs to follow the pre/post processing steps prescribed in dataset (or) given below. \n",
    "# You can use coco val2017 or part of it."
   ]
  },
  {
   "cell_type": "markdown",
   "id": "2e581c6c-3fe2-493a-a99f-26feda92c17b",
   "metadata": {},
   "source": [
    "### Pre-Processing Steps of DETR Model"
   ]
  },
  {
   "cell_type": "code",
   "execution_count": 9,
   "id": "5ddb6093-42b4-45c2-8c3e-d12d22d6381a",
   "metadata": {},
   "outputs": [],
   "source": [
    "# standard PyTorch mean-std input image normalization\n",
    "transform = T.Compose([\n",
    "    T.Resize(800),\n",
    "    T.ToTensor(),\n",
    "    T.Normalize([0.485, 0.456, 0.406], [0.229, 0.224, 0.225])\n",
    "])\n",
    "\n",
    "# for output bounding box post-processing\n",
    "def box_cxcywh_to_xyxy(x):\n",
    "    x_c, y_c, w, h = x.unbind(1)\n",
    "    b = [(x_c - 0.5 * w), (y_c - 0.5 * h),\n",
    "         (x_c + 0.5 * w), (y_c + 0.5 * h)]\n",
    "    return torch.stack(b, dim=1)\n",
    "\n",
    "def rescale_bboxes(out_bbox, size):\n",
    "    img_w, img_h = size\n",
    "    b = box_cxcywh_to_xyxy(out_bbox)\n",
    "    b = b * torch.tensor([img_w, img_h, img_w, img_h], dtype=torch.float32)\n",
    "    return b\n",
    "\n",
    "def plot_results(pil_img, prob, boxes,Image_count):\n",
    "    fig=plt.figure(figsize=(8,8))\n",
    "    ax1=fig.add_subplot(2,2,3)\n",
    "    ax1.imshow(pil_img)\n",
    "    ax = plt.gca()\n",
    "    colors = COLORS * 100\n",
    "    for p, (xmin, ymin, xmax, ymax), c in zip(prob, boxes.tolist(), colors):\n",
    "        ax.add_patch(plt.Rectangle((xmin, ymin), xmax - xmin, ymax - ymin,\n",
    "                                   fill=False, color=c, linewidth=1))\n",
    "        cl = p.argmax()\n",
    "        text = f'{CLASSES[cl]}: {p[cl]:0.2f}'\n",
    "        ax.text(xmin, ymin, text, fontsize=10,\n",
    "                bbox=dict(alpha=0.5))\n",
    "    plt.savefig(str(Image_count)+\".jpg\")\n",
    "    if Image_count%2==0:\n",
    "        shutil.move(str(Image_count)+\".jpg\",\"output/CPU\")\n",
    "    else:\n",
    "        shutil.move(str(Image_count)+\".jpg\",\"output/DSP\")\n",
    "    plt.show()"
   ]
  },
  {
   "cell_type": "markdown",
   "id": "dfc8c1b1-55b7-4cd5-b26a-cf17d737e1ae",
   "metadata": {},
   "source": [
    "### Steps to create raw images"
   ]
  },
  {
   "cell_type": "code",
   "execution_count": 10,
   "id": "d14b0aba-9d06-4f91-98d5-4a17b2127c7e",
   "metadata": {},
   "outputs": [
    {
     "name": "stderr",
     "output_type": "stream",
     "text": [
      "mkdir: cannot create directory ‘raw’: File exists\n"
     ]
    }
   ],
   "source": [
    "#黑白图会转失败，少转一些也没关系。\n",
    "name=\"raw\"\n",
    "os.system('mkdir ' + name)\n",
    "def detect(imgfile,i):\n",
    "    # print('imgfile:', imgfile)\n",
    "    #getting the actual image\n",
    "    origimg = Image.open(imgfile)\n",
    "    #Transforming the image\n",
    "    img = transform(origimg).unsqueeze(0)\n",
    "\n",
    "    img= nnf.interpolate(img, size=(800, 1066), mode='bicubic', align_corners=False)\n",
    "    \n",
    "    img_to_save=img.numpy().transpose(0,2,3,1).astype(np.float32)\n",
    "    \n",
    "    img_to_save.tofile(\"raw/\"+filenames[i].split(\".\")[0]+\".raw\")\n",
    "    \n",
    "filenames = os.listdir(\"val2017\") ## change val2017 to the folder name where you have your dataset images.\n",
    "for i in range(0,len(filenames)):\n",
    "    if \"jpg\" in filenames[i].lower():\n",
    "        detect(\"val2017/\"+filenames[i],i)"
   ]
  },
  {
   "cell_type": "code",
   "execution_count": 11,
   "id": "5992e8ce-c6df-4169-979e-b000e7943fe1",
   "metadata": {},
   "outputs": [],
   "source": [
    "%%bash\n",
    "find ./raw -name *.raw > list.txt"
   ]
  },
  {
   "cell_type": "markdown",
   "id": "57404ad6-9bcf-4254-9ae7-902e34b80196",
   "metadata": {},
   "source": [
    "### Getting the Quantized Model"
   ]
  },
  {
   "cell_type": "code",
   "execution_count": 12,
   "id": "d2e6d39d-06ce-4c5b-a5c5-1a08a51fd491",
   "metadata": {},
   "outputs": [
    {
     "name": "stdout",
     "output_type": "stream",
     "text": [
      "[INFO] AISW SDK environment set\n",
      "[INFO] QNN_SDK_ROOT: /media/code/opt/qcom/aistack/qairt/2.25.0.240728\n",
      "[INFO] SNPE_ROOT: /media/code/opt/qcom/aistack/qairt/2.25.0.240728\n"
     ]
    },
    {
     "name": "stderr",
     "output_type": "stream",
     "text": [
      "[INFO] InitializeStderr: DebugLog initialized.\n",
      "[INFO] Processed command-line arguments\n",
      "[INFO] Quantized parameters\n"
     ]
    },
    {
     "name": "stdout",
     "output_type": "stream",
     "text": [
      "     2.7ms [  INFO ] Inferences will run in sync mode\n",
      "     3.4ms [  INFO ] Initializing logging in the backend. Callback: [0x55d56109eb60], Log Level: [3]\n",
      "     3.4ms [  INFO ] No BackendExtensions lib provided;initializing NetRunBackend Interface\n",
      "     2.1ms [  INFO ] [QNN_CPU] CpuBackend creation start\n",
      "     2.1ms [  INFO ] [QNN_CPU] CpuBackend creation end\n",
      "     5.5ms [WARNING] Unable to find a device with NetRunDeviceKeyDefault in Library NetRunBackendLibKeyDefault\n",
      "     5.5ms [WARNING] Profile Logger with name = defaultKey doesn't exist! Returning nullptr\n",
      "     8.4ms [  INFO ] [QNN_CPU] QnnContext create start\n",
      "     8.4ms [  INFO ] [QNN_CPU] QnnContext create end\n",
      "    12.0ms [  INFO ] Entering QuantizeRuntimeApp flow\n",
      "    12.0ms [WARNING] Profile Logger with name = defaultKey doesn't exist! Returning nullptr\n",
      "     8.6ms [  INFO ] [QNN_CPU] CpuGraph creation start\n",
      "     8.6ms [  INFO ] [QNN_CPU] CpuGraph creation end\n",
      "     8.6ms [  INFO ] [QNN_CPU] QnnGraph create end\n",
      "   390.0ms [  INFO ] [QNN_CPU] QnnGraph finalize start\n",
      "   496.7ms [  INFO ] [QNN_CPU] QnnGraph finalize end\n",
      "   506.9ms [  INFO ] [QNN_CPU] QnnGraph execute start\n",
      "  5499.4ms [  INFO ] [QNN_CPU] QnnGraph execute end\n",
      "  5496.9ms [  INFO ] cleaning up resources for input tensors\n",
      "  5497.4ms [  INFO ] cleaning up resources for output tensors\n",
      "  5522.0ms [  INFO ] [QNN_CPU] QnnGraph execute start\n",
      " 10362.5ms [  INFO ] [QNN_CPU] QnnGraph execute end\n",
      " 10359.9ms [  INFO ] cleaning up resources for input tensors\n",
      " 10359.9ms [  INFO ] cleaning up resources for output tensors\n",
      " 10385.3ms [  INFO ] [QNN_CPU] QnnGraph execute start\n",
      " 15210.6ms [  INFO ] [QNN_CPU] QnnGraph execute end\n",
      " 15207.7ms [  INFO ] cleaning up resources for input tensors\n",
      " 15207.7ms [  INFO ] cleaning up resources for output tensors\n",
      " 15231.8ms [  INFO ] [QNN_CPU] QnnGraph execute start\n",
      " 20066.8ms [  INFO ] [QNN_CPU] QnnGraph execute end\n",
      " 20064.2ms [  INFO ] cleaning up resources for input tensors\n",
      " 20064.2ms [  INFO ] cleaning up resources for output tensors\n",
      " 20089.1ms [  INFO ] [QNN_CPU] QnnGraph execute start\n",
      " 24906.8ms [  INFO ] [QNN_CPU] QnnGraph execute end\n",
      " 24903.9ms [  INFO ] cleaning up resources for input tensors\n",
      " 24903.9ms [  INFO ] cleaning up resources for output tensors\n",
      " 24928.1ms [  INFO ] [QNN_CPU] QnnGraph execute start\n",
      " 29759.3ms [  INFO ] [QNN_CPU] QnnGraph execute end\n",
      " 29756.4ms [  INFO ] cleaning up resources for input tensors\n",
      " 29756.4ms [  INFO ] cleaning up resources for output tensors\n",
      " 29775.7ms [  INFO ] [QNN_CPU] QnnGraph execute start\n",
      " 34583.5ms [  INFO ] [QNN_CPU] QnnGraph execute end\n",
      " 34576.4ms [  INFO ] cleaning up resources for input tensors\n",
      " 34576.4ms [  INFO ] cleaning up resources for output tensors\n",
      " 34595.9ms [  INFO ] [QNN_CPU] QnnGraph execute start\n",
      " 39414.4ms [  INFO ] [QNN_CPU] QnnGraph execute end\n",
      " 39407.3ms [  INFO ] cleaning up resources for input tensors\n",
      " 39407.3ms [  INFO ] cleaning up resources for output tensors\n",
      " 39426.7ms [  INFO ] [QNN_CPU] QnnGraph execute start\n",
      " 44266.5ms [  INFO ] [QNN_CPU] QnnGraph execute end\n",
      " 44259.4ms [  INFO ] cleaning up resources for input tensors\n",
      " 44259.4ms [  INFO ] cleaning up resources for output tensors\n",
      " 44278.8ms [  INFO ] [QNN_CPU] QnnGraph execute start\n",
      " 49106.9ms [  INFO ] [QNN_CPU] QnnGraph execute end\n",
      " 49099.8ms [  INFO ] cleaning up resources for input tensors\n",
      " 49099.8ms [  INFO ] cleaning up resources for output tensors\n",
      " 49119.2ms [  INFO ] [QNN_CPU] QnnGraph execute start\n",
      " 53940.6ms [  INFO ] [QNN_CPU] QnnGraph execute end\n",
      " 53933.5ms [  INFO ] cleaning up resources for input tensors\n",
      " 53933.5ms [  INFO ] cleaning up resources for output tensors\n",
      " 53952.9ms [  INFO ] [QNN_CPU] QnnGraph execute start\n",
      " 58795.2ms [  INFO ] [QNN_CPU] QnnGraph execute end\n",
      " 58788.4ms [  INFO ] cleaning up resources for input tensors\n",
      " 58788.4ms [  INFO ] cleaning up resources for output tensors\n",
      " 58807.9ms [  INFO ] [QNN_CPU] QnnGraph execute start\n",
      " 63642.0ms [  INFO ] [QNN_CPU] QnnGraph execute end\n",
      " 63634.9ms [  INFO ] cleaning up resources for input tensors\n",
      " 63634.9ms [  INFO ] cleaning up resources for output tensors\n",
      " 63655.0ms [  INFO ] [QNN_CPU] QnnGraph execute start\n",
      " 68535.1ms [  INFO ] [QNN_CPU] QnnGraph execute end\n",
      " 68528.0ms [  INFO ] cleaning up resources for input tensors\n",
      " 68528.0ms [  INFO ] cleaning up resources for output tensors\n",
      " 68547.5ms [  INFO ] [QNN_CPU] QnnGraph execute start\n",
      " 73369.6ms [  INFO ] [QNN_CPU] QnnGraph execute end\n",
      " 73362.5ms [  INFO ] cleaning up resources for input tensors\n",
      " 73362.5ms [  INFO ] cleaning up resources for output tensors\n",
      " 73381.8ms [  INFO ] [QNN_CPU] QnnGraph execute start\n",
      " 78202.9ms [  INFO ] [QNN_CPU] QnnGraph execute end\n",
      " 78195.9ms [  INFO ] cleaning up resources for input tensors\n",
      " 78195.9ms [  INFO ] cleaning up resources for output tensors\n",
      " 78215.2ms [  INFO ] [QNN_CPU] QnnGraph execute start\n",
      " 83067.0ms [  INFO ] [QNN_CPU] QnnGraph execute end\n",
      " 83059.9ms [  INFO ] cleaning up resources for input tensors\n",
      " 83059.9ms [  INFO ] cleaning up resources for output tensors\n",
      " 83080.1ms [  INFO ] [QNN_CPU] QnnGraph execute start\n",
      " 87915.4ms [  INFO ] [QNN_CPU] QnnGraph execute end\n",
      " 87908.4ms [  INFO ] cleaning up resources for input tensors\n",
      " 87908.4ms [  INFO ] cleaning up resources for output tensors\n",
      " 87927.7ms [  INFO ] [QNN_CPU] QnnGraph execute start\n",
      " 92755.5ms [  INFO ] [QNN_CPU] QnnGraph execute end\n",
      " 92748.5ms [  INFO ] cleaning up resources for input tensors\n",
      " 92748.5ms [  INFO ] cleaning up resources for output tensors\n",
      " 92767.9ms [  INFO ] [QNN_CPU] QnnGraph execute start\n",
      " 97606.3ms [  INFO ] [QNN_CPU] QnnGraph execute end\n",
      " 97599.3ms [  INFO ] cleaning up resources for input tensors\n",
      " 97599.3ms [  INFO ] cleaning up resources for output tensors\n",
      " 97619.5ms [  INFO ] [QNN_CPU] QnnGraph execute start\n",
      "102442.0ms [  INFO ] [QNN_CPU] QnnGraph execute end\n",
      "102434.9ms [  INFO ] cleaning up resources for input tensors\n",
      "102434.9ms [  INFO ] cleaning up resources for output tensors\n",
      "102455.1ms [  INFO ] [QNN_CPU] QnnGraph execute start\n",
      "107310.3ms [  INFO ] [QNN_CPU] QnnGraph execute end\n",
      "107303.2ms [  INFO ] cleaning up resources for input tensors\n",
      "107303.2ms [  INFO ] cleaning up resources for output tensors\n",
      "107322.7ms [  INFO ] [QNN_CPU] QnnGraph execute start\n",
      "112135.3ms [  INFO ] [QNN_CPU] QnnGraph execute end\n",
      "112128.3ms [  INFO ] cleaning up resources for input tensors\n",
      "112128.3ms [  INFO ] cleaning up resources for output tensors\n",
      "112147.7ms [  INFO ] [QNN_CPU] QnnGraph execute start\n",
      "116974.9ms [  INFO ] [QNN_CPU] QnnGraph execute end\n",
      "116968.2ms [  INFO ] cleaning up resources for input tensors\n",
      "116968.2ms [  INFO ] cleaning up resources for output tensors\n",
      "116988.2ms [  INFO ] [QNN_CPU] QnnGraph execute start\n",
      "121825.9ms [  INFO ] [QNN_CPU] QnnGraph execute end\n",
      "121818.8ms [  INFO ] cleaning up resources for input tensors\n",
      "121818.8ms [  INFO ] cleaning up resources for output tensors\n",
      "121838.9ms [  INFO ] [QNN_CPU] QnnGraph execute start\n",
      "126651.1ms [  INFO ] [QNN_CPU] QnnGraph execute end\n",
      "126644.0ms [  INFO ] cleaning up resources for input tensors\n",
      "126644.0ms [  INFO ] cleaning up resources for output tensors\n",
      "126663.4ms [  INFO ] [QNN_CPU] QnnGraph execute start\n",
      "131494.4ms [  INFO ] [QNN_CPU] QnnGraph execute end\n",
      "131487.3ms [  INFO ] cleaning up resources for input tensors\n",
      "131487.3ms [  INFO ] cleaning up resources for output tensors\n",
      "131507.4ms [  INFO ] [QNN_CPU] QnnGraph execute start\n",
      "136363.2ms [  INFO ] [QNN_CPU] QnnGraph execute end\n",
      "136356.1ms [  INFO ] cleaning up resources for input tensors\n",
      "136356.1ms [  INFO ] cleaning up resources for output tensors\n",
      "136376.2ms [  INFO ] [QNN_CPU] QnnGraph execute start\n",
      "141202.7ms [  INFO ] [QNN_CPU] QnnGraph execute end\n",
      "141195.6ms [  INFO ] cleaning up resources for input tensors\n",
      "141195.7ms [  INFO ] cleaning up resources for output tensors\n",
      "141215.9ms [  INFO ] [QNN_CPU] QnnGraph execute start\n",
      "146136.8ms [  INFO ] [QNN_CPU] QnnGraph execute end\n",
      "146129.7ms [  INFO ] cleaning up resources for input tensors\n",
      "146129.7ms [  INFO ] cleaning up resources for output tensors\n",
      "146151.5ms [  INFO ] [QNN_CPU] QnnGraph execute start\n",
      "151452.6ms [  INFO ] [QNN_CPU] QnnGraph execute end\n",
      "151445.6ms [  INFO ] cleaning up resources for input tensors\n",
      "151445.6ms [  INFO ] cleaning up resources for output tensors\n"
     ]
    },
    {
     "name": "stderr",
     "output_type": "stream",
     "text": [
      "[INFO] Generated activations\n",
      "[INFO] Saved quantized dlc to: models/detr_resnet101_w8a8.dlc\n",
      "[INFO] DebugLog shutting down.\n"
     ]
    },
    {
     "name": "stdout",
     "output_type": "stream",
     "text": [
      "151465.5ms [  INFO ] [QNN_CPU] QnnGraph execute start\n",
      "156514.1ms [  INFO ] [QNN_CPU] QnnGraph execute end\n",
      "156507.0ms [  INFO ] cleaning up resources for input tensors\n",
      "156507.0ms [  INFO ] cleaning up resources for output tensors\n",
      "156527.1ms [  INFO ] [QNN_CPU] QnnGraph execute start\n",
      "161350.8ms [  INFO ] [QNN_CPU] QnnGraph execute end\n",
      "161343.7ms [  INFO ] cleaning up resources for input tensors\n",
      "161343.7ms [  INFO ] cleaning up resources for output tensors\n",
      "161363.1ms [  INFO ] [QNN_CPU] QnnGraph execute start\n",
      "166175.2ms [  INFO ] [QNN_CPU] QnnGraph execute end\n",
      "166168.1ms [  INFO ] cleaning up resources for input tensors\n",
      "166168.1ms [  INFO ] cleaning up resources for output tensors\n",
      "166188.3ms [  INFO ] [QNN_CPU] QnnGraph execute start\n",
      "170990.5ms [  INFO ] [QNN_CPU] QnnGraph execute end\n",
      "170983.4ms [  INFO ] cleaning up resources for input tensors\n",
      "170983.4ms [  INFO ] cleaning up resources for output tensors\n",
      "171003.3ms [  INFO ] [QNN_CPU] QnnGraph execute start\n",
      "175830.8ms [  INFO ] [QNN_CPU] QnnGraph execute end\n",
      "175823.7ms [  INFO ] cleaning up resources for input tensors\n",
      "175823.7ms [  INFO ] cleaning up resources for output tensors\n",
      "175843.1ms [  INFO ] [QNN_CPU] QnnGraph execute start\n",
      "180710.1ms [  INFO ] [QNN_CPU] QnnGraph execute end\n",
      "180703.1ms [  INFO ] cleaning up resources for input tensors\n",
      "180703.1ms [  INFO ] cleaning up resources for output tensors\n",
      "180723.3ms [  INFO ] [QNN_CPU] QnnGraph execute start\n",
      "185531.6ms [  INFO ] [QNN_CPU] QnnGraph execute end\n",
      "185524.5ms [  INFO ] cleaning up resources for input tensors\n",
      "185524.5ms [  INFO ] cleaning up resources for output tensors\n",
      "185544.7ms [  INFO ] [QNN_CPU] QnnGraph execute start\n",
      "190350.1ms [  INFO ] [QNN_CPU] QnnGraph execute end\n",
      "190343.0ms [  INFO ] cleaning up resources for input tensors\n",
      "190343.0ms [  INFO ] cleaning up resources for output tensors\n",
      "190363.1ms [  INFO ] [QNN_CPU] QnnGraph execute start\n",
      "195180.1ms [  INFO ] [QNN_CPU] QnnGraph execute end\n",
      "195173.1ms [  INFO ] cleaning up resources for input tensors\n",
      "195173.1ms [  INFO ] cleaning up resources for output tensors\n",
      "195192.6ms [  INFO ] [QNN_CPU] QnnGraph execute start\n",
      "199998.4ms [  INFO ] [QNN_CPU] QnnGraph execute end\n",
      "199991.3ms [  INFO ] cleaning up resources for input tensors\n",
      "199991.3ms [  INFO ] cleaning up resources for output tensors\n",
      "200011.5ms [  INFO ] [QNN_CPU] QnnGraph execute start\n",
      "204806.7ms [  INFO ] [QNN_CPU] QnnGraph execute end\n",
      "204799.7ms [  INFO ] cleaning up resources for input tensors\n",
      "204799.7ms [  INFO ] cleaning up resources for output tensors\n",
      "204819.0ms [  INFO ] [QNN_CPU] QnnGraph execute start\n",
      "209710.4ms [  INFO ] [QNN_CPU] QnnGraph execute end\n",
      "209703.3ms [  INFO ] cleaning up resources for input tensors\n",
      "209703.3ms [  INFO ] cleaning up resources for output tensors\n",
      "210810.6ms [  INFO ] Freeing graphsInfo\n",
      "210810.7ms [WARNING] Profile Logger with name = defaultKey doesn't exist! Returning nullptr\n",
      "210819.3ms [  INFO ] [QNN_CPU] QnnContext Free start\n",
      "210880.0ms [  INFO ] [QNN_CPU] QnnContext Free end\n",
      "210871.5ms [WARNING] Profile Logger with name = defaultKey doesn't exist!\n",
      "210880.1ms [  INFO ] [QNN_CPU] QnnBackend Free start\n",
      "210880.1ms [  INFO ] [QNN_CPU] QnnBackend Free end\n"
     ]
    }
   ],
   "source": [
    "%%bash\n",
    "source $SNPE_ROOT/bin/envsetup.sh\n",
    "snpe-dlc-quantize --input_dlc models/detr_resnet101_fp32.dlc --input_list list.txt  --output_dlc models/detr_resnet101_w8a8.dlc "
   ]
  },
  {
   "cell_type": "markdown",
   "id": "8ef45dba-afcd-4843-83b2-cf6be8b6f1f6",
   "metadata": {},
   "source": [
    "- For snpe-dlc-graph-prepare fix value of htp_soc.\n",
    "- Based on the device you will be running set value of <b>--htp_socs. Example sm8650 or sm8550</b>"
   ]
  },
  {
   "cell_type": "code",
   "execution_count": 13,
   "id": "9c7cb043-00b2-49c5-9368-60845ebb7bab",
   "metadata": {},
   "outputs": [
    {
     "name": "stdout",
     "output_type": "stream",
     "text": [
      "[INFO] AISW SDK environment set\n",
      "[INFO] QNN_SDK_ROOT: /media/code/opt/qcom/aistack/qairt/2.25.0.240728\n",
      "[INFO] SNPE_ROOT: /media/code/opt/qcom/aistack/qairt/2.25.0.240728\n"
     ]
    },
    {
     "name": "stderr",
     "output_type": "stream",
     "text": [
      "[INFO] InitializeStderr: DebugLog initialized.\n",
      "[INFO] SNPE HTP Offline Prepare: Attempting to create cache for SM8650\n",
      "[USER_INFO] Target device backend record identifier: HTP_V75_SM8650_8MB\n",
      "[USER_INFO] No cache record in the DLC matches the target device (HTP_V75_SM8650_8MB). Creating a new record\n",
      "[USER_INFO] Checking unsigned PD session\n",
      "[INFO] Attempting to open dynamically linked lib: libHtpPrepare.so\n",
      "[INFO] dlopen libHtpPrepare.so SUCCESS handle 0x55b30f624710\n",
      "[INFO] Found Interface Provider (v2.18)\n",
      "[USER_WARNING] QnnDsp <W> Initializing HtpProvider\n",
      "[USER_WARNING] QnnDsp <W> HTP arch will be deprecated, please set SoC id instead.\n",
      "[USER_WARNING] QnnDsp <W> Performance Estimates unsupported\n",
      "[USER_INFO] Platform option not set\n",
      "[USER_INFO] Created ctx=0x1 for Graph Id=0 backend=HTP SNPE Id=0x55b30f2ac4b8\n",
      "[USER_INFO] Offline Prepare VTCM size(MB) selected = 8\n",
      "[USER_INFO] Offline Prepare Optimization Level passed = 2\n",
      "[USER_ERROR] graph_prepare.cc:5440:ERROR:Cannot order graph - must have sources and sinks\n",
      "[USER_ERROR] graph_prepare.cc:2749:ERROR:Prepare failed during optimization with err:-1\n",
      "[USER_ERROR] QnnDsp <E> RouterX86 graph prepare failed 17\n",
      "[USER_ERROR] QnnDsp <E> Failed to finalize graph (id: 1) with err 1002\n",
      "[USER_ERROR] error code = 401; QnnGraph_finalize failed: 1002\n",
      "[USER_INFO] Backend Mgr ~Dtor called for backend HTP\n",
      "[USER_INFO] Cleaning up Context handle=0x1 for Graph Id=0 backend=HTP SNPE Id=0x55b30f2ac4b8\n",
      "error_code=401; error_message=Network creation has failed. QnnGraph_finalize failed: 1002; error_component=Dl Network; line_no=2454; thread_id=140019478484928\n",
      "[USER_INFO] Done Cleaning up Context handle=0x1 for Graph Id=0 backend=HTP SNPE Id=0x55b30f2ac4b8\n",
      "[ERROR] SNPE HTP Offline Prepare: Could not generate cache record for subnet 0: {0, 705}\n",
      "[ERROR] SNPE HTP Offline Prepare: Failed to generate cache for SM8650\n",
      "[INFO] ======== Run Summary ========\n",
      "[INFO]   SM8650 :  Failed\n",
      "[USER_INFO] BackendTerminate triggered\n",
      "[INFO] DebugLog shutting down.\n"
     ]
    },
    {
     "ename": "CalledProcessError",
     "evalue": "Command 'b'source $SNPE_ROOT/bin/envsetup.sh\\nsnpe-dlc-graph-prepare --input_dlc models/detr_resnet101_w8a8.dlc --htp_socs=sm8650 --set_output_tensors=5848,5856 --output_dlc=models/detr_resnet101_w8a8_gp.dlc\\n'' returned non-zero exit status 1.",
     "output_type": "error",
     "traceback": [
      "\u001b[0;31m---------------------------------------------------------------------------\u001b[0m",
      "\u001b[0;31mCalledProcessError\u001b[0m                        Traceback (most recent call last)",
      "Cell \u001b[0;32mIn[13], line 1\u001b[0m\n\u001b[0;32m----> 1\u001b[0m \u001b[43mget_ipython\u001b[49m\u001b[43m(\u001b[49m\u001b[43m)\u001b[49m\u001b[38;5;241;43m.\u001b[39;49m\u001b[43mrun_cell_magic\u001b[49m\u001b[43m(\u001b[49m\u001b[38;5;124;43m'\u001b[39;49m\u001b[38;5;124;43mbash\u001b[39;49m\u001b[38;5;124;43m'\u001b[39;49m\u001b[43m,\u001b[49m\u001b[43m \u001b[49m\u001b[38;5;124;43m'\u001b[39;49m\u001b[38;5;124;43m'\u001b[39;49m\u001b[43m,\u001b[49m\u001b[43m \u001b[49m\u001b[38;5;124;43m'\u001b[39;49m\u001b[38;5;124;43msource $SNPE_ROOT/bin/envsetup.sh\u001b[39;49m\u001b[38;5;130;43;01m\\n\u001b[39;49;00m\u001b[38;5;124;43msnpe-dlc-graph-prepare --input_dlc models/detr_resnet101_w8a8.dlc --htp_socs=sm8650 --set_output_tensors=5848,5856 --output_dlc=models/detr_resnet101_w8a8_gp.dlc\u001b[39;49m\u001b[38;5;130;43;01m\\n\u001b[39;49;00m\u001b[38;5;124;43m'\u001b[39;49m\u001b[43m)\u001b[49m\n",
      "File \u001b[0;32m~/.local/lib/python3.10/site-packages/IPython/core/interactiveshell.py:2541\u001b[0m, in \u001b[0;36mInteractiveShell.run_cell_magic\u001b[0;34m(self, magic_name, line, cell)\u001b[0m\n\u001b[1;32m   2539\u001b[0m \u001b[38;5;28;01mwith\u001b[39;00m \u001b[38;5;28mself\u001b[39m\u001b[38;5;241m.\u001b[39mbuiltin_trap:\n\u001b[1;32m   2540\u001b[0m     args \u001b[38;5;241m=\u001b[39m (magic_arg_s, cell)\n\u001b[0;32m-> 2541\u001b[0m     result \u001b[38;5;241m=\u001b[39m \u001b[43mfn\u001b[49m\u001b[43m(\u001b[49m\u001b[38;5;241;43m*\u001b[39;49m\u001b[43margs\u001b[49m\u001b[43m,\u001b[49m\u001b[43m \u001b[49m\u001b[38;5;241;43m*\u001b[39;49m\u001b[38;5;241;43m*\u001b[39;49m\u001b[43mkwargs\u001b[49m\u001b[43m)\u001b[49m\n\u001b[1;32m   2543\u001b[0m \u001b[38;5;66;03m# The code below prevents the output from being displayed\u001b[39;00m\n\u001b[1;32m   2544\u001b[0m \u001b[38;5;66;03m# when using magics with decorator @output_can_be_silenced\u001b[39;00m\n\u001b[1;32m   2545\u001b[0m \u001b[38;5;66;03m# when the last Python token in the expression is a ';'.\u001b[39;00m\n\u001b[1;32m   2546\u001b[0m \u001b[38;5;28;01mif\u001b[39;00m \u001b[38;5;28mgetattr\u001b[39m(fn, magic\u001b[38;5;241m.\u001b[39mMAGIC_OUTPUT_CAN_BE_SILENCED, \u001b[38;5;28;01mFalse\u001b[39;00m):\n",
      "File \u001b[0;32m~/.local/lib/python3.10/site-packages/IPython/core/magics/script.py:155\u001b[0m, in \u001b[0;36mScriptMagics._make_script_magic.<locals>.named_script_magic\u001b[0;34m(line, cell)\u001b[0m\n\u001b[1;32m    153\u001b[0m \u001b[38;5;28;01melse\u001b[39;00m:\n\u001b[1;32m    154\u001b[0m     line \u001b[38;5;241m=\u001b[39m script\n\u001b[0;32m--> 155\u001b[0m \u001b[38;5;28;01mreturn\u001b[39;00m \u001b[38;5;28;43mself\u001b[39;49m\u001b[38;5;241;43m.\u001b[39;49m\u001b[43mshebang\u001b[49m\u001b[43m(\u001b[49m\u001b[43mline\u001b[49m\u001b[43m,\u001b[49m\u001b[43m \u001b[49m\u001b[43mcell\u001b[49m\u001b[43m)\u001b[49m\n",
      "File \u001b[0;32m~/.local/lib/python3.10/site-packages/IPython/core/magics/script.py:315\u001b[0m, in \u001b[0;36mScriptMagics.shebang\u001b[0;34m(self, line, cell)\u001b[0m\n\u001b[1;32m    310\u001b[0m \u001b[38;5;28;01mif\u001b[39;00m args\u001b[38;5;241m.\u001b[39mraise_error \u001b[38;5;129;01mand\u001b[39;00m p\u001b[38;5;241m.\u001b[39mreturncode \u001b[38;5;241m!=\u001b[39m \u001b[38;5;241m0\u001b[39m:\n\u001b[1;32m    311\u001b[0m     \u001b[38;5;66;03m# If we get here and p.returncode is still None, we must have\u001b[39;00m\n\u001b[1;32m    312\u001b[0m     \u001b[38;5;66;03m# killed it but not yet seen its return code. We don't wait for it,\u001b[39;00m\n\u001b[1;32m    313\u001b[0m     \u001b[38;5;66;03m# in case it's stuck in uninterruptible sleep. -9 = SIGKILL\u001b[39;00m\n\u001b[1;32m    314\u001b[0m     rc \u001b[38;5;241m=\u001b[39m p\u001b[38;5;241m.\u001b[39mreturncode \u001b[38;5;129;01mor\u001b[39;00m \u001b[38;5;241m-\u001b[39m\u001b[38;5;241m9\u001b[39m\n\u001b[0;32m--> 315\u001b[0m     \u001b[38;5;28;01mraise\u001b[39;00m CalledProcessError(rc, cell)\n",
      "\u001b[0;31mCalledProcessError\u001b[0m: Command 'b'source $SNPE_ROOT/bin/envsetup.sh\\nsnpe-dlc-graph-prepare --input_dlc models/detr_resnet101_w8a8.dlc --htp_socs=sm8650 --set_output_tensors=5848,5856 --output_dlc=models/detr_resnet101_w8a8_gp.dlc\\n'' returned non-zero exit status 1."
     ]
    }
   ],
   "source": [
    "%%bash\n",
    "source $SNPE_ROOT/bin/envsetup.sh\n",
    "snpe-dlc-graph-prepare --input_dlc models/detr_resnet101_w8a8.dlc --htp_socs=sm8650 --set_output_tensors=5848,5856 --output_dlc=models/detr_resnet101_w8a8_gp.dlc"
   ]
  },
  {
   "cell_type": "markdown",
   "id": "d8561ebf-c06a-4602-9136-84dfde6813d7",
   "metadata": {},
   "source": [
    "**Optional Code blocks**\n",
    "## Creating Bin and Lib Folder On Device\n",
    "\n",
    "<b>- Below blocks are completely optional. \n",
    "- You have the model already prepared.\n",
    "- Run below code blocks only if you want to try out model by pushing it device.</b>"
   ]
  },
  {
   "cell_type": "code",
   "execution_count": 14,
   "id": "6ed7817b-0574-48b6-8c8e-3184f1ca93e0",
   "metadata": {},
   "outputs": [],
   "source": [
    "%%bash\n",
    "#source throughput.sh >>dump.txt\n",
    "export DEVICE_SHELL=\"adb -H $DEVICE_HOST -s $DEVICE_ID\"\n",
    "$DEVICE_SHELL shell \"mkdir -p /data/local/tmp/snpeexample/$SNPE_TARGET_ARCH/bin\" && $DEVICE_SHELL shell \"mkdir -p /data/local/tmp/snpeexample/$SNPE_TARGET_ARCH/lib\" && $DEVICE_SHELL shell \"mkdir -p /data/local/tmp/snpeexample/dsp/lib\"\n",
    "$DEVICE_SHELL shell \"mkdir -p /data/local/tmp/$ONDEVICE_FOLDER\""
   ]
  },
  {
   "cell_type": "markdown",
   "id": "55bb8d16-46a7-46fc-835b-0bb53b1a5a66",
   "metadata": {},
   "source": [
    "# Pusing All Bin and Lib Files on to Device\n",
    "* use hexagon-v75 for sm8650\n",
    "* use hexagon-v73 for sm8550"
   ]
  },
  {
   "cell_type": "code",
   "execution_count": 15,
   "id": "747c5228-fb41-4ba7-b1bf-b1b258dadcba",
   "metadata": {},
   "outputs": [
    {
     "name": "stdout",
     "output_type": "stream",
     "text": [
      "adb: error: cannot stat '/opt/qcom/aistack/qairt/2.25.0.240728/lib/aarch64-android/libc++_shared.so': No such file or directory\n",
      "/opt/qcom/aistack/qairt/2.25.0.240728/lib/aarch64-android/libcalculator.so: 1 file pushed. 0.1 MB/s (7824 bytes in 0.050s)\n",
      "/opt/qcom/aistack/qairt/2.25.0.240728/lib/aarch64-android/libGenie.so: 1 file pushed. 33.0 MB/s (5484272 bytes in 0.158s)\n",
      "/opt/qcom/aistack/qairt/2.25.0.240728/lib/aarch64-android/libhta_hexagon_runtime_qnn.so: 1 file pushed. 27.7 MB/s (2399608 bytes in 0.083s)\n",
      "/opt/qcom/aistack/qairt/2.25.0.240728/lib/aarch64-android/libhta_hexagon_runtime_snpe.so: 1 file pushed. 34.0 MB/s (2399608 bytes in 0.067s)\n",
      "/opt/qcom/aistack/qairt/2.25.0.240728/lib/aarch64-android/libPlatformValidatorShared.so: 1 file pushed. 34.4 MB/s (11400504 bytes in 0.316s)\n",
      "/opt/qcom/aistack/qairt/2.25.0.240728/lib/aarch64-android/libQnnChrometraceProfilingReader.so: 1 file pushed. 10.9 MB/s (574800 bytes in 0.050s)\n",
      "/opt/qcom/aistack/qairt/2.25.0.240728/lib/aarch64-android/libQnnCpu.so: 1 file pushed. 29.6 MB/s (5426536 bytes in 0.175s)\n",
      "/opt/qcom/aistack/qairt/2.25.0.240728/lib/aarch64-android/libQnnDspNetRunExtensions.so: 1 file pushed. 18.4 MB/s (694488 bytes in 0.036s)\n",
      "/opt/qcom/aistack/qairt/2.25.0.240728/lib/aarch64-android/libQnnDsp.so: 1 file pushed. 21.2 MB/s (1354040 bytes in 0.061s)\n",
      "/opt/qcom/aistack/qairt/2.25.0.240728/lib/aarch64-android/libQnnDspV66CalculatorStub.so: 1 file pushed. 0.5 MB/s (7824 bytes in 0.017s)\n",
      "/opt/qcom/aistack/qairt/2.25.0.240728/lib/aarch64-android/libQnnDspV66Stub.so: 1 file pushed. 23.2 MB/s (312456 bytes in 0.013s)\n",
      "/opt/qcom/aistack/qairt/2.25.0.240728/lib/aarch64-android/libQnnGenAiTransformerCpuOpPkg.so: 1 file pushed. 25.2 MB/s (556584 bytes in 0.021s)\n",
      "/opt/qcom/aistack/qairt/2.25.0.240728/lib/aarch64-android/libQnnGenAiTransformerModel.so: 1 file pushed. 6.8 MB/s (234456 bytes in 0.033s)\n",
      "/opt/qcom/aistack/qairt/2.25.0.240728/lib/aarch64-android/libQnnGenAiTransformer.so: 1 file pushed. 23.8 MB/s (1323696 bytes in 0.053s)\n",
      "/opt/qcom/aistack/qairt/2.25.0.240728/lib/aarch64-android/libQnnGpuNetRunExtensions.so: 1 file pushed. 28.6 MB/s (686072 bytes in 0.023s)\n",
      "/opt/qcom/aistack/qairt/2.25.0.240728/lib/aarch64-android/libQnnGpuProfilingReader.so: 1 file pushed. 25.0 MB/s (578616 bytes in 0.022s)\n",
      "/opt/qcom/aistack/qairt/2.25.0.240728/lib/aarch64-android/libQnnGpu.so: 1 file pushed. 30.4 MB/s (5394992 bytes in 0.169s)\n",
      "/opt/qcom/aistack/qairt/2.25.0.240728/lib/aarch64-android/libQnnHtaNetRunExtensions.so: 1 file pushed. 18.0 MB/s (681304 bytes in 0.036s)\n",
      "/opt/qcom/aistack/qairt/2.25.0.240728/lib/aarch64-android/libQnnHta.so: 1 file pushed. 15.3 MB/s (983128 bytes in 0.061s)\n",
      "/opt/qcom/aistack/qairt/2.25.0.240728/lib/aarch64-android/libQnnHtpNetRunExtensions.so: 1 file pushed. 28.2 MB/s (908968 bytes in 0.031s)\n",
      "/opt/qcom/aistack/qairt/2.25.0.240728/lib/aarch64-android/libQnnHtpOptraceProfilingReader.so: 1 file pushed. 25.5 MB/s (1699392 bytes in 0.063s)\n",
      "/opt/qcom/aistack/qairt/2.25.0.240728/lib/aarch64-android/libQnnHtpPrepare.so: 1 file pushed. 37.0 MB/s (30968760 bytes in 0.799s)\n",
      "/opt/qcom/aistack/qairt/2.25.0.240728/lib/aarch64-android/libQnnHtpProfilingReader.so: 1 file pushed. 18.7 MB/s (559952 bytes in 0.029s)\n",
      "/opt/qcom/aistack/qairt/2.25.0.240728/lib/aarch64-android/libQnnHtp.so: 1 file pushed. 32.5 MB/s (1816888 bytes in 0.053s)\n",
      "/opt/qcom/aistack/qairt/2.25.0.240728/lib/aarch64-android/libQnnHtpV68CalculatorStub.so: 1 file pushed. 0.5 MB/s (7888 bytes in 0.014s)\n",
      "/opt/qcom/aistack/qairt/2.25.0.240728/lib/aarch64-android/libQnnHtpV68Stub.so: 1 file pushed. 23.3 MB/s (315544 bytes in 0.013s)\n",
      "/opt/qcom/aistack/qairt/2.25.0.240728/lib/aarch64-android/libQnnHtpV69CalculatorStub.so: 1 file pushed. 1.4 MB/s (7888 bytes in 0.006s)\n",
      "/opt/qcom/aistack/qairt/2.25.0.240728/lib/aarch64-android/libQnnHtpV69Stub.so: 1 file pushed. 24.1 MB/s (316320 bytes in 0.012s)\n",
      "/opt/qcom/aistack/qairt/2.25.0.240728/lib/aarch64-android/libQnnHtpV73CalculatorStub.so: 1 file pushed. 1.6 MB/s (8448 bytes in 0.005s)\n",
      "/opt/qcom/aistack/qairt/2.25.0.240728/lib/aarch64-android/libQnnHtpV73Stub.so: 1 file pushed. 25.6 MB/s (427320 bytes in 0.016s)\n",
      "/opt/qcom/aistack/qairt/2.25.0.240728/lib/aarch64-android/libQnnHtpV75CalculatorStub.so: 1 file pushed. 1.6 MB/s (8168 bytes in 0.005s)\n",
      "/opt/qcom/aistack/qairt/2.25.0.240728/lib/aarch64-android/libQnnHtpV75Stub.so: 1 file pushed. 26.9 MB/s (427048 bytes in 0.015s)\n",
      "/opt/qcom/aistack/qairt/2.25.0.240728/lib/aarch64-android/libQnnJsonProfilingReader.so: 1 file pushed. 28.5 MB/s (583096 bytes in 0.019s)\n",
      "/opt/qcom/aistack/qairt/2.25.0.240728/lib/aarch64-android/libQnnModelDlc.so: 1 file pushed. 32.6 MB/s (1829344 bytes in 0.054s)\n",
      "/opt/qcom/aistack/qairt/2.25.0.240728/lib/aarch64-android/libQnnSaver.so: 1 file pushed. 27.2 MB/s (760920 bytes in 0.027s)\n",
      "/opt/qcom/aistack/qairt/2.25.0.240728/lib/aarch64-android/libQnnSystem.so: 1 file pushed. 22.1 MB/s (264160 bytes in 0.011s)\n",
      "/opt/qcom/aistack/qairt/2.25.0.240728/lib/aarch64-android/libQnnTFLiteDelegate.so: 1 file pushed. 31.5 MB/s (963912 bytes in 0.029s)\n",
      "/opt/qcom/aistack/qairt/2.25.0.240728/lib/aarch64-android/libSnpeDspV66Stub.so: 1 file pushed. 32.0 MB/s (1418200 bytes in 0.042s)\n",
      "/opt/qcom/aistack/qairt/2.25.0.240728/lib/aarch64-android/libSnpeHta.so: 1 file pushed. 29.4 MB/s (983128 bytes in 0.032s)\n",
      "/opt/qcom/aistack/qairt/2.25.0.240728/lib/aarch64-android/libSnpeHtpPrepare.so: 1 file pushed. 37.2 MB/s (30968760 bytes in 0.794s)\n",
      "/opt/qcom/aistack/qairt/2.25.0.240728/lib/aarch64-android/libSnpeHtpV68CalculatorStub.so: 1 file pushed. 0.6 MB/s (7888 bytes in 0.012s)\n",
      "/opt/qcom/aistack/qairt/2.25.0.240728/lib/aarch64-android/libSnpeHtpV68Stub.so: 1 file pushed. 5.5 MB/s (315544 bytes in 0.055s)\n",
      "/opt/qcom/aistack/qairt/2.25.0.240728/lib/aarch64-android/libSnpeHtpV69CalculatorStub.so: 1 file pushed. 1.3 MB/s (7888 bytes in 0.006s)\n",
      "/opt/qcom/aistack/qairt/2.25.0.240728/lib/aarch64-android/libSnpeHtpV69Stub.so: 1 file pushed. 24.4 MB/s (316320 bytes in 0.012s)\n",
      "/opt/qcom/aistack/qairt/2.25.0.240728/lib/aarch64-android/libSnpeHtpV73CalculatorStub.so: 1 file pushed. 2.4 MB/s (8448 bytes in 0.003s)\n",
      "/opt/qcom/aistack/qairt/2.25.0.240728/lib/aarch64-android/libSnpeHtpV73Stub.so: 1 file pushed. 27.2 MB/s (427336 bytes in 0.015s)\n",
      "/opt/qcom/aistack/qairt/2.25.0.240728/lib/aarch64-android/libSnpeHtpV75CalculatorStub.so: 1 file pushed. 2.1 MB/s (8168 bytes in 0.004s)\n",
      "/opt/qcom/aistack/qairt/2.25.0.240728/lib/aarch64-android/libSnpeHtpV75Stub.so: 1 file pushed. 27.3 MB/s (427064 bytes in 0.015s)\n",
      "/opt/qcom/aistack/qairt/2.25.0.240728/lib/aarch64-android/libSNPE.so: 1 file pushed. 32.6 MB/s (15118984 bytes in 0.443s)\n",
      "49 files pushed. 30.9 MB/s (132382552 bytes in 4.089s)\n",
      "/opt/qcom/aistack/qairt/2.25.0.240728/lib/hexagon-v75/unsigned/libCalculator_skel.so: 1 file pushed. 0.7 MB/s (7696 bytes in 0.010s)\n",
      "/opt/qcom/aistack/qairt/2.25.0.240728/lib/hexagon-v75/unsigned/libQnnHtpV75Skel.so: 1 file pushed. 34.8 MB/s (8072988 bytes in 0.221s)\n",
      "/opt/qcom/aistack/qairt/2.25.0.240728/lib/hexagon-v75/unsigned/libQnnHtpV75.so: 1 file pushed. 33.1 MB/s (9665636 bytes in 0.278s)\n",
      "/opt/qcom/aistack/qairt/2.25.0.240728/lib/hexagon-v75/unsigned/libQnnSaver.so: 1 file pushed. 8.3 MB/s (318044 bytes in 0.037s)\n",
      "/opt/qcom/aistack/qairt/2.25.0.240728/lib/hexagon-v75/unsigned/libQnnSystem.so: 1 file pushed. 5.5 MB/s (75544 bytes in 0.013s)\n",
      "/opt/qcom/aistack/qairt/2.25.0.240728/lib/hexagon-v75/unsigned/libSnpeHtpV75Skel.so: 1 file pushed. 34.5 MB/s (8085796 bytes in 0.223s)\n",
      "6 files pushed. 31.8 MB/s (26225704 bytes in 0.787s)\n",
      "/opt/qcom/aistack/qairt/2.25.0.240728/bin/aarch64-android/snpe-net-run: 1 file pushed. 23.9 MB/s (947960 bytes in 0.038s)\n"
     ]
    }
   ],
   "source": [
    "%%bash\n",
    "export DEVICE_SHELL=\"adb -H $DEVICE_HOST -s $DEVICE_ID\"\n",
    "# $DEVICE_SHELL push $SNPE_ROOT/lib/$SNPE_TARGET_ARCH/$SNPE_TARGET_STL /data/local/tmp/snpeexample/$SNPE_TARGET_ARCH/lib\n",
    "$DEVICE_SHELL push $SNPE_ROOT/lib/$SNPE_TARGET_ARCH/*.so /data/local/tmp/snpeexample/$SNPE_TARGET_ARCH/lib\n",
    "$DEVICE_SHELL push $SNPE_ROOT/lib/hexagon-v75/unsigned/*.so /data/local/tmp/snpeexample/dsp/lib\n",
    "$DEVICE_SHELL push $SNPE_ROOT/bin/$SNPE_TARGET_ARCH/snpe-net-run /data/local/tmp/snpeexample/$SNPE_TARGET_ARCH/bin"
   ]
  },
  {
   "cell_type": "markdown",
   "id": "a97c7322-6293-45ba-84b0-f48ff22edb67",
   "metadata": {},
   "source": [
    "# Pushing Artifacts onto Device"
   ]
  },
  {
   "cell_type": "code",
   "execution_count": 16,
   "id": "b297e7ac-dace-4d31-9fbf-e3829843f4c7",
   "metadata": {},
   "outputs": [],
   "source": [
    "%%bash\n",
    "export DEVICE_SHELL=\"adb -H $DEVICE_HOST -s $DEVICE_ID\"\n",
    "$DEVICE_SHELL shell \"mkdir -p /data/local/tmp/$ONDEVICE_FOLDER\""
   ]
  },
  {
   "cell_type": "code",
   "execution_count": 17,
   "id": "6b44ca30-4fd9-48a8-a3c5-a735a90defd2",
   "metadata": {},
   "outputs": [
    {
     "name": "stdout",
     "output_type": "stream",
     "text": [
      "raw/: 43 files pushed. 35.9 MB/s (440044800 bytes in 11.690s)\n",
      "list.txt: 1 file pushed. 0.2 MB/s (989 bytes in 0.006s)\n",
      "models/detr_resnet101_fp32.dlc: 1 file pushed. 37.8 MB/s (242544550 bytes in 6.118s)\n",
      "models/detr_resnet101_w8a8_gp.dlc: 1 file pushed. 37.8 MB/s (124838637 bytes in 3.151s)\n",
      "models/detr_resnet101_w8a8.dlc: 1 file pushed. 39.0 MB/s (61181419 bytes in 1.497s)\n"
     ]
    }
   ],
   "source": [
    "%%bash\n",
    "export DEVICE_SHELL=\"adb -H $DEVICE_HOST -s $DEVICE_ID\"\n",
    "$DEVICE_SHELL push $RAW_FILE_FOLDER /data/local/tmp/$ONDEVICE_FOLDER\n",
    "$DEVICE_SHELL push $TARGET_INPUT_LIST /data/local/tmp/$ONDEVICE_FOLDER\n",
    "$DEVICE_SHELL push $DLC32 /data/local/tmp/$ONDEVICE_FOLDER\n",
    "$DEVICE_SHELL push models/detr_resnet101_w8a8_gp.dlc /data/local/tmp/$ONDEVICE_FOLDER\n",
    "$DEVICE_SHELL push $DLC8 /data/local/tmp/$ONDEVICE_FOLDER"
   ]
  },
  {
   "cell_type": "markdown",
   "id": "b45da446-097d-452e-b9bf-289128391982",
   "metadata": {},
   "source": [
    "# Inferencing 8-bit DLC onto DSP Runtime"
   ]
  },
  {
   "cell_type": "code",
   "execution_count": 18,
   "id": "354d6786-6fd5-4860-8159-e5729d405e19",
   "metadata": {},
   "outputs": [
    {
     "name": "stdout",
     "output_type": "stream",
     "text": [
      "-------------------------------------------------------------------------------\n",
      "Model String: N/A\n",
      "SNPE v2.25.0.240728104910_97711\n",
      "-------------------------------------------------------------------------------\n",
      "\n",
      "Processing graph : detr_resnet101_fp32\n",
      "Processing DNN input(s):\n",
      "./raw/000000042528.raw\n",
      "Processing DNN input(s):\n",
      "./raw/000000015079.raw\n",
      "Processing DNN input(s):\n",
      "./raw/000000074646.raw\n",
      "Processing DNN input(s):\n",
      "./raw/000000046497.raw\n",
      "Processing DNN input(s):\n",
      "./raw/000000071451.raw\n",
      "Processing DNN input(s):\n",
      "./raw/000000025424.raw\n",
      "Processing DNN input(s):\n",
      "./raw/000000045550.raw\n",
      "Processing DNN input(s):\n",
      "./raw/000000031248.raw\n",
      "Processing DNN input(s):\n",
      "./raw/000000097679.raw\n",
      "Processing DNN input(s):\n",
      "./raw/000000054164.raw\n",
      "Processing DNN input(s):\n",
      "./raw/000000005193.raw\n",
      "Processing DNN input(s):\n",
      "./raw/000000004495.raw\n",
      "Processing DNN input(s):\n",
      "./raw/000000003661.raw\n",
      "Processing DNN input(s):\n",
      "./raw/000000052413.raw\n",
      "Processing DNN input(s):\n",
      "./raw/000000060886.raw\n",
      "Processing DNN input(s):\n",
      "./raw/000000017182.raw\n",
      "Processing DNN input(s):\n",
      "./raw/000000018193.raw\n",
      "Processing DNN input(s):\n",
      "./raw/000000068628.raw\n",
      "Processing DNN input(s):\n",
      "./raw/000000086956.raw\n",
      "Processing DNN input(s):\n",
      "./raw/000000019924.raw\n",
      "Processing DNN input(s):\n",
      "./raw/000000065485.raw\n",
      "Processing DNN input(s):\n",
      "./raw/000000040083.raw\n",
      "Processing DNN input(s):\n",
      "./raw/000000016439.raw\n",
      "Processing DNN input(s):\n",
      "./raw/000000002299.raw\n",
      "Processing DNN input(s):\n",
      "./raw/000000002592.raw\n",
      "Processing DNN input(s):\n",
      "./raw/000000094944.raw\n",
      "Processing DNN input(s):\n",
      "./raw/000000075612.raw\n",
      "Processing DNN input(s):\n",
      "./raw/000000021503.raw\n",
      "Processing DNN input(s):\n",
      "./raw/000000009400.raw\n",
      "Processing DNN input(s):\n",
      "./raw/000000099242.raw\n",
      "Processing DNN input(s):\n",
      "./raw/000000066135.raw\n",
      "Processing DNN input(s):\n",
      "./raw/000000053505.raw\n",
      "Processing DNN input(s):\n",
      "./raw/000000036844.raw\n",
      "Processing DNN input(s):\n",
      "./raw/000000073946.raw\n",
      "Processing DNN input(s):\n",
      "./raw/000000058350.raw\n",
      "Processing DNN input(s):\n",
      "./raw/000000014226.raw\n",
      "Processing DNN input(s):\n",
      "./raw/000000022705.raw\n",
      "Processing DNN input(s):\n",
      "./raw/000000023899.raw\n",
      "Processing DNN input(s):\n",
      "./raw/000000097278.raw\n",
      "Processing DNN input(s):\n",
      "./raw/000000020107.raw\n",
      "Processing DNN input(s):\n",
      "./raw/000000070739.raw\n",
      "Processing DNN input(s):\n",
      "./raw/000000080671.raw\n",
      "Processing DNN input(s):\n",
      "./raw/000000042889.raw\n",
      "Successfully executed graph detr_resnet101_fp32\n"
     ]
    }
   ],
   "source": [
    "%%bash\n",
    "export DEVICE_SHELL=\"adb -H $DEVICE_HOST -s $DEVICE_ID\"\n",
    "$DEVICE_SHELL shell\n",
    "export SNPE_TARGET_ARCH=aarch64-android\n",
    "export LD_LIBRARY_PATH=$LD_LIBRARY_PATH:/data/local/tmp/snpeexample/$SNPE_TARGET_ARCH/lib\n",
    "export PATH=$PATH:/data/local/tmp/snpeexample/$SNPE_TARGET_ARCH/bin\n",
    "export ADSP_LIBRARY_PATH=\"/data/local/tmp/snpeexample/dsp/lib;/system/lib/rfsa/adsp;/system/vendor/lib/rfsa/adsp;/dsp\"\n",
    "export OUTPUT_FOLDER=OUTPUT_8b_DSP\n",
    "export DLC8=detr_resnet101_w8a8_gp.dlc\n",
    "export ONDEVICE_FOLDER=\"detr\"\n",
    "cd /data/local/tmp/$ONDEVICE_FOLDER &&\n",
    "chmod -R 777 * &&\n",
    "snpe-net-run --container $DLC8 --input_list list.txt  --set_unconsumed_as_output --output_dir=OUTPUT_8b_DSP --use_dsp"
   ]
  },
  {
   "cell_type": "markdown",
   "id": "742e8fed-d3af-4938-b3fb-79d7ffe93b79",
   "metadata": {},
   "source": [
    "# Inferencing 32-bit DLC onto CPU Runtime"
   ]
  },
  {
   "cell_type": "code",
   "execution_count": 19,
   "id": "4670f413-3cb2-4fd6-8592-ab5b787b47ef",
   "metadata": {},
   "outputs": [
    {
     "name": "stdout",
     "output_type": "stream",
     "text": [
      "-------------------------------------------------------------------------------\n",
      "Model String: N/A\n",
      "SNPE v2.25.0.240728104910_97711\n",
      "-------------------------------------------------------------------------------\n",
      "\n",
      "Processing graph : detr_resnet101_fp32\n",
      "Processing DNN input(s):\n",
      "./raw/000000042528.raw\n",
      "Processing DNN input(s):\n",
      "./raw/000000015079.raw\n",
      "Processing DNN input(s):\n",
      "./raw/000000074646.raw\n",
      "Processing DNN input(s):\n",
      "./raw/000000046497.raw\n",
      "Processing DNN input(s):\n",
      "./raw/000000071451.raw\n",
      "Processing DNN input(s):\n",
      "./raw/000000025424.raw\n",
      "Processing DNN input(s):\n",
      "./raw/000000045550.raw\n",
      "Processing DNN input(s):\n",
      "./raw/000000031248.raw\n",
      "Processing DNN input(s):\n",
      "./raw/000000097679.raw\n",
      "Processing DNN input(s):\n",
      "./raw/000000054164.raw\n",
      "Processing DNN input(s):\n",
      "./raw/000000005193.raw\n",
      "Processing DNN input(s):\n",
      "./raw/000000004495.raw\n",
      "Processing DNN input(s):\n",
      "./raw/000000003661.raw\n",
      "Processing DNN input(s):\n",
      "./raw/000000052413.raw\n",
      "Processing DNN input(s):\n",
      "./raw/000000060886.raw\n",
      "Processing DNN input(s):\n",
      "./raw/000000017182.raw\n",
      "Processing DNN input(s):\n",
      "./raw/000000018193.raw\n",
      "Processing DNN input(s):\n",
      "./raw/000000068628.raw\n",
      "Processing DNN input(s):\n",
      "./raw/000000086956.raw\n",
      "Processing DNN input(s):\n",
      "./raw/000000019924.raw\n",
      "Processing DNN input(s):\n",
      "./raw/000000065485.raw\n",
      "Processing DNN input(s):\n",
      "./raw/000000040083.raw\n",
      "Processing DNN input(s):\n",
      "./raw/000000016439.raw\n",
      "Processing DNN input(s):\n",
      "./raw/000000002299.raw\n",
      "Processing DNN input(s):\n",
      "./raw/000000002592.raw\n",
      "Processing DNN input(s):\n",
      "./raw/000000094944.raw\n",
      "Processing DNN input(s):\n",
      "./raw/000000075612.raw\n",
      "Processing DNN input(s):\n",
      "./raw/000000021503.raw\n",
      "Processing DNN input(s):\n",
      "./raw/000000009400.raw\n",
      "Processing DNN input(s):\n",
      "./raw/000000099242.raw\n",
      "Processing DNN input(s):\n",
      "./raw/000000066135.raw\n",
      "Processing DNN input(s):\n",
      "./raw/000000053505.raw\n",
      "Processing DNN input(s):\n",
      "./raw/000000036844.raw\n",
      "Processing DNN input(s):\n",
      "./raw/000000073946.raw\n",
      "Processing DNN input(s):\n",
      "./raw/000000058350.raw\n",
      "Processing DNN input(s):\n",
      "./raw/000000014226.raw\n",
      "Processing DNN input(s):\n",
      "./raw/000000022705.raw\n",
      "Processing DNN input(s):\n",
      "./raw/000000023899.raw\n",
      "Processing DNN input(s):\n",
      "./raw/000000097278.raw\n",
      "Processing DNN input(s):\n",
      "./raw/000000020107.raw\n",
      "Processing DNN input(s):\n",
      "./raw/000000070739.raw\n",
      "Processing DNN input(s):\n",
      "./raw/000000080671.raw\n",
      "Processing DNN input(s):\n",
      "./raw/000000042889.raw\n",
      "Successfully executed graph detr_resnet101_fp32\n"
     ]
    }
   ],
   "source": [
    "%%bash\n",
    "export DEVICE_SHELL=\"adb -H $DEVICE_HOST -s $DEVICE_ID\"\n",
    "$DEVICE_SHELL shell\n",
    "export SNPE_TARGET_ARCH=aarch64-android\n",
    "export LD_LIBRARY_PATH=$LD_LIBRARY_PATH:/data/local/tmp/snpeexample/$SNPE_TARGET_ARCH/lib\n",
    "export PATH=$PATH:/data/local/tmp/snpeexample/$SNPE_TARGET_ARCH/bin\n",
    "export OUTPUT_FOLDER=OUTPUT_32b_CPU\n",
    "export DLC32=detr_resnet101_fp32.dlc\n",
    "export ONDEVICE_FOLDER=\"detr\"\n",
    "cd /data/local/tmp/$ONDEVICE_FOLDER &&\n",
    "snpe-net-run --container $DLC32 --input_list list.txt  --output_dir=OUTPUT_32b_CPU --set_unconsumed_as_output"
   ]
  },
  {
   "cell_type": "markdown",
   "id": "352f272d-4641-4f89-b622-6ab769af29d8",
   "metadata": {},
   "source": [
    "# Pulling output folder generated on different Precision and Cores"
   ]
  },
  {
   "cell_type": "code",
   "execution_count": 20,
   "id": "9744d5da-3c50-47c6-b354-ff878cc58288",
   "metadata": {},
   "outputs": [
    {
     "name": "stdout",
     "output_type": "stream",
     "text": [
      "/data/local/tmp/detr/OUTPUT_8b_DSP/: 88 files pulled. 4.0 MB/s (7554712 bytes in 1.824s)\n",
      "/data/local/tmp/detr/OUTPUT_32b_CPU/: 88 files pulled. 6.5 MB/s (9094440 bytes in 1.331s)\n"
     ]
    }
   ],
   "source": [
    "%%bash\n",
    "export DEVICE_SHELL=\"adb -H $DEVICE_HOST -s $DEVICE_ID\"\n",
    "$DEVICE_SHELL pull /data/local/tmp/$ONDEVICE_FOLDER/OUTPUT_8b_DSP OUTPUT_8b_DSP\n",
    "$DEVICE_SHELL pull /data/local/tmp/$ONDEVICE_FOLDER/OUTPUT_32b_CPU OUTPUT_32b_CPU"
   ]
  },
  {
   "cell_type": "markdown",
   "id": "cb6a41e6-cb53-4a48-ad3f-847432495928",
   "metadata": {},
   "source": [
    "## Post Processing the Inferenced data"
   ]
  },
  {
   "cell_type": "code",
   "execution_count": 21,
   "id": "bad9b2db-7b39-4a2c-8dda-b3ac55206e50",
   "metadata": {},
   "outputs": [],
   "source": [
    "# Sample list of classes\n",
    "CLASSES = [\n",
    "    'N/A', 'person', 'bicycle', 'car', 'motorcycle', 'airplane', 'bus',\n",
    "    'train', 'truck', 'boat', 'traffic light', 'fire hydrant', 'N/A',\n",
    "    'stop sign', 'parking meter', 'bench', 'bird', 'cat', 'dog', 'horse',\n",
    "    'sheep', 'cow', 'elephant', 'bear', 'zebra', 'giraffe', 'N/A', 'backpack',\n",
    "    'umbrella', 'N/A', 'N/A', 'handbag', 'tie', 'suitcase', 'frisbee', 'skis',\n",
    "    'snowboard', 'sports ball', 'kite', 'baseball bat', 'baseball glove',\n",
    "    'skateboard', 'surfboard', 'tennis racket', 'bottle', 'N/A', 'wine glass',\n",
    "    'cup', 'fork', 'knife', 'spoon', 'bowl', 'banana', 'apple', 'sandwich',\n",
    "    'orange', 'broccoli', 'carrot', 'hot dog', 'pizza', 'donut', 'cake',\n",
    "    'chair', 'couch', 'potted plant', 'bed', 'N/A', 'dining table', 'N/A',\n",
    "    'N/A', 'toilet', 'N/A', 'tv', 'laptop', 'mouse', 'remote', 'keyboard',\n",
    "    'cell phone', 'microwave', 'oven', 'toaster', 'sink', 'refrigerator', 'N/A',\n",
    "    'book', 'clock', 'vase', 'scissors', 'teddy bear', 'hair drier',\n",
    "    'toothbrush'\n",
    "]\n",
    "\n",
    "# colors for visualization\n",
    "COLORS = [[0.000, 0.447, 0.741], [0.850, 0.325, 0.098], [0.929, 0.694, 0.125],\n",
    "          [0.494, 0.184, 0.556], [0.466, 0.674, 0.188], [0.301, 0.745, 0.933]]"
   ]
  },
  {
   "cell_type": "code",
   "execution_count": 24,
   "id": "4f7ba131-f92b-4538-a884-e7d7029283d8",
   "metadata": {},
   "outputs": [
    {
     "ename": "ValueError",
     "evalue": "cannot reshape array of size 400 into shape (100,91)",
     "output_type": "error",
     "traceback": [
      "\u001b[0;31m---------------------------------------------------------------------------\u001b[0m",
      "\u001b[0;31mValueError\u001b[0m                                Traceback (most recent call last)",
      "Cell \u001b[0;32mIn[24], line 24\u001b[0m\n\u001b[1;32m     22\u001b[0m file4 \u001b[38;5;241m=\u001b[39m \u001b[38;5;124m'\u001b[39m\u001b[38;5;124mOUTPUT_8b_DSP/Result_\u001b[39m\u001b[38;5;124m'\u001b[39m \u001b[38;5;241m+\u001b[39m \u001b[38;5;28mstr\u001b[39m(count) \u001b[38;5;241m+\u001b[39m \u001b[38;5;124m'\u001b[39m\u001b[38;5;124m/5856.raw\u001b[39m\u001b[38;5;124m'\u001b[39m\n\u001b[1;32m     23\u001b[0m a\u001b[38;5;241m=\u001b[39mnp\u001b[38;5;241m.\u001b[39mfromfile(file1,np\u001b[38;5;241m.\u001b[39mfloat32)\n\u001b[0;32m---> 24\u001b[0m a\u001b[38;5;241m=\u001b[39m\u001b[43ma\u001b[49m\u001b[38;5;241;43m.\u001b[39;49m\u001b[43mreshape\u001b[49m\u001b[43m(\u001b[49m\u001b[38;5;241;43m100\u001b[39;49m\u001b[43m,\u001b[49m\u001b[38;5;241;43m91\u001b[39;49m\u001b[43m)\u001b[49m\n\u001b[1;32m     25\u001b[0m tensor_a \u001b[38;5;241m=\u001b[39m torch\u001b[38;5;241m.\u001b[39mfrom_numpy(a)\n\u001b[1;32m     26\u001b[0m b\u001b[38;5;241m=\u001b[39mnp\u001b[38;5;241m.\u001b[39mfromfile(file2,np\u001b[38;5;241m.\u001b[39mfloat32)\n",
      "\u001b[0;31mValueError\u001b[0m: cannot reshape array of size 400 into shape (100,91)"
     ]
    }
   ],
   "source": [
    "import matplotlib.pyplot as plt\n",
    "Image_Paths=[]\n",
    "\n",
    "with open('list.txt', 'r') as f:\n",
    "    for line in f:\n",
    "        Image_Paths.append(line.strip().split(\"/\")[-1].split(\".\")[0])\n",
    "\n",
    "\n",
    "count=Image_count=0\n",
    "if os.path.exists(\"output\")==False:\n",
    "    os.mkdir(\"output\")\n",
    "if os.path.exists(\"output/CPU\")==False:\n",
    "    os.mkdir(\"output/CPU\")\n",
    "if os.path.exists(\"output/DSP\")==False:\n",
    "    os.mkdir(\"output/DSP\")\n",
    "for image in Image_Paths:\n",
    "    image_path = 'val2017/'+image+\".jpg\"\n",
    "    im = Image.open(image_path)\n",
    "    file1 = 'OUTPUT_32b_CPU/Result_' + str(count) + '/5875.raw'\n",
    "    file2 = 'OUTPUT_32b_CPU/Result_' + str(count) + '/5882.raw'\n",
    "    file3 = 'OUTPUT_8b_DSP/Result_' + str(count) + '/5848.raw'\n",
    "    file4 = 'OUTPUT_8b_DSP/Result_' + str(count) + '/5856.raw'\n",
    "    a=np.fromfile(file1,np.float32)\n",
    "    a=a.reshape(100,91)\n",
    "    tensor_a = torch.from_numpy(a)\n",
    "    b=np.fromfile(file2,np.float32)\n",
    "    b=b.reshape(1,100,4)\n",
    "    tensor_b = torch.from_numpy(b)\n",
    "\n",
    "    c=np.fromfile(file3,np.float32)\n",
    "    c=c.reshape(100,91)\n",
    "    tensor_c = torch.from_numpy(c)\n",
    "    d=np.fromfile(file4,np.float32)\n",
    "    d=d.reshape(1,100,4)\n",
    "    tensor_d = torch.from_numpy(d)\n",
    "\n",
    "\n",
    "    \n",
    "    probas = tensor_a\n",
    "    keep = probas.max(-1).values > 0.9\n",
    "    bboxes_scaled = rescale_bboxes(tensor_b[0, keep], im.size)\n",
    "    print(\"CPU FP32 Inference Result\")\n",
    "    plot_results(im, probas[keep], bboxes_scaled,Image_count)\n",
    "    Image_count=Image_count+1\n",
    "\n",
    "    probas = tensor_c\n",
    "    keep = probas.max(-1).values > 0.9\n",
    "    bboxes_scaled = rescale_bboxes(tensor_d[0, keep], im.size)\n",
    "    print(\"DSP INT8 Inference Result\")\n",
    "    plot_results(im, probas[keep], bboxes_scaled,Image_count)\n",
    "    Image_count=Image_count+1\n",
    "    count=count+1"
   ]
  },
  {
   "cell_type": "code",
   "execution_count": null,
   "id": "11e0e3a6-c33d-4320-b61d-e224c85e6438",
   "metadata": {},
   "outputs": [],
   "source": []
  },
  {
   "cell_type": "code",
   "execution_count": null,
   "id": "83386c6f-7c23-4bfb-af4e-8e91d90e129d",
   "metadata": {},
   "outputs": [],
   "source": []
  }
 ],
 "metadata": {
  "kernelspec": {
   "display_name": "py10",
   "language": "python",
   "name": "python3"
  },
  "language_info": {
   "codemirror_mode": {
    "name": "ipython",
    "version": 3
   },
   "file_extension": ".py",
   "mimetype": "text/x-python",
   "name": "python",
   "nbconvert_exporter": "python",
   "pygments_lexer": "ipython3",
   "version": "3.10.12"
  }
 },
 "nbformat": 4,
 "nbformat_minor": 5
}
